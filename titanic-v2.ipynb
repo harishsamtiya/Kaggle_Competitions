{
 "cells": [
  {
   "cell_type": "code",
   "execution_count": 1,
   "id": "179979ed",
   "metadata": {
    "_cell_guid": "b1076dfc-b9ad-4769-8c92-a6c4dae69d19",
    "_uuid": "8f2839f25d086af736a60e9eeb907d3b93b6e0e5",
    "execution": {
     "iopub.execute_input": "2024-09-10T10:03:42.306565Z",
     "iopub.status.busy": "2024-09-10T10:03:42.305982Z",
     "iopub.status.idle": "2024-09-10T10:03:44.774884Z",
     "shell.execute_reply": "2024-09-10T10:03:44.773384Z"
    },
    "papermill": {
     "duration": 2.499637,
     "end_time": "2024-09-10T10:03:44.778056",
     "exception": false,
     "start_time": "2024-09-10T10:03:42.278419",
     "status": "completed"
    },
    "tags": []
   },
   "outputs": [
    {
     "name": "stdout",
     "output_type": "stream",
     "text": [
      "/kaggle/input/titanic/train.csv\n",
      "/kaggle/input/titanic/test.csv\n",
      "/kaggle/input/titanic/gender_submission.csv\n"
     ]
    }
   ],
   "source": [
    "# This Python 3 environment comes with many helpful analytics libraries installed\n",
    "# It is defined by the kaggle/python Docker image: https://github.com/kaggle/docker-python\n",
    "# For example, here's several helpful packages to load\n",
    "\n",
    "import numpy as np # linear algebra\n",
    "import pandas as pd # data processing, CSV file I/O (e.g. pd.read_csv)\n",
    "import matplotlib.pyplot as  plt\n",
    "import seaborn as sns\n",
    "\n",
    "\n",
    "# Input data files are available in the read-only \"../input/\" directory\n",
    "# For example, running this (by clicking run or pressing Shift+Enter) will list all files under the input directory\n",
    "\n",
    "import os\n",
    "for dirname, _, filenames in os.walk('/kaggle/input'):\n",
    "    for filename in filenames:\n",
    "        print(os.path.join(dirname, filename))\n",
    "\n",
    "# You can write up to 20GB to the current directory (/kaggle/working/) that gets preserved as output when you create a version using \"Save & Run All\" \n",
    "# You can also write temporary files to /kaggle/temp/, but they won't be saved outside of the current session"
   ]
  },
  {
   "cell_type": "code",
   "execution_count": 2,
   "id": "f8f0ce66",
   "metadata": {
    "execution": {
     "iopub.execute_input": "2024-09-10T10:03:44.830199Z",
     "iopub.status.busy": "2024-09-10T10:03:44.829524Z",
     "iopub.status.idle": "2024-09-10T10:03:44.880684Z",
     "shell.execute_reply": "2024-09-10T10:03:44.878830Z"
    },
    "papermill": {
     "duration": 0.08024,
     "end_time": "2024-09-10T10:03:44.883378",
     "exception": false,
     "start_time": "2024-09-10T10:03:44.803138",
     "status": "completed"
    },
    "tags": []
   },
   "outputs": [
    {
     "name": "stdout",
     "output_type": "stream",
     "text": [
      "df_train shape (891, 12), df_test shape (418, 11), df_all shape (1309, 12)\n"
     ]
    }
   ],
   "source": [
    "df_train = pd.read_csv('../input/titanic/train.csv')\n",
    "df_test = pd.read_csv('../input/titanic/test.csv')\n",
    "\n",
    "df_all = pd.concat([df_train, df_test], axis=0, sort=True).reset_index(drop=True)\n",
    "\n",
    "print(f'df_train shape {df_train.shape}, df_test shape {df_test.shape}, df_all shape {df_all.shape}')"
   ]
  },
  {
   "cell_type": "code",
   "execution_count": 3,
   "id": "7ab1ac84",
   "metadata": {
    "execution": {
     "iopub.execute_input": "2024-09-10T10:03:44.935969Z",
     "iopub.status.busy": "2024-09-10T10:03:44.935426Z",
     "iopub.status.idle": "2024-09-10T10:03:44.961327Z",
     "shell.execute_reply": "2024-09-10T10:03:44.960225Z"
    },
    "papermill": {
     "duration": 0.055396,
     "end_time": "2024-09-10T10:03:44.964478",
     "exception": false,
     "start_time": "2024-09-10T10:03:44.909082",
     "status": "completed"
    },
    "tags": []
   },
   "outputs": [
    {
     "name": "stdout",
     "output_type": "stream",
     "text": [
      "<class 'pandas.core.frame.DataFrame'>\n",
      "RangeIndex: 1309 entries, 0 to 1308\n",
      "Data columns (total 12 columns):\n",
      " #   Column       Non-Null Count  Dtype  \n",
      "---  ------       --------------  -----  \n",
      " 0   Age          1046 non-null   float64\n",
      " 1   Cabin        295 non-null    object \n",
      " 2   Embarked     1307 non-null   object \n",
      " 3   Fare         1308 non-null   float64\n",
      " 4   Name         1309 non-null   object \n",
      " 5   Parch        1309 non-null   int64  \n",
      " 6   PassengerId  1309 non-null   int64  \n",
      " 7   Pclass       1309 non-null   int64  \n",
      " 8   Sex          1309 non-null   object \n",
      " 9   SibSp        1309 non-null   int64  \n",
      " 10  Survived     891 non-null    float64\n",
      " 11  Ticket       1309 non-null   object \n",
      "dtypes: float64(3), int64(4), object(5)\n",
      "memory usage: 122.8+ KB\n"
     ]
    }
   ],
   "source": [
    "df_all.info()"
   ]
  },
  {
   "cell_type": "code",
   "execution_count": 4,
   "id": "99a56152",
   "metadata": {
    "execution": {
     "iopub.execute_input": "2024-09-10T10:03:45.020342Z",
     "iopub.status.busy": "2024-09-10T10:03:45.018829Z",
     "iopub.status.idle": "2024-09-10T10:03:45.051196Z",
     "shell.execute_reply": "2024-09-10T10:03:45.049692Z"
    },
    "papermill": {
     "duration": 0.065458,
     "end_time": "2024-09-10T10:03:45.054429",
     "exception": false,
     "start_time": "2024-09-10T10:03:44.988971",
     "status": "completed"
    },
    "tags": []
   },
   "outputs": [
    {
     "data": {
      "text/html": [
       "<div>\n",
       "<style scoped>\n",
       "    .dataframe tbody tr th:only-of-type {\n",
       "        vertical-align: middle;\n",
       "    }\n",
       "\n",
       "    .dataframe tbody tr th {\n",
       "        vertical-align: top;\n",
       "    }\n",
       "\n",
       "    .dataframe thead th {\n",
       "        text-align: right;\n",
       "    }\n",
       "</style>\n",
       "<table border=\"1\" class=\"dataframe\">\n",
       "  <thead>\n",
       "    <tr style=\"text-align: right;\">\n",
       "      <th></th>\n",
       "      <th>Age</th>\n",
       "      <th>Cabin</th>\n",
       "      <th>Embarked</th>\n",
       "      <th>Fare</th>\n",
       "      <th>Name</th>\n",
       "      <th>Parch</th>\n",
       "      <th>PassengerId</th>\n",
       "      <th>Pclass</th>\n",
       "      <th>Sex</th>\n",
       "      <th>SibSp</th>\n",
       "      <th>Survived</th>\n",
       "      <th>Ticket</th>\n",
       "    </tr>\n",
       "  </thead>\n",
       "  <tbody>\n",
       "    <tr>\n",
       "      <th>619</th>\n",
       "      <td>26.0</td>\n",
       "      <td>NaN</td>\n",
       "      <td>S</td>\n",
       "      <td>10.5000</td>\n",
       "      <td>Gavey, Mr. Lawrence</td>\n",
       "      <td>0</td>\n",
       "      <td>620</td>\n",
       "      <td>2</td>\n",
       "      <td>male</td>\n",
       "      <td>0</td>\n",
       "      <td>0.0</td>\n",
       "      <td>31028</td>\n",
       "    </tr>\n",
       "    <tr>\n",
       "      <th>1175</th>\n",
       "      <td>2.0</td>\n",
       "      <td>NaN</td>\n",
       "      <td>S</td>\n",
       "      <td>20.2125</td>\n",
       "      <td>Rosblom, Miss. Salli Helena</td>\n",
       "      <td>1</td>\n",
       "      <td>1176</td>\n",
       "      <td>3</td>\n",
       "      <td>female</td>\n",
       "      <td>1</td>\n",
       "      <td>NaN</td>\n",
       "      <td>370129</td>\n",
       "    </tr>\n",
       "    <tr>\n",
       "      <th>409</th>\n",
       "      <td>NaN</td>\n",
       "      <td>NaN</td>\n",
       "      <td>S</td>\n",
       "      <td>25.4667</td>\n",
       "      <td>Lefebre, Miss. Ida</td>\n",
       "      <td>1</td>\n",
       "      <td>410</td>\n",
       "      <td>3</td>\n",
       "      <td>female</td>\n",
       "      <td>3</td>\n",
       "      <td>0.0</td>\n",
       "      <td>4133</td>\n",
       "    </tr>\n",
       "    <tr>\n",
       "      <th>30</th>\n",
       "      <td>40.0</td>\n",
       "      <td>NaN</td>\n",
       "      <td>C</td>\n",
       "      <td>27.7208</td>\n",
       "      <td>Uruchurtu, Don. Manuel E</td>\n",
       "      <td>0</td>\n",
       "      <td>31</td>\n",
       "      <td>1</td>\n",
       "      <td>male</td>\n",
       "      <td>0</td>\n",
       "      <td>0.0</td>\n",
       "      <td>PC 17601</td>\n",
       "    </tr>\n",
       "    <tr>\n",
       "      <th>508</th>\n",
       "      <td>28.0</td>\n",
       "      <td>NaN</td>\n",
       "      <td>S</td>\n",
       "      <td>22.5250</td>\n",
       "      <td>Olsen, Mr. Henry Margido</td>\n",
       "      <td>0</td>\n",
       "      <td>509</td>\n",
       "      <td>3</td>\n",
       "      <td>male</td>\n",
       "      <td>0</td>\n",
       "      <td>0.0</td>\n",
       "      <td>C 4001</td>\n",
       "    </tr>\n",
       "  </tbody>\n",
       "</table>\n",
       "</div>"
      ],
      "text/plain": [
       "       Age Cabin Embarked     Fare                         Name  Parch  \\\n",
       "619   26.0   NaN        S  10.5000          Gavey, Mr. Lawrence      0   \n",
       "1175   2.0   NaN        S  20.2125  Rosblom, Miss. Salli Helena      1   \n",
       "409    NaN   NaN        S  25.4667           Lefebre, Miss. Ida      1   \n",
       "30    40.0   NaN        C  27.7208     Uruchurtu, Don. Manuel E      0   \n",
       "508   28.0   NaN        S  22.5250     Olsen, Mr. Henry Margido      0   \n",
       "\n",
       "      PassengerId  Pclass     Sex  SibSp  Survived    Ticket  \n",
       "619           620       2    male      0       0.0     31028  \n",
       "1175         1176       3  female      1       NaN    370129  \n",
       "409           410       3  female      3       0.0      4133  \n",
       "30             31       1    male      0       0.0  PC 17601  \n",
       "508           509       3    male      0       0.0    C 4001  "
      ]
     },
     "execution_count": 4,
     "metadata": {},
     "output_type": "execute_result"
    }
   ],
   "source": [
    "df_all.sample(5)"
   ]
  },
  {
   "cell_type": "code",
   "execution_count": 5,
   "id": "d68acf72",
   "metadata": {
    "execution": {
     "iopub.execute_input": "2024-09-10T10:03:45.106817Z",
     "iopub.status.busy": "2024-09-10T10:03:45.106279Z",
     "iopub.status.idle": "2024-09-10T10:03:45.115780Z",
     "shell.execute_reply": "2024-09-10T10:03:45.114448Z"
    },
    "papermill": {
     "duration": 0.039099,
     "end_time": "2024-09-10T10:03:45.118670",
     "exception": false,
     "start_time": "2024-09-10T10:03:45.079571",
     "status": "completed"
    },
    "tags": []
   },
   "outputs": [
    {
     "data": {
      "text/plain": [
       "array(['male', 'female'], dtype=object)"
      ]
     },
     "execution_count": 5,
     "metadata": {},
     "output_type": "execute_result"
    }
   ],
   "source": [
    "df_all.Sex.unique()"
   ]
  },
  {
   "cell_type": "code",
   "execution_count": 6,
   "id": "41924284",
   "metadata": {
    "execution": {
     "iopub.execute_input": "2024-09-10T10:03:45.173335Z",
     "iopub.status.busy": "2024-09-10T10:03:45.172887Z",
     "iopub.status.idle": "2024-09-10T10:03:45.182934Z",
     "shell.execute_reply": "2024-09-10T10:03:45.181821Z"
    },
    "papermill": {
     "duration": 0.041289,
     "end_time": "2024-09-10T10:03:45.185804",
     "exception": false,
     "start_time": "2024-09-10T10:03:45.144515",
     "status": "completed"
    },
    "tags": []
   },
   "outputs": [
    {
     "name": "stderr",
     "output_type": "stream",
     "text": [
      "/tmp/ipykernel_17/3330321790.py:1: FutureWarning: A value is trying to be set on a copy of a DataFrame or Series through chained assignment using an inplace method.\n",
      "The behavior will change in pandas 3.0. This inplace method will never work because the intermediate object on which we are setting values always behaves as a copy.\n",
      "\n",
      "For example, when doing 'df[col].method(value, inplace=True)', try using 'df.method({col: value}, inplace=True)' or df[col] = df[col].method(value) instead, to perform the operation inplace on the original object.\n",
      "\n",
      "\n",
      "  df_all.Sex.replace({'male': 1, 'female': 0}, inplace=True)\n",
      "/tmp/ipykernel_17/3330321790.py:1: FutureWarning: Downcasting behavior in `replace` is deprecated and will be removed in a future version. To retain the old behavior, explicitly call `result.infer_objects(copy=False)`. To opt-in to the future behavior, set `pd.set_option('future.no_silent_downcasting', True)`\n",
      "  df_all.Sex.replace({'male': 1, 'female': 0}, inplace=True)\n"
     ]
    }
   ],
   "source": [
    "df_all.Sex.replace({'male': 1, 'female': 0}, inplace=True)"
   ]
  },
  {
   "cell_type": "markdown",
   "id": "0a75ce99",
   "metadata": {
    "papermill": {
     "duration": 0.025768,
     "end_time": "2024-09-10T10:03:45.237442",
     "exception": false,
     "start_time": "2024-09-10T10:03:45.211674",
     "status": "completed"
    },
    "tags": []
   },
   "source": [
    "# Missing Values"
   ]
  },
  {
   "cell_type": "code",
   "execution_count": 7,
   "id": "12dea1da",
   "metadata": {
    "execution": {
     "iopub.execute_input": "2024-09-10T10:03:45.291635Z",
     "iopub.status.busy": "2024-09-10T10:03:45.291162Z",
     "iopub.status.idle": "2024-09-10T10:03:45.302032Z",
     "shell.execute_reply": "2024-09-10T10:03:45.300929Z"
    },
    "papermill": {
     "duration": 0.041411,
     "end_time": "2024-09-10T10:03:45.304608",
     "exception": false,
     "start_time": "2024-09-10T10:03:45.263197",
     "status": "completed"
    },
    "tags": []
   },
   "outputs": [
    {
     "data": {
      "text/plain": [
       "Age             263\n",
       "Cabin          1014\n",
       "Embarked          2\n",
       "Fare              1\n",
       "Name              0\n",
       "Parch             0\n",
       "PassengerId       0\n",
       "Pclass            0\n",
       "Sex               0\n",
       "SibSp             0\n",
       "Survived        418\n",
       "Ticket            0\n",
       "dtype: int64"
      ]
     },
     "execution_count": 7,
     "metadata": {},
     "output_type": "execute_result"
    }
   ],
   "source": [
    "df_all.isnull().sum()"
   ]
  },
  {
   "cell_type": "markdown",
   "id": "2a2d1d70",
   "metadata": {
    "papermill": {
     "duration": 0.027677,
     "end_time": "2024-09-10T10:03:45.358635",
     "exception": false,
     "start_time": "2024-09-10T10:03:45.330958",
     "status": "completed"
    },
    "tags": []
   },
   "source": [
    "## Age missing values"
   ]
  },
  {
   "cell_type": "code",
   "execution_count": 8,
   "id": "416aa232",
   "metadata": {
    "execution": {
     "iopub.execute_input": "2024-09-10T10:03:45.414169Z",
     "iopub.status.busy": "2024-09-10T10:03:45.413673Z",
     "iopub.status.idle": "2024-09-10T10:03:45.427325Z",
     "shell.execute_reply": "2024-09-10T10:03:45.426155Z"
    },
    "papermill": {
     "duration": 0.044591,
     "end_time": "2024-09-10T10:03:45.430029",
     "exception": false,
     "start_time": "2024-09-10T10:03:45.385438",
     "status": "completed"
    },
    "tags": []
   },
   "outputs": [
    {
     "data": {
      "text/plain": [
       "Age            1.000000\n",
       "Fare           0.178740\n",
       "Parch          0.150917\n",
       "PassengerId    0.028814\n",
       "Pclass         0.408106\n",
       "Sex            0.063645\n",
       "SibSp          0.243699\n",
       "Survived       0.077221\n",
       "Name: Age, dtype: float64"
      ]
     },
     "execution_count": 8,
     "metadata": {},
     "output_type": "execute_result"
    }
   ],
   "source": [
    "df_all.select_dtypes(include=['number']).corr()['Age'].abs()"
   ]
  },
  {
   "cell_type": "code",
   "execution_count": 9,
   "id": "437a6174",
   "metadata": {
    "execution": {
     "iopub.execute_input": "2024-09-10T10:03:45.485241Z",
     "iopub.status.busy": "2024-09-10T10:03:45.484702Z",
     "iopub.status.idle": "2024-09-10T10:03:45.496008Z",
     "shell.execute_reply": "2024-09-10T10:03:45.494544Z"
    },
    "papermill": {
     "duration": 0.043245,
     "end_time": "2024-09-10T10:03:45.499303",
     "exception": false,
     "start_time": "2024-09-10T10:03:45.456058",
     "status": "completed"
    },
    "tags": []
   },
   "outputs": [
    {
     "data": {
      "text/plain": [
       "array([3, 1, 2])"
      ]
     },
     "execution_count": 9,
     "metadata": {},
     "output_type": "execute_result"
    }
   ],
   "source": [
    "df_all.Pclass.unique()"
   ]
  },
  {
   "cell_type": "code",
   "execution_count": 10,
   "id": "59f14618",
   "metadata": {
    "execution": {
     "iopub.execute_input": "2024-09-10T10:03:45.554321Z",
     "iopub.status.busy": "2024-09-10T10:03:45.553822Z",
     "iopub.status.idle": "2024-09-10T10:03:45.571739Z",
     "shell.execute_reply": "2024-09-10T10:03:45.570397Z"
    },
    "papermill": {
     "duration": 0.049025,
     "end_time": "2024-09-10T10:03:45.574853",
     "exception": false,
     "start_time": "2024-09-10T10:03:45.525828",
     "status": "completed"
    },
    "tags": []
   },
   "outputs": [],
   "source": [
    "df_all['Age'] = df_all.groupby(['Pclass', 'Sex'])['Age'].transform(lambda x: x.fillna(x.median()))\n"
   ]
  },
  {
   "cell_type": "markdown",
   "id": "4e36482a",
   "metadata": {
    "papermill": {
     "duration": 0.025519,
     "end_time": "2024-09-10T10:03:45.626427",
     "exception": false,
     "start_time": "2024-09-10T10:03:45.600908",
     "status": "completed"
    },
    "tags": []
   },
   "source": [
    "## Age fixed"
   ]
  },
  {
   "cell_type": "code",
   "execution_count": 11,
   "id": "097285f0",
   "metadata": {
    "execution": {
     "iopub.execute_input": "2024-09-10T10:03:45.680567Z",
     "iopub.status.busy": "2024-09-10T10:03:45.680074Z",
     "iopub.status.idle": "2024-09-10T10:03:45.692375Z",
     "shell.execute_reply": "2024-09-10T10:03:45.691085Z"
    },
    "papermill": {
     "duration": 0.042587,
     "end_time": "2024-09-10T10:03:45.695020",
     "exception": false,
     "start_time": "2024-09-10T10:03:45.652433",
     "status": "completed"
    },
    "tags": []
   },
   "outputs": [
    {
     "data": {
      "text/plain": [
       "Age               0\n",
       "Cabin          1014\n",
       "Embarked          2\n",
       "Fare              1\n",
       "Name              0\n",
       "Parch             0\n",
       "PassengerId       0\n",
       "Pclass            0\n",
       "Sex               0\n",
       "SibSp             0\n",
       "Survived        418\n",
       "Ticket            0\n",
       "dtype: int64"
      ]
     },
     "execution_count": 11,
     "metadata": {},
     "output_type": "execute_result"
    }
   ],
   "source": [
    "df_all.isnull().sum()"
   ]
  },
  {
   "cell_type": "markdown",
   "id": "9edb8645",
   "metadata": {
    "papermill": {
     "duration": 0.025229,
     "end_time": "2024-09-10T10:03:45.746585",
     "exception": false,
     "start_time": "2024-09-10T10:03:45.721356",
     "status": "completed"
    },
    "tags": []
   },
   "source": [
    "## Embarked Missing values"
   ]
  },
  {
   "cell_type": "code",
   "execution_count": 12,
   "id": "6aae2f50",
   "metadata": {
    "execution": {
     "iopub.execute_input": "2024-09-10T10:03:45.800256Z",
     "iopub.status.busy": "2024-09-10T10:03:45.799703Z",
     "iopub.status.idle": "2024-09-10T10:03:45.822050Z",
     "shell.execute_reply": "2024-09-10T10:03:45.820637Z"
    },
    "papermill": {
     "duration": 0.05249,
     "end_time": "2024-09-10T10:03:45.824827",
     "exception": false,
     "start_time": "2024-09-10T10:03:45.772337",
     "status": "completed"
    },
    "tags": []
   },
   "outputs": [
    {
     "data": {
      "text/html": [
       "<div>\n",
       "<style scoped>\n",
       "    .dataframe tbody tr th:only-of-type {\n",
       "        vertical-align: middle;\n",
       "    }\n",
       "\n",
       "    .dataframe tbody tr th {\n",
       "        vertical-align: top;\n",
       "    }\n",
       "\n",
       "    .dataframe thead th {\n",
       "        text-align: right;\n",
       "    }\n",
       "</style>\n",
       "<table border=\"1\" class=\"dataframe\">\n",
       "  <thead>\n",
       "    <tr style=\"text-align: right;\">\n",
       "      <th></th>\n",
       "      <th>Age</th>\n",
       "      <th>Cabin</th>\n",
       "      <th>Embarked</th>\n",
       "      <th>Fare</th>\n",
       "      <th>Name</th>\n",
       "      <th>Parch</th>\n",
       "      <th>PassengerId</th>\n",
       "      <th>Pclass</th>\n",
       "      <th>Sex</th>\n",
       "      <th>SibSp</th>\n",
       "      <th>Survived</th>\n",
       "      <th>Ticket</th>\n",
       "    </tr>\n",
       "  </thead>\n",
       "  <tbody>\n",
       "    <tr>\n",
       "      <th>61</th>\n",
       "      <td>38.0</td>\n",
       "      <td>B28</td>\n",
       "      <td>NaN</td>\n",
       "      <td>80.0</td>\n",
       "      <td>Icard, Miss. Amelie</td>\n",
       "      <td>0</td>\n",
       "      <td>62</td>\n",
       "      <td>1</td>\n",
       "      <td>0</td>\n",
       "      <td>0</td>\n",
       "      <td>1.0</td>\n",
       "      <td>113572</td>\n",
       "    </tr>\n",
       "    <tr>\n",
       "      <th>829</th>\n",
       "      <td>62.0</td>\n",
       "      <td>B28</td>\n",
       "      <td>NaN</td>\n",
       "      <td>80.0</td>\n",
       "      <td>Stone, Mrs. George Nelson (Martha Evelyn)</td>\n",
       "      <td>0</td>\n",
       "      <td>830</td>\n",
       "      <td>1</td>\n",
       "      <td>0</td>\n",
       "      <td>0</td>\n",
       "      <td>1.0</td>\n",
       "      <td>113572</td>\n",
       "    </tr>\n",
       "  </tbody>\n",
       "</table>\n",
       "</div>"
      ],
      "text/plain": [
       "      Age Cabin Embarked  Fare                                       Name  \\\n",
       "61   38.0   B28      NaN  80.0                        Icard, Miss. Amelie   \n",
       "829  62.0   B28      NaN  80.0  Stone, Mrs. George Nelson (Martha Evelyn)   \n",
       "\n",
       "     Parch  PassengerId  Pclass  Sex  SibSp  Survived  Ticket  \n",
       "61       0           62       1    0      0       1.0  113572  \n",
       "829      0          830       1    0      0       1.0  113572  "
      ]
     },
     "execution_count": 12,
     "metadata": {},
     "output_type": "execute_result"
    }
   ],
   "source": [
    "df_all[df_all.Embarked.isnull()]"
   ]
  },
  {
   "cell_type": "code",
   "execution_count": 13,
   "id": "5db8a214",
   "metadata": {
    "execution": {
     "iopub.execute_input": "2024-09-10T10:03:45.881121Z",
     "iopub.status.busy": "2024-09-10T10:03:45.880668Z",
     "iopub.status.idle": "2024-09-10T10:03:45.888535Z",
     "shell.execute_reply": "2024-09-10T10:03:45.887164Z"
    },
    "papermill": {
     "duration": 0.039293,
     "end_time": "2024-09-10T10:03:45.891321",
     "exception": false,
     "start_time": "2024-09-10T10:03:45.852028",
     "status": "completed"
    },
    "tags": []
   },
   "outputs": [],
   "source": [
    "df_all['Embarked'] = df_all['Embarked'].fillna('S')"
   ]
  },
  {
   "cell_type": "markdown",
   "id": "686614e9",
   "metadata": {
    "papermill": {
     "duration": 0.026253,
     "end_time": "2024-09-10T10:03:45.944502",
     "exception": false,
     "start_time": "2024-09-10T10:03:45.918249",
     "status": "completed"
    },
    "tags": []
   },
   "source": [
    "## Fare Missing Values"
   ]
  },
  {
   "cell_type": "code",
   "execution_count": 14,
   "id": "0a713bf7",
   "metadata": {
    "execution": {
     "iopub.execute_input": "2024-09-10T10:03:45.999580Z",
     "iopub.status.busy": "2024-09-10T10:03:45.999087Z",
     "iopub.status.idle": "2024-09-10T10:03:46.021589Z",
     "shell.execute_reply": "2024-09-10T10:03:46.020225Z"
    },
    "papermill": {
     "duration": 0.053629,
     "end_time": "2024-09-10T10:03:46.024673",
     "exception": false,
     "start_time": "2024-09-10T10:03:45.971044",
     "status": "completed"
    },
    "tags": []
   },
   "outputs": [
    {
     "data": {
      "text/html": [
       "<div>\n",
       "<style scoped>\n",
       "    .dataframe tbody tr th:only-of-type {\n",
       "        vertical-align: middle;\n",
       "    }\n",
       "\n",
       "    .dataframe tbody tr th {\n",
       "        vertical-align: top;\n",
       "    }\n",
       "\n",
       "    .dataframe thead th {\n",
       "        text-align: right;\n",
       "    }\n",
       "</style>\n",
       "<table border=\"1\" class=\"dataframe\">\n",
       "  <thead>\n",
       "    <tr style=\"text-align: right;\">\n",
       "      <th></th>\n",
       "      <th>Age</th>\n",
       "      <th>Cabin</th>\n",
       "      <th>Embarked</th>\n",
       "      <th>Fare</th>\n",
       "      <th>Name</th>\n",
       "      <th>Parch</th>\n",
       "      <th>PassengerId</th>\n",
       "      <th>Pclass</th>\n",
       "      <th>Sex</th>\n",
       "      <th>SibSp</th>\n",
       "      <th>Survived</th>\n",
       "      <th>Ticket</th>\n",
       "    </tr>\n",
       "  </thead>\n",
       "  <tbody>\n",
       "    <tr>\n",
       "      <th>1043</th>\n",
       "      <td>60.5</td>\n",
       "      <td>NaN</td>\n",
       "      <td>S</td>\n",
       "      <td>NaN</td>\n",
       "      <td>Storey, Mr. Thomas</td>\n",
       "      <td>0</td>\n",
       "      <td>1044</td>\n",
       "      <td>3</td>\n",
       "      <td>1</td>\n",
       "      <td>0</td>\n",
       "      <td>NaN</td>\n",
       "      <td>3701</td>\n",
       "    </tr>\n",
       "  </tbody>\n",
       "</table>\n",
       "</div>"
      ],
      "text/plain": [
       "       Age Cabin Embarked  Fare                Name  Parch  PassengerId  \\\n",
       "1043  60.5   NaN        S   NaN  Storey, Mr. Thomas      0         1044   \n",
       "\n",
       "      Pclass  Sex  SibSp  Survived Ticket  \n",
       "1043       3    1      0       NaN   3701  "
      ]
     },
     "execution_count": 14,
     "metadata": {},
     "output_type": "execute_result"
    }
   ],
   "source": [
    "df_all[df_all.Fare.isnull()]"
   ]
  },
  {
   "cell_type": "code",
   "execution_count": 15,
   "id": "2db21f47",
   "metadata": {
    "execution": {
     "iopub.execute_input": "2024-09-10T10:03:46.081987Z",
     "iopub.status.busy": "2024-09-10T10:03:46.081488Z",
     "iopub.status.idle": "2024-09-10T10:03:46.095718Z",
     "shell.execute_reply": "2024-09-10T10:03:46.094510Z"
    },
    "papermill": {
     "duration": 0.045605,
     "end_time": "2024-09-10T10:03:46.098419",
     "exception": false,
     "start_time": "2024-09-10T10:03:46.052814",
     "status": "completed"
    },
    "tags": []
   },
   "outputs": [
    {
     "name": "stderr",
     "output_type": "stream",
     "text": [
      "/tmp/ipykernel_17/3622618406.py:2: FutureWarning: A value is trying to be set on a copy of a DataFrame or Series through chained assignment using an inplace method.\n",
      "The behavior will change in pandas 3.0. This inplace method will never work because the intermediate object on which we are setting values always behaves as a copy.\n",
      "\n",
      "For example, when doing 'df[col].method(value, inplace=True)', try using 'df.method({col: value}, inplace=True)' or df[col] = df[col].method(value) instead, to perform the operation inplace on the original object.\n",
      "\n",
      "\n",
      "  df_all.Fare.fillna(med_fare, inplace=True)\n"
     ]
    }
   ],
   "source": [
    "med_fare = df_all.groupby(['Pclass', 'Parch', 'Embarked']).Fare.median()[3][0]['S']\n",
    "df_all.Fare.fillna(med_fare, inplace=True)"
   ]
  },
  {
   "cell_type": "markdown",
   "id": "d18d5a5c",
   "metadata": {
    "papermill": {
     "duration": 0.109211,
     "end_time": "2024-09-10T10:03:46.235173",
     "exception": false,
     "start_time": "2024-09-10T10:03:46.125962",
     "status": "completed"
    },
    "tags": []
   },
   "source": [
    "## Cabin Missing Values"
   ]
  },
  {
   "cell_type": "code",
   "execution_count": 16,
   "id": "39ecd3df",
   "metadata": {
    "execution": {
     "iopub.execute_input": "2024-09-10T10:03:46.292065Z",
     "iopub.status.busy": "2024-09-10T10:03:46.291571Z",
     "iopub.status.idle": "2024-09-10T10:03:46.303918Z",
     "shell.execute_reply": "2024-09-10T10:03:46.302642Z"
    },
    "papermill": {
     "duration": 0.044416,
     "end_time": "2024-09-10T10:03:46.306501",
     "exception": false,
     "start_time": "2024-09-10T10:03:46.262085",
     "status": "completed"
    },
    "tags": []
   },
   "outputs": [
    {
     "data": {
      "text/plain": [
       "Age               0\n",
       "Cabin          1014\n",
       "Embarked          0\n",
       "Fare              0\n",
       "Name              0\n",
       "Parch             0\n",
       "PassengerId       0\n",
       "Pclass            0\n",
       "Sex               0\n",
       "SibSp             0\n",
       "Survived        418\n",
       "Ticket            0\n",
       "dtype: int64"
      ]
     },
     "execution_count": 16,
     "metadata": {},
     "output_type": "execute_result"
    }
   ],
   "source": [
    "df_all.isnull().sum()"
   ]
  },
  {
   "cell_type": "code",
   "execution_count": 17,
   "id": "e78ed368",
   "metadata": {
    "execution": {
     "iopub.execute_input": "2024-09-10T10:03:46.368336Z",
     "iopub.status.busy": "2024-09-10T10:03:46.367068Z",
     "iopub.status.idle": "2024-09-10T10:03:46.375656Z",
     "shell.execute_reply": "2024-09-10T10:03:46.374546Z"
    },
    "papermill": {
     "duration": 0.044709,
     "end_time": "2024-09-10T10:03:46.378325",
     "exception": false,
     "start_time": "2024-09-10T10:03:46.333616",
     "status": "completed"
    },
    "tags": []
   },
   "outputs": [
    {
     "name": "stdout",
     "output_type": "stream",
     "text": [
      "['A', 'B', 'C', 'D', 'E', 'F', 'G', 'T']\n"
     ]
    }
   ],
   "source": [
    "cabins = set()\n",
    "for cabin in df_all.Cabin.unique():\n",
    "    if pd.notna(cabin):\n",
    "        cabins.add(cabin[0])\n",
    "cabins = list(cabins)\n",
    "cabins.sort()\n",
    "print(cabins)"
   ]
  },
  {
   "cell_type": "code",
   "execution_count": 18,
   "id": "bf2e8060",
   "metadata": {
    "execution": {
     "iopub.execute_input": "2024-09-10T10:03:46.435791Z",
     "iopub.status.busy": "2024-09-10T10:03:46.434530Z",
     "iopub.status.idle": "2024-09-10T10:03:46.443377Z",
     "shell.execute_reply": "2024-09-10T10:03:46.442202Z"
    },
    "papermill": {
     "duration": 0.040206,
     "end_time": "2024-09-10T10:03:46.445902",
     "exception": false,
     "start_time": "2024-09-10T10:03:46.405696",
     "status": "completed"
    },
    "tags": []
   },
   "outputs": [],
   "source": [
    "df_all.Cabin = df_all.Cabin.apply(lambda x: x[0] if pd.notna(x)  else x)"
   ]
  },
  {
   "cell_type": "code",
   "execution_count": 19,
   "id": "bc3ec85e",
   "metadata": {
    "execution": {
     "iopub.execute_input": "2024-09-10T10:03:46.504207Z",
     "iopub.status.busy": "2024-09-10T10:03:46.503714Z",
     "iopub.status.idle": "2024-09-10T10:03:46.933678Z",
     "shell.execute_reply": "2024-09-10T10:03:46.932189Z"
    },
    "papermill": {
     "duration": 0.462716,
     "end_time": "2024-09-10T10:03:46.936439",
     "exception": false,
     "start_time": "2024-09-10T10:03:46.473723",
     "status": "completed"
    },
    "tags": []
   },
   "outputs": [
    {
     "data": {
      "image/png": "[encoded data removed]",
      "text/plain": [
       "<Figure size 1000x600 with 1 Axes>"
      ]
     },
     "metadata": {},
     "output_type": "display_data"
    }
   ],
   "source": [
    "plt.figure(figsize=(10, 6))\n",
    "sns.countplot(data=df_all, x='Cabin', order=df_all['Cabin'].value_counts().index, hue='Pclass')\n",
    "plt.title('Count of Each Cabin')\n",
    "plt.xlabel('Cabin')\n",
    "plt.ylabel('Count')\n",
    "plt.show()\n"
   ]
  },
  {
   "cell_type": "code",
   "execution_count": 20,
   "id": "e3346810",
   "metadata": {
    "execution": {
     "iopub.execute_input": "2024-09-10T10:03:46.995014Z",
     "iopub.status.busy": "2024-09-10T10:03:46.993703Z",
     "iopub.status.idle": "2024-09-10T10:03:47.008819Z",
     "shell.execute_reply": "2024-09-10T10:03:47.007335Z"
    },
    "papermill": {
     "duration": 0.04684,
     "end_time": "2024-09-10T10:03:47.011802",
     "exception": false,
     "start_time": "2024-09-10T10:03:46.964962",
     "status": "completed"
    },
    "tags": []
   },
   "outputs": [
    {
     "name": "stderr",
     "output_type": "stream",
     "text": [
      "/tmp/ipykernel_17/2483488010.py:1: FutureWarning: A value is trying to be set on a copy of a DataFrame or Series through chained assignment using an inplace method.\n",
      "The behavior will change in pandas 3.0. This inplace method will never work because the intermediate object on which we are setting values always behaves as a copy.\n",
      "\n",
      "For example, when doing 'df[col].method(value, inplace=True)', try using 'df.method({col: value}, inplace=True)' or df[col] = df[col].method(value) instead, to perform the operation inplace on the original object.\n",
      "\n",
      "\n",
      "  df_all.Cabin.replace(['A', 'B', 'C', 'T'], 'ABCT', inplace=True)\n"
     ]
    }
   ],
   "source": [
    "df_all.Cabin.replace(['A', 'B', 'C', 'T'], 'ABCT', inplace=True)\n",
    "df_all.Cabin.replace(['D', 'E'], 'DE', inplace=True)\n",
    "df_all.Cabin.replace(['F', 'G'], 'FG', inplace=True)"
   ]
  },
  {
   "cell_type": "code",
   "execution_count": 21,
   "id": "13957a16",
   "metadata": {
    "execution": {
     "iopub.execute_input": "2024-09-10T10:03:47.068551Z",
     "iopub.status.busy": "2024-09-10T10:03:47.067826Z",
     "iopub.status.idle": "2024-09-10T10:03:47.074922Z",
     "shell.execute_reply": "2024-09-10T10:03:47.073374Z"
    },
    "papermill": {
     "duration": 0.038379,
     "end_time": "2024-09-10T10:03:47.077476",
     "exception": false,
     "start_time": "2024-09-10T10:03:47.039097",
     "status": "completed"
    },
    "tags": []
   },
   "outputs": [],
   "source": [
    "df_all.Cabin.fillna('M', inplace=True)"
   ]
  },
  {
   "cell_type": "code",
   "execution_count": 22,
   "id": "24a9a1c2",
   "metadata": {
    "execution": {
     "iopub.execute_input": "2024-09-10T10:03:47.134766Z",
     "iopub.status.busy": "2024-09-10T10:03:47.134315Z",
     "iopub.status.idle": "2024-09-10T10:03:47.464588Z",
     "shell.execute_reply": "2024-09-10T10:03:47.462600Z"
    },
    "papermill": {
     "duration": 0.363357,
     "end_time": "2024-09-10T10:03:47.468872",
     "exception": false,
     "start_time": "2024-09-10T10:03:47.105515",
     "status": "completed"
    },
    "tags": []
   },
   "outputs": [
    {
     "data": {
      "text/plain": [
       "<Axes: xlabel='Cabin', ylabel='count'>"
      ]
     },
     "execution_count": 22,
     "metadata": {},
     "output_type": "execute_result"
    },
    {
     "data": {
      "image/png": "[encoded data removed]",
      "text/plain": [
       "<Figure size 640x480 with 1 Axes>"
      ]
     },
     "metadata": {},
     "output_type": "display_data"
    }
   ],
   "source": [
    "sns.countplot(data=df_all, x='Cabin' , hue='Survived')"
   ]
  },
  {
   "cell_type": "markdown",
   "id": "1c174947",
   "metadata": {
    "papermill": {
     "duration": 0.04299,
     "end_time": "2024-09-10T10:03:47.550076",
     "exception": false,
     "start_time": "2024-09-10T10:03:47.507086",
     "status": "completed"
    },
    "tags": []
   },
   "source": []
  },
  {
   "cell_type": "code",
   "execution_count": 23,
   "id": "c007c9da",
   "metadata": {
    "execution": {
     "iopub.execute_input": "2024-09-10T10:03:47.627982Z",
     "iopub.status.busy": "2024-09-10T10:03:47.627049Z",
     "iopub.status.idle": "2024-09-10T10:03:47.639338Z",
     "shell.execute_reply": "2024-09-10T10:03:47.637836Z"
    },
    "papermill": {
     "duration": 0.051715,
     "end_time": "2024-09-10T10:03:47.642002",
     "exception": false,
     "start_time": "2024-09-10T10:03:47.590287",
     "status": "completed"
    },
    "tags": []
   },
   "outputs": [
    {
     "data": {
      "text/plain": [
       "Age              0\n",
       "Cabin            0\n",
       "Embarked         0\n",
       "Fare             0\n",
       "Name             0\n",
       "Parch            0\n",
       "PassengerId      0\n",
       "Pclass           0\n",
       "Sex              0\n",
       "SibSp            0\n",
       "Survived       418\n",
       "Ticket           0\n",
       "dtype: int64"
      ]
     },
     "execution_count": 23,
     "metadata": {},
     "output_type": "execute_result"
    }
   ],
   "source": [
    "df_all.isnull().sum()"
   ]
  },
  {
   "cell_type": "code",
   "execution_count": 24,
   "id": "baf7cd2e",
   "metadata": {
    "execution": {
     "iopub.execute_input": "2024-09-10T10:03:47.708008Z",
     "iopub.status.busy": "2024-09-10T10:03:47.706996Z",
     "iopub.status.idle": "2024-09-10T10:03:47.729031Z",
     "shell.execute_reply": "2024-09-10T10:03:47.727480Z"
    },
    "papermill": {
     "duration": 0.061125,
     "end_time": "2024-09-10T10:03:47.732229",
     "exception": false,
     "start_time": "2024-09-10T10:03:47.671104",
     "status": "completed"
    },
    "tags": []
   },
   "outputs": [
    {
     "name": "stdout",
     "output_type": "stream",
     "text": [
      "<class 'pandas.core.frame.DataFrame'>\n",
      "RangeIndex: 1309 entries, 0 to 1308\n",
      "Data columns (total 12 columns):\n",
      " #   Column       Non-Null Count  Dtype  \n",
      "---  ------       --------------  -----  \n",
      " 0   Age          1309 non-null   float64\n",
      " 1   Cabin        1309 non-null   object \n",
      " 2   Embarked     1309 non-null   object \n",
      " 3   Fare         1309 non-null   float64\n",
      " 4   Name         1309 non-null   object \n",
      " 5   Parch        1309 non-null   int64  \n",
      " 6   PassengerId  1309 non-null   int64  \n",
      " 7   Pclass       1309 non-null   int64  \n",
      " 8   Sex          1309 non-null   int64  \n",
      " 9   SibSp        1309 non-null   int64  \n",
      " 10  Survived     891 non-null    float64\n",
      " 11  Ticket       1309 non-null   object \n",
      "dtypes: float64(3), int64(5), object(4)\n",
      "memory usage: 122.8+ KB\n"
     ]
    }
   ],
   "source": [
    "df_all.info()"
   ]
  },
  {
   "cell_type": "code",
   "execution_count": 25,
   "id": "c1b92591",
   "metadata": {
    "execution": {
     "iopub.execute_input": "2024-09-10T10:03:47.799385Z",
     "iopub.status.busy": "2024-09-10T10:03:47.798946Z",
     "iopub.status.idle": "2024-09-10T10:03:47.819722Z",
     "shell.execute_reply": "2024-09-10T10:03:47.818317Z"
    },
    "papermill": {
     "duration": 0.054569,
     "end_time": "2024-09-10T10:03:47.822740",
     "exception": false,
     "start_time": "2024-09-10T10:03:47.768171",
     "status": "completed"
    },
    "tags": []
   },
   "outputs": [
    {
     "data": {
      "text/html": [
       "<div>\n",
       "<style scoped>\n",
       "    .dataframe tbody tr th:only-of-type {\n",
       "        vertical-align: middle;\n",
       "    }\n",
       "\n",
       "    .dataframe tbody tr th {\n",
       "        vertical-align: top;\n",
       "    }\n",
       "\n",
       "    .dataframe thead th {\n",
       "        text-align: right;\n",
       "    }\n",
       "</style>\n",
       "<table border=\"1\" class=\"dataframe\">\n",
       "  <thead>\n",
       "    <tr style=\"text-align: right;\">\n",
       "      <th></th>\n",
       "      <th>Age</th>\n",
       "      <th>Fare</th>\n",
       "      <th>Parch</th>\n",
       "      <th>PassengerId</th>\n",
       "      <th>Pclass</th>\n",
       "      <th>Sex</th>\n",
       "      <th>SibSp</th>\n",
       "      <th>Survived</th>\n",
       "    </tr>\n",
       "  </thead>\n",
       "  <tbody>\n",
       "    <tr>\n",
       "      <th>Age</th>\n",
       "      <td>1.000000</td>\n",
       "      <td>0.198707</td>\n",
       "      <td>-0.134239</td>\n",
       "      <td>0.020478</td>\n",
       "      <td>-0.451983</td>\n",
       "      <td>0.074529</td>\n",
       "      <td>-0.204025</td>\n",
       "      <td>-0.058635</td>\n",
       "    </tr>\n",
       "    <tr>\n",
       "      <th>Fare</th>\n",
       "      <td>0.198707</td>\n",
       "      <td>1.000000</td>\n",
       "      <td>0.221668</td>\n",
       "      <td>0.031027</td>\n",
       "      <td>-0.558742</td>\n",
       "      <td>-0.185745</td>\n",
       "      <td>0.160389</td>\n",
       "      <td>0.257307</td>\n",
       "    </tr>\n",
       "    <tr>\n",
       "      <th>Parch</th>\n",
       "      <td>-0.134239</td>\n",
       "      <td>0.221668</td>\n",
       "      <td>1.000000</td>\n",
       "      <td>0.008942</td>\n",
       "      <td>0.018322</td>\n",
       "      <td>-0.213125</td>\n",
       "      <td>0.373587</td>\n",
       "      <td>0.081629</td>\n",
       "    </tr>\n",
       "    <tr>\n",
       "      <th>PassengerId</th>\n",
       "      <td>0.020478</td>\n",
       "      <td>0.031027</td>\n",
       "      <td>0.008942</td>\n",
       "      <td>1.000000</td>\n",
       "      <td>-0.038354</td>\n",
       "      <td>0.013406</td>\n",
       "      <td>-0.055224</td>\n",
       "      <td>-0.005007</td>\n",
       "    </tr>\n",
       "    <tr>\n",
       "      <th>Pclass</th>\n",
       "      <td>-0.451983</td>\n",
       "      <td>-0.558742</td>\n",
       "      <td>0.018322</td>\n",
       "      <td>-0.038354</td>\n",
       "      <td>1.000000</td>\n",
       "      <td>0.124617</td>\n",
       "      <td>0.060832</td>\n",
       "      <td>-0.338481</td>\n",
       "    </tr>\n",
       "    <tr>\n",
       "      <th>Sex</th>\n",
       "      <td>0.074529</td>\n",
       "      <td>-0.185745</td>\n",
       "      <td>-0.213125</td>\n",
       "      <td>0.013406</td>\n",
       "      <td>0.124617</td>\n",
       "      <td>1.000000</td>\n",
       "      <td>-0.109609</td>\n",
       "      <td>-0.543351</td>\n",
       "    </tr>\n",
       "    <tr>\n",
       "      <th>SibSp</th>\n",
       "      <td>-0.204025</td>\n",
       "      <td>0.160389</td>\n",
       "      <td>0.373587</td>\n",
       "      <td>-0.055224</td>\n",
       "      <td>0.060832</td>\n",
       "      <td>-0.109609</td>\n",
       "      <td>1.000000</td>\n",
       "      <td>-0.035322</td>\n",
       "    </tr>\n",
       "    <tr>\n",
       "      <th>Survived</th>\n",
       "      <td>-0.058635</td>\n",
       "      <td>0.257307</td>\n",
       "      <td>0.081629</td>\n",
       "      <td>-0.005007</td>\n",
       "      <td>-0.338481</td>\n",
       "      <td>-0.543351</td>\n",
       "      <td>-0.035322</td>\n",
       "      <td>1.000000</td>\n",
       "    </tr>\n",
       "  </tbody>\n",
       "</table>\n",
       "</div>"
      ],
      "text/plain": [
       "                  Age      Fare     Parch  PassengerId    Pclass       Sex  \\\n",
       "Age          1.000000  0.198707 -0.134239     0.020478 -0.451983  0.074529   \n",
       "Fare         0.198707  1.000000  0.221668     0.031027 -0.558742 -0.185745   \n",
       "Parch       -0.134239  0.221668  1.000000     0.008942  0.018322 -0.213125   \n",
       "PassengerId  0.020478  0.031027  0.008942     1.000000 -0.038354  0.013406   \n",
       "Pclass      -0.451983 -0.558742  0.018322    -0.038354  1.000000  0.124617   \n",
       "Sex          0.074529 -0.185745 -0.213125     0.013406  0.124617  1.000000   \n",
       "SibSp       -0.204025  0.160389  0.373587    -0.055224  0.060832 -0.109609   \n",
       "Survived    -0.058635  0.257307  0.081629    -0.005007 -0.338481 -0.543351   \n",
       "\n",
       "                SibSp  Survived  \n",
       "Age         -0.204025 -0.058635  \n",
       "Fare         0.160389  0.257307  \n",
       "Parch        0.373587  0.081629  \n",
       "PassengerId -0.055224 -0.005007  \n",
       "Pclass       0.060832 -0.338481  \n",
       "Sex         -0.109609 -0.543351  \n",
       "SibSp        1.000000 -0.035322  \n",
       "Survived    -0.035322  1.000000  "
      ]
     },
     "execution_count": 25,
     "metadata": {},
     "output_type": "execute_result"
    }
   ],
   "source": [
    "df_all.select_dtypes('number').corr()"
   ]
  },
  {
   "cell_type": "code",
   "execution_count": 26,
   "id": "457ec39b",
   "metadata": {
    "execution": {
     "iopub.execute_input": "2024-09-10T10:03:47.883181Z",
     "iopub.status.busy": "2024-09-10T10:03:47.882734Z",
     "iopub.status.idle": "2024-09-10T10:03:47.896849Z",
     "shell.execute_reply": "2024-09-10T10:03:47.895565Z"
    },
    "papermill": {
     "duration": 0.047289,
     "end_time": "2024-09-10T10:03:47.899442",
     "exception": false,
     "start_time": "2024-09-10T10:03:47.852153",
     "status": "completed"
    },
    "tags": []
   },
   "outputs": [
    {
     "data": {
      "text/plain": [
       "count    1309.000000\n",
       "mean       29.261398\n",
       "std        13.218275\n",
       "min         0.170000\n",
       "25%        22.000000\n",
       "50%        26.000000\n",
       "75%        36.000000\n",
       "max        80.000000\n",
       "Name: Age, dtype: float64"
      ]
     },
     "execution_count": 26,
     "metadata": {},
     "output_type": "execute_result"
    }
   ],
   "source": [
    "df_all.Age.describe()"
   ]
  },
  {
   "cell_type": "code",
   "execution_count": 27,
   "id": "23631ae5",
   "metadata": {
    "execution": {
     "iopub.execute_input": "2024-09-10T10:03:47.960072Z",
     "iopub.status.busy": "2024-09-10T10:03:47.959617Z",
     "iopub.status.idle": "2024-09-10T10:03:48.510031Z",
     "shell.execute_reply": "2024-09-10T10:03:48.508571Z"
    },
    "papermill": {
     "duration": 0.584183,
     "end_time": "2024-09-10T10:03:48.512911",
     "exception": false,
     "start_time": "2024-09-10T10:03:47.928728",
     "status": "completed"
    },
    "tags": []
   },
   "outputs": [
    {
     "name": "stderr",
     "output_type": "stream",
     "text": [
      "/opt/conda/lib/python3.10/site-packages/seaborn/_oldcore.py:1119: FutureWarning: use_inf_as_na option is deprecated and will be removed in a future version. Convert inf values to NaN before operating instead.\n",
      "  with pd.option_context('mode.use_inf_as_na', True):\n"
     ]
    },
    {
     "data": {
      "text/plain": [
       "<seaborn.axisgrid.FacetGrid at 0x7f3868e21e10>"
      ]
     },
     "execution_count": 27,
     "metadata": {},
     "output_type": "execute_result"
    },
    {
     "data": {
      "image/png": "[encoded data removed]",
      "text/plain": [
       "<Figure size 500x500 with 1 Axes>"
      ]
     },
     "metadata": {},
     "output_type": "display_data"
    }
   ],
   "source": [
    "sns.displot(df_all, x='Age', kde=True, bins=20)"
   ]
  },
  {
   "cell_type": "code",
   "execution_count": 28,
   "id": "d1fe3c77",
   "metadata": {
    "execution": {
     "iopub.execute_input": "2024-09-10T10:03:48.574765Z",
     "iopub.status.busy": "2024-09-10T10:03:48.574293Z",
     "iopub.status.idle": "2024-09-10T10:03:49.160342Z",
     "shell.execute_reply": "2024-09-10T10:03:49.158856Z"
    },
    "papermill": {
     "duration": 0.620363,
     "end_time": "2024-09-10T10:03:49.163191",
     "exception": false,
     "start_time": "2024-09-10T10:03:48.542828",
     "status": "completed"
    },
    "tags": []
   },
   "outputs": [
    {
     "name": "stderr",
     "output_type": "stream",
     "text": [
      "/opt/conda/lib/python3.10/site-packages/seaborn/_oldcore.py:1119: FutureWarning: use_inf_as_na option is deprecated and will be removed in a future version. Convert inf values to NaN before operating instead.\n",
      "  with pd.option_context('mode.use_inf_as_na', True):\n"
     ]
    },
    {
     "data": {
      "text/plain": [
       "<seaborn.axisgrid.FacetGrid at 0x7f3868cdda80>"
      ]
     },
     "execution_count": 28,
     "metadata": {},
     "output_type": "execute_result"
    },
    {
     "data": {
      "image/png": "[encoded data removed]",
      "text/plain": [
       "<Figure size 500x500 with 1 Axes>"
      ]
     },
     "metadata": {},
     "output_type": "display_data"
    }
   ],
   "source": [
    "sns.displot(df_all, x='Fare', kde=True, bins=100)"
   ]
  },
  {
   "cell_type": "code",
   "execution_count": 29,
   "id": "e06ca6f8",
   "metadata": {
    "execution": {
     "iopub.execute_input": "2024-09-10T10:03:49.227227Z",
     "iopub.status.busy": "2024-09-10T10:03:49.226803Z",
     "iopub.status.idle": "2024-09-10T10:03:49.236243Z",
     "shell.execute_reply": "2024-09-10T10:03:49.234829Z"
    },
    "papermill": {
     "duration": 0.04528,
     "end_time": "2024-09-10T10:03:49.239457",
     "exception": false,
     "start_time": "2024-09-10T10:03:49.194177",
     "status": "completed"
    },
    "tags": []
   },
   "outputs": [
    {
     "data": {
      "text/plain": [
       "array([1, 0, 3, 4, 2, 5, 8])"
      ]
     },
     "execution_count": 29,
     "metadata": {},
     "output_type": "execute_result"
    }
   ],
   "source": [
    "df_all.SibSp.unique()"
   ]
  },
  {
   "cell_type": "code",
   "execution_count": 30,
   "id": "66932091",
   "metadata": {
    "execution": {
     "iopub.execute_input": "2024-09-10T10:03:49.302333Z",
     "iopub.status.busy": "2024-09-10T10:03:49.301916Z",
     "iopub.status.idle": "2024-09-10T10:03:49.316359Z",
     "shell.execute_reply": "2024-09-10T10:03:49.314991Z"
    },
    "papermill": {
     "duration": 0.048974,
     "end_time": "2024-09-10T10:03:49.319275",
     "exception": false,
     "start_time": "2024-09-10T10:03:49.270301",
     "status": "completed"
    },
    "tags": []
   },
   "outputs": [
    {
     "data": {
      "text/plain": [
       "SibSp  Survived\n",
       "0      0.0         398\n",
       "       1.0         210\n",
       "1      0.0          97\n",
       "       1.0         112\n",
       "2      0.0          15\n",
       "       1.0          13\n",
       "3      0.0          12\n",
       "       1.0           4\n",
       "4      0.0          15\n",
       "       1.0           3\n",
       "5      0.0           5\n",
       "8      0.0           7\n",
       "dtype: int64"
      ]
     },
     "execution_count": 30,
     "metadata": {},
     "output_type": "execute_result"
    }
   ],
   "source": [
    "df_all.groupby(['SibSp', 'Survived']).size()"
   ]
  },
  {
   "cell_type": "code",
   "execution_count": 31,
   "id": "80cec19e",
   "metadata": {
    "execution": {
     "iopub.execute_input": "2024-09-10T10:03:49.383317Z",
     "iopub.status.busy": "2024-09-10T10:03:49.382911Z",
     "iopub.status.idle": "2024-09-10T10:03:49.767877Z",
     "shell.execute_reply": "2024-09-10T10:03:49.766401Z"
    },
    "papermill": {
     "duration": 0.420853,
     "end_time": "2024-09-10T10:03:49.770587",
     "exception": false,
     "start_time": "2024-09-10T10:03:49.349734",
     "status": "completed"
    },
    "tags": []
   },
   "outputs": [
    {
     "data": {
      "image/png": "[encoded data removed]",
      "text/plain": [
       "<Figure size 640x480 with 1 Axes>"
      ]
     },
     "metadata": {},
     "output_type": "display_data"
    }
   ],
   "source": [
    "count_data = df_all.groupby(['SibSp', 'Survived']).size().unstack(fill_value=0)\n",
    "\n",
    "# Calculate percentages\n",
    "percentage_data = count_data.div(count_data.sum(axis=1), axis=0) * 100\n",
    "\n",
    "# Plotting\n",
    "ax = percentage_data.plot(kind='bar', stacked=True, color=['red', 'green'])\n",
    "\n",
    "# Customizing the plot\n",
    "plt.title('Percentage of Passengers by Number of Siblings/Spouses and Survival Status')\n",
    "plt.ylabel('Percentage (%)')\n",
    "plt.xlabel('Number of Siblings/Spouses Aboard')\n",
    "plt.xticks(rotation=0)\n",
    "plt.legend(title='Survived', labels=['Not Survived', 'Survived'])\n",
    "plt.ylim(0, 100)  # Set y-axis limit to 100%\n",
    "plt.show()"
   ]
  },
  {
   "cell_type": "code",
   "execution_count": 32,
   "id": "8e00e21c",
   "metadata": {
    "execution": {
     "iopub.execute_input": "2024-09-10T10:03:49.836188Z",
     "iopub.status.busy": "2024-09-10T10:03:49.835716Z",
     "iopub.status.idle": "2024-09-10T10:03:49.848408Z",
     "shell.execute_reply": "2024-09-10T10:03:49.846917Z"
    },
    "papermill": {
     "duration": 0.048607,
     "end_time": "2024-09-10T10:03:49.850863",
     "exception": false,
     "start_time": "2024-09-10T10:03:49.802256",
     "status": "completed"
    },
    "tags": []
   },
   "outputs": [
    {
     "data": {
      "text/plain": [
       "array(['Small', 'Alone', 'Medium', 'Large'], dtype=object)"
      ]
     },
     "execution_count": 32,
     "metadata": {},
     "output_type": "execute_result"
    }
   ],
   "source": [
    "df_all.SibSp = df_all.SibSp.map({0: 'Alone', 1:'Small', 2:'Small', 3:'Medium', 4:'Medium', 5:'Large', 8:'Large'})\n",
    "df_all.SibSp.unique()"
   ]
  },
  {
   "cell_type": "code",
   "execution_count": 33,
   "id": "e776de31",
   "metadata": {
    "execution": {
     "iopub.execute_input": "2024-09-10T10:03:49.917433Z",
     "iopub.status.busy": "2024-09-10T10:03:49.916917Z",
     "iopub.status.idle": "2024-09-10T10:03:49.935417Z",
     "shell.execute_reply": "2024-09-10T10:03:49.934185Z"
    },
    "papermill": {
     "duration": 0.055105,
     "end_time": "2024-09-10T10:03:49.938482",
     "exception": false,
     "start_time": "2024-09-10T10:03:49.883377",
     "status": "completed"
    },
    "tags": []
   },
   "outputs": [],
   "source": [
    "df_all['Title'] = df_all.Name.str.split(',', expand=True)[1].str.split('.', expand=True)[0]\n",
    "df_all.groupby(['Title', 'Survived']).size()\n",
    "df_all.Title = df_all.Title.str.strip()"
   ]
  },
  {
   "cell_type": "code",
   "execution_count": 34,
   "id": "1ddc4cfb",
   "metadata": {
    "execution": {
     "iopub.execute_input": "2024-09-10T10:03:50.009223Z",
     "iopub.status.busy": "2024-09-10T10:03:50.008049Z",
     "iopub.status.idle": "2024-09-10T10:03:50.029933Z",
     "shell.execute_reply": "2024-09-10T10:03:50.028642Z"
    },
    "papermill": {
     "duration": 0.061462,
     "end_time": "2024-09-10T10:03:50.032917",
     "exception": false,
     "start_time": "2024-09-10T10:03:49.971455",
     "status": "completed"
    },
    "tags": []
   },
   "outputs": [
    {
     "data": {
      "text/plain": [
       "3\n",
       "Henry      24\n",
       "William    18\n",
       "John       15\n",
       "James      15\n",
       "J          12\n",
       "Joseph     12\n",
       "H          11\n",
       "Charles    10\n",
       "Edward      9\n",
       "A           8\n",
       "Name: count, dtype: int64"
      ]
     },
     "execution_count": 34,
     "metadata": {},
     "output_type": "execute_result"
    }
   ],
   "source": [
    "df_all.Name.str.split(',', expand=True)[1].str.split(' ', expand=True)[3].value_counts().head(10)"
   ]
  },
  {
   "cell_type": "code",
   "execution_count": 35,
   "id": "d61029c9",
   "metadata": {
    "execution": {
     "iopub.execute_input": "2024-09-10T10:03:50.099885Z",
     "iopub.status.busy": "2024-09-10T10:03:50.099398Z",
     "iopub.status.idle": "2024-09-10T10:03:50.110826Z",
     "shell.execute_reply": "2024-09-10T10:03:50.109566Z"
    },
    "papermill": {
     "duration": 0.048515,
     "end_time": "2024-09-10T10:03:50.113834",
     "exception": false,
     "start_time": "2024-09-10T10:03:50.065319",
     "status": "completed"
    },
    "tags": []
   },
   "outputs": [
    {
     "data": {
      "text/plain": [
       "0                                 Braund, Mr. Owen Harris\n",
       "1       Cumings, Mrs. John Bradley (Florence Briggs Th...\n",
       "2                                  Heikkinen, Miss. Laina\n",
       "3            Futrelle, Mrs. Jacques Heath (Lily May Peel)\n",
       "4                                Allen, Mr. William Henry\n",
       "                              ...                        \n",
       "1304                                   Spector, Mr. Woolf\n",
       "1305                         Oliva y Ocana, Dona. Fermina\n",
       "1306                         Saether, Mr. Simon Sivertsen\n",
       "1307                                  Ware, Mr. Frederick\n",
       "1308                             Peter, Master. Michael J\n",
       "Name: Name, Length: 1309, dtype: object"
      ]
     },
     "execution_count": 35,
     "metadata": {},
     "output_type": "execute_result"
    }
   ],
   "source": [
    "df_all.Name"
   ]
  },
  {
   "cell_type": "code",
   "execution_count": 36,
   "id": "60e9f9c5",
   "metadata": {
    "execution": {
     "iopub.execute_input": "2024-09-10T10:03:50.180107Z",
     "iopub.status.busy": "2024-09-10T10:03:50.179114Z",
     "iopub.status.idle": "2024-09-10T10:03:50.195976Z",
     "shell.execute_reply": "2024-09-10T10:03:50.194784Z"
    },
    "papermill": {
     "duration": 0.053249,
     "end_time": "2024-09-10T10:03:50.198924",
     "exception": false,
     "start_time": "2024-09-10T10:03:50.145675",
     "status": "completed"
    },
    "tags": []
   },
   "outputs": [
    {
     "name": "stdout",
     "output_type": "stream",
     "text": [
      "<class 'pandas.core.frame.DataFrame'>\n",
      "RangeIndex: 1309 entries, 0 to 1308\n",
      "Data columns (total 13 columns):\n",
      " #   Column       Non-Null Count  Dtype  \n",
      "---  ------       --------------  -----  \n",
      " 0   Age          1309 non-null   float64\n",
      " 1   Cabin        1309 non-null   object \n",
      " 2   Embarked     1309 non-null   object \n",
      " 3   Fare         1309 non-null   float64\n",
      " 4   Name         1309 non-null   object \n",
      " 5   Parch        1309 non-null   int64  \n",
      " 6   PassengerId  1309 non-null   int64  \n",
      " 7   Pclass       1309 non-null   int64  \n",
      " 8   Sex          1309 non-null   int64  \n",
      " 9   SibSp        1309 non-null   object \n",
      " 10  Survived     891 non-null    float64\n",
      " 11  Ticket       1309 non-null   object \n",
      " 12  Title        1309 non-null   object \n",
      "dtypes: float64(3), int64(4), object(6)\n",
      "memory usage: 133.1+ KB\n"
     ]
    }
   ],
   "source": [
    "df_all.info()"
   ]
  },
  {
   "cell_type": "code",
   "execution_count": 37,
   "id": "11220d2e",
   "metadata": {
    "execution": {
     "iopub.execute_input": "2024-09-10T10:03:50.264673Z",
     "iopub.status.busy": "2024-09-10T10:03:50.263623Z",
     "iopub.status.idle": "2024-09-10T10:03:50.272909Z",
     "shell.execute_reply": "2024-09-10T10:03:50.271541Z"
    },
    "papermill": {
     "duration": 0.044984,
     "end_time": "2024-09-10T10:03:50.275421",
     "exception": false,
     "start_time": "2024-09-10T10:03:50.230437",
     "status": "completed"
    },
    "tags": []
   },
   "outputs": [],
   "source": [
    "df_all['Is_Married'] = 0\n",
    "df_all.loc[df_all['Title'] == 'Mrs', 'Is_Married'] = 1"
   ]
  },
  {
   "cell_type": "code",
   "execution_count": 38,
   "id": "b99c2184",
   "metadata": {
    "execution": {
     "iopub.execute_input": "2024-09-10T10:03:50.342702Z",
     "iopub.status.busy": "2024-09-10T10:03:50.341584Z",
     "iopub.status.idle": "2024-09-10T10:03:50.351119Z",
     "shell.execute_reply": "2024-09-10T10:03:50.349809Z"
    },
    "papermill": {
     "duration": 0.045329,
     "end_time": "2024-09-10T10:03:50.353629",
     "exception": false,
     "start_time": "2024-09-10T10:03:50.308300",
     "status": "completed"
    },
    "tags": []
   },
   "outputs": [
    {
     "data": {
      "text/plain": [
       "array([0, 1])"
      ]
     },
     "execution_count": 38,
     "metadata": {},
     "output_type": "execute_result"
    }
   ],
   "source": [
    "df_all['Is_Married'].unique()"
   ]
  },
  {
   "cell_type": "code",
   "execution_count": 39,
   "id": "30062896",
   "metadata": {
    "execution": {
     "iopub.execute_input": "2024-09-10T10:03:50.423858Z",
     "iopub.status.busy": "2024-09-10T10:03:50.423368Z",
     "iopub.status.idle": "2024-09-10T10:03:50.432466Z",
     "shell.execute_reply": "2024-09-10T10:03:50.431130Z"
    },
    "papermill": {
     "duration": 0.045925,
     "end_time": "2024-09-10T10:03:50.435343",
     "exception": false,
     "start_time": "2024-09-10T10:03:50.389418",
     "status": "completed"
    },
    "tags": []
   },
   "outputs": [
    {
     "data": {
      "text/plain": [
       "Index(['Age', 'Cabin', 'Embarked', 'Fare', 'Name', 'Parch', 'PassengerId',\n",
       "       'Pclass', 'Sex', 'SibSp', 'Survived', 'Ticket', 'Title', 'Is_Married'],\n",
       "      dtype='object')"
      ]
     },
     "execution_count": 39,
     "metadata": {},
     "output_type": "execute_result"
    }
   ],
   "source": [
    "df_all.columns"
   ]
  },
  {
   "cell_type": "code",
   "execution_count": 40,
   "id": "72691079",
   "metadata": {
    "execution": {
     "iopub.execute_input": "2024-09-10T10:03:50.502812Z",
     "iopub.status.busy": "2024-09-10T10:03:50.502309Z",
     "iopub.status.idle": "2024-09-10T10:03:50.510431Z",
     "shell.execute_reply": "2024-09-10T10:03:50.509086Z"
    },
    "papermill": {
     "duration": 0.045067,
     "end_time": "2024-09-10T10:03:50.513333",
     "exception": false,
     "start_time": "2024-09-10T10:03:50.468266",
     "status": "completed"
    },
    "tags": []
   },
   "outputs": [],
   "source": [
    "df_all.drop(['Ticket', 'Name'], axis=1,inplace=True)"
   ]
  },
  {
   "cell_type": "code",
   "execution_count": 41,
   "id": "ebbe5948",
   "metadata": {
    "execution": {
     "iopub.execute_input": "2024-09-10T10:03:50.580674Z",
     "iopub.status.busy": "2024-09-10T10:03:50.579660Z",
     "iopub.status.idle": "2024-09-10T10:03:50.595123Z",
     "shell.execute_reply": "2024-09-10T10:03:50.593966Z"
    },
    "papermill": {
     "duration": 0.051702,
     "end_time": "2024-09-10T10:03:50.597711",
     "exception": false,
     "start_time": "2024-09-10T10:03:50.546009",
     "status": "completed"
    },
    "tags": []
   },
   "outputs": [
    {
     "data": {
      "text/plain": [
       "Title         Survived\n",
       "Capt          0.0           1\n",
       "Col           0.0           1\n",
       "              1.0           1\n",
       "Don           0.0           1\n",
       "Dr            0.0           4\n",
       "              1.0           3\n",
       "Jonkheer      0.0           1\n",
       "Lady          1.0           1\n",
       "Major         0.0           1\n",
       "              1.0           1\n",
       "Master        0.0          17\n",
       "              1.0          23\n",
       "Miss          0.0          55\n",
       "              1.0         127\n",
       "Mlle          1.0           2\n",
       "Mme           1.0           1\n",
       "Mr            0.0         436\n",
       "              1.0          81\n",
       "Mrs           0.0          26\n",
       "              1.0          99\n",
       "Ms            1.0           1\n",
       "Rev           0.0           6\n",
       "Sir           1.0           1\n",
       "the Countess  1.0           1\n",
       "dtype: int64"
      ]
     },
     "execution_count": 41,
     "metadata": {},
     "output_type": "execute_result"
    }
   ],
   "source": [
    "df_all.groupby(['Title', 'Survived']).size()"
   ]
  },
  {
   "cell_type": "code",
   "execution_count": 42,
   "id": "1514c421",
   "metadata": {
    "execution": {
     "iopub.execute_input": "2024-09-10T10:03:50.663959Z",
     "iopub.status.busy": "2024-09-10T10:03:50.663412Z",
     "iopub.status.idle": "2024-09-10T10:03:50.673841Z",
     "shell.execute_reply": "2024-09-10T10:03:50.672557Z"
    },
    "papermill": {
     "duration": 0.046988,
     "end_time": "2024-09-10T10:03:50.676548",
     "exception": false,
     "start_time": "2024-09-10T10:03:50.629560",
     "status": "completed"
    },
    "tags": []
   },
   "outputs": [],
   "source": [
    "Titles = {'Lady': 'Miss', 'Miss': 'Miss', 'Mrs':'Miss', 'Ms':'Miss', 'Mr':'Mr', 'Capt': 'Work', 'Rev': 'Work', 'Col':'Work', 'Dr':'Work', 'Jonkheer':'Work', 'Major':'Work','Master':'Highness', 'Sir':'Highness', }\n",
    "df_all.Title = df_all.Title.map(Titles).fillna('Other')"
   ]
  },
  {
   "cell_type": "code",
   "execution_count": 43,
   "id": "bf41b0d8",
   "metadata": {
    "execution": {
     "iopub.execute_input": "2024-09-10T10:03:50.744768Z",
     "iopub.status.busy": "2024-09-10T10:03:50.743586Z",
     "iopub.status.idle": "2024-09-10T10:03:50.757399Z",
     "shell.execute_reply": "2024-09-10T10:03:50.756114Z"
    },
    "papermill": {
     "duration": 0.050914,
     "end_time": "2024-09-10T10:03:50.760337",
     "exception": false,
     "start_time": "2024-09-10T10:03:50.709423",
     "status": "completed"
    },
    "tags": []
   },
   "outputs": [
    {
     "data": {
      "text/plain": [
       "Title     Survived\n",
       "Highness  0.0          17\n",
       "          1.0          24\n",
       "Miss      0.0          81\n",
       "          1.0         228\n",
       "Mr        0.0         436\n",
       "          1.0          81\n",
       "Other     0.0           1\n",
       "          1.0           4\n",
       "Work      0.0          14\n",
       "          1.0           5\n",
       "dtype: int64"
      ]
     },
     "execution_count": 43,
     "metadata": {},
     "output_type": "execute_result"
    }
   ],
   "source": [
    "df_all.groupby(['Title', 'Survived']).size()"
   ]
  },
  {
   "cell_type": "code",
   "execution_count": 44,
   "id": "1e06486c",
   "metadata": {
    "execution": {
     "iopub.execute_input": "2024-09-10T10:03:50.826566Z",
     "iopub.status.busy": "2024-09-10T10:03:50.826152Z",
     "iopub.status.idle": "2024-09-10T10:03:50.841912Z",
     "shell.execute_reply": "2024-09-10T10:03:50.840222Z"
    },
    "papermill": {
     "duration": 0.052453,
     "end_time": "2024-09-10T10:03:50.845038",
     "exception": false,
     "start_time": "2024-09-10T10:03:50.792585",
     "status": "completed"
    },
    "tags": []
   },
   "outputs": [
    {
     "name": "stdout",
     "output_type": "stream",
     "text": [
      "<class 'pandas.core.frame.DataFrame'>\n",
      "RangeIndex: 1309 entries, 0 to 1308\n",
      "Data columns (total 12 columns):\n",
      " #   Column       Non-Null Count  Dtype  \n",
      "---  ------       --------------  -----  \n",
      " 0   Age          1309 non-null   float64\n",
      " 1   Cabin        1309 non-null   object \n",
      " 2   Embarked     1309 non-null   object \n",
      " 3   Fare         1309 non-null   float64\n",
      " 4   Parch        1309 non-null   int64  \n",
      " 5   PassengerId  1309 non-null   int64  \n",
      " 6   Pclass       1309 non-null   int64  \n",
      " 7   Sex          1309 non-null   int64  \n",
      " 8   SibSp        1309 non-null   object \n",
      " 9   Survived     891 non-null    float64\n",
      " 10  Title        1309 non-null   object \n",
      " 11  Is_Married   1309 non-null   int64  \n",
      "dtypes: float64(3), int64(5), object(4)\n",
      "memory usage: 122.8+ KB\n"
     ]
    }
   ],
   "source": [
    "df_all.info()"
   ]
  },
  {
   "cell_type": "code",
   "execution_count": 45,
   "id": "6b761dc8",
   "metadata": {
    "execution": {
     "iopub.execute_input": "2024-09-10T10:03:50.912928Z",
     "iopub.status.busy": "2024-09-10T10:03:50.912436Z",
     "iopub.status.idle": "2024-09-10T10:03:50.920544Z",
     "shell.execute_reply": "2024-09-10T10:03:50.919100Z"
    },
    "papermill": {
     "duration": 0.045296,
     "end_time": "2024-09-10T10:03:50.923209",
     "exception": false,
     "start_time": "2024-09-10T10:03:50.877913",
     "status": "completed"
    },
    "tags": []
   },
   "outputs": [],
   "source": [
    "df_all.Pclass = df_all.Pclass.astype(str)"
   ]
  },
  {
   "cell_type": "code",
   "execution_count": 46,
   "id": "422ad2dc",
   "metadata": {
    "execution": {
     "iopub.execute_input": "2024-09-10T10:03:50.991270Z",
     "iopub.status.busy": "2024-09-10T10:03:50.990363Z",
     "iopub.status.idle": "2024-09-10T10:03:50.998829Z",
     "shell.execute_reply": "2024-09-10T10:03:50.997640Z"
    },
    "papermill": {
     "duration": 0.045929,
     "end_time": "2024-09-10T10:03:51.002271",
     "exception": false,
     "start_time": "2024-09-10T10:03:50.956342",
     "status": "completed"
    },
    "tags": []
   },
   "outputs": [
    {
     "data": {
      "text/plain": [
       "array([0, 1, 2, 5, 3, 4, 6, 9])"
      ]
     },
     "execution_count": 46,
     "metadata": {},
     "output_type": "execute_result"
    }
   ],
   "source": [
    "df_all.Parch.unique()"
   ]
  },
  {
   "cell_type": "code",
   "execution_count": 47,
   "id": "f7d9b8d0",
   "metadata": {
    "execution": {
     "iopub.execute_input": "2024-09-10T10:03:51.072178Z",
     "iopub.status.busy": "2024-09-10T10:03:51.071726Z",
     "iopub.status.idle": "2024-09-10T10:03:51.081980Z",
     "shell.execute_reply": "2024-09-10T10:03:51.080527Z"
    },
    "papermill": {
     "duration": 0.047572,
     "end_time": "2024-09-10T10:03:51.084589",
     "exception": false,
     "start_time": "2024-09-10T10:03:51.037017",
     "status": "completed"
    },
    "tags": []
   },
   "outputs": [
    {
     "data": {
      "text/plain": [
       "['Cabin', 'Embarked', 'Pclass', 'SibSp', 'Title']"
      ]
     },
     "execution_count": 47,
     "metadata": {},
     "output_type": "execute_result"
    }
   ],
   "source": [
    "features = df_all.select_dtypes(include=['object']).columns.tolist()\n",
    "features"
   ]
  },
  {
   "cell_type": "code",
   "execution_count": 48,
   "id": "fc49529c",
   "metadata": {
    "execution": {
     "iopub.execute_input": "2024-09-10T10:03:51.152434Z",
     "iopub.status.busy": "2024-09-10T10:03:51.151999Z",
     "iopub.status.idle": "2024-09-10T10:03:51.172039Z",
     "shell.execute_reply": "2024-09-10T10:03:51.170773Z"
    },
    "papermill": {
     "duration": 0.057185,
     "end_time": "2024-09-10T10:03:51.174794",
     "exception": false,
     "start_time": "2024-09-10T10:03:51.117609",
     "status": "completed"
    },
    "tags": []
   },
   "outputs": [
    {
     "data": {
      "text/html": [
       "<div>\n",
       "<style scoped>\n",
       "    .dataframe tbody tr th:only-of-type {\n",
       "        vertical-align: middle;\n",
       "    }\n",
       "\n",
       "    .dataframe tbody tr th {\n",
       "        vertical-align: top;\n",
       "    }\n",
       "\n",
       "    .dataframe thead th {\n",
       "        text-align: right;\n",
       "    }\n",
       "</style>\n",
       "<table border=\"1\" class=\"dataframe\">\n",
       "  <thead>\n",
       "    <tr style=\"text-align: right;\">\n",
       "      <th></th>\n",
       "      <th>Age</th>\n",
       "      <th>Fare</th>\n",
       "      <th>Parch</th>\n",
       "      <th>PassengerId</th>\n",
       "      <th>Sex</th>\n",
       "      <th>Survived</th>\n",
       "      <th>Is_Married</th>\n",
       "    </tr>\n",
       "  </thead>\n",
       "  <tbody>\n",
       "    <tr>\n",
       "      <th>Age</th>\n",
       "      <td>1.000000</td>\n",
       "      <td>0.198707</td>\n",
       "      <td>-0.134239</td>\n",
       "      <td>0.020478</td>\n",
       "      <td>0.074529</td>\n",
       "      <td>-0.058635</td>\n",
       "      <td>0.204468</td>\n",
       "    </tr>\n",
       "    <tr>\n",
       "      <th>Fare</th>\n",
       "      <td>0.198707</td>\n",
       "      <td>1.000000</td>\n",
       "      <td>0.221668</td>\n",
       "      <td>0.031027</td>\n",
       "      <td>-0.185745</td>\n",
       "      <td>0.257307</td>\n",
       "      <td>0.140653</td>\n",
       "    </tr>\n",
       "    <tr>\n",
       "      <th>Parch</th>\n",
       "      <td>-0.134239</td>\n",
       "      <td>0.221668</td>\n",
       "      <td>1.000000</td>\n",
       "      <td>0.008942</td>\n",
       "      <td>-0.213125</td>\n",
       "      <td>0.081629</td>\n",
       "      <td>0.217673</td>\n",
       "    </tr>\n",
       "    <tr>\n",
       "      <th>PassengerId</th>\n",
       "      <td>0.020478</td>\n",
       "      <td>0.031027</td>\n",
       "      <td>0.008942</td>\n",
       "      <td>1.000000</td>\n",
       "      <td>0.013406</td>\n",
       "      <td>-0.005007</td>\n",
       "      <td>0.034473</td>\n",
       "    </tr>\n",
       "    <tr>\n",
       "      <th>Sex</th>\n",
       "      <td>0.074529</td>\n",
       "      <td>-0.185745</td>\n",
       "      <td>-0.213125</td>\n",
       "      <td>0.013406</td>\n",
       "      <td>1.000000</td>\n",
       "      <td>-0.543351</td>\n",
       "      <td>-0.566111</td>\n",
       "    </tr>\n",
       "    <tr>\n",
       "      <th>Survived</th>\n",
       "      <td>-0.058635</td>\n",
       "      <td>0.257307</td>\n",
       "      <td>0.081629</td>\n",
       "      <td>-0.005007</td>\n",
       "      <td>-0.543351</td>\n",
       "      <td>1.000000</td>\n",
       "      <td>0.339040</td>\n",
       "    </tr>\n",
       "    <tr>\n",
       "      <th>Is_Married</th>\n",
       "      <td>0.204468</td>\n",
       "      <td>0.140653</td>\n",
       "      <td>0.217673</td>\n",
       "      <td>0.034473</td>\n",
       "      <td>-0.566111</td>\n",
       "      <td>0.339040</td>\n",
       "      <td>1.000000</td>\n",
       "    </tr>\n",
       "  </tbody>\n",
       "</table>\n",
       "</div>"
      ],
      "text/plain": [
       "                  Age      Fare     Parch  PassengerId       Sex  Survived  \\\n",
       "Age          1.000000  0.198707 -0.134239     0.020478  0.074529 -0.058635   \n",
       "Fare         0.198707  1.000000  0.221668     0.031027 -0.185745  0.257307   \n",
       "Parch       -0.134239  0.221668  1.000000     0.008942 -0.213125  0.081629   \n",
       "PassengerId  0.020478  0.031027  0.008942     1.000000  0.013406 -0.005007   \n",
       "Sex          0.074529 -0.185745 -0.213125     0.013406  1.000000 -0.543351   \n",
       "Survived    -0.058635  0.257307  0.081629    -0.005007 -0.543351  1.000000   \n",
       "Is_Married   0.204468  0.140653  0.217673     0.034473 -0.566111  0.339040   \n",
       "\n",
       "             Is_Married  \n",
       "Age            0.204468  \n",
       "Fare           0.140653  \n",
       "Parch          0.217673  \n",
       "PassengerId    0.034473  \n",
       "Sex           -0.566111  \n",
       "Survived       0.339040  \n",
       "Is_Married     1.000000  "
      ]
     },
     "execution_count": 48,
     "metadata": {},
     "output_type": "execute_result"
    }
   ],
   "source": [
    "df_all.select_dtypes('number').corr()"
   ]
  },
  {
   "cell_type": "code",
   "execution_count": 49,
   "id": "24e8fff1",
   "metadata": {
    "execution": {
     "iopub.execute_input": "2024-09-10T10:03:51.243604Z",
     "iopub.status.busy": "2024-09-10T10:03:51.243155Z",
     "iopub.status.idle": "2024-09-10T10:03:51.252217Z",
     "shell.execute_reply": "2024-09-10T10:03:51.250830Z"
    },
    "papermill": {
     "duration": 0.046428,
     "end_time": "2024-09-10T10:03:51.254856",
     "exception": false,
     "start_time": "2024-09-10T10:03:51.208428",
     "status": "completed"
    },
    "tags": []
   },
   "outputs": [
    {
     "name": "stdout",
     "output_type": "stream",
     "text": [
      "Cabin uniques values['M' 'ABCT' 'DE' 'FG']\n",
      "Embarked uniques values['S' 'C' 'Q']\n",
      "Pclass uniques values['3' '1' '2']\n",
      "SibSp uniques values['Small' 'Alone' 'Medium' 'Large']\n",
      "Title uniques values['Mr' 'Miss' 'Highness' 'Other' 'Work']\n"
     ]
    }
   ],
   "source": [
    "for feature in features:\n",
    "    print(f'{feature} uniques values{df_all[feature].unique()}')"
   ]
  },
  {
   "cell_type": "code",
   "execution_count": 50,
   "id": "6282403e",
   "metadata": {
    "execution": {
     "iopub.execute_input": "2024-09-10T10:03:51.324203Z",
     "iopub.status.busy": "2024-09-10T10:03:51.323082Z",
     "iopub.status.idle": "2024-09-10T10:03:51.340012Z",
     "shell.execute_reply": "2024-09-10T10:03:51.338828Z"
    },
    "papermill": {
     "duration": 0.054795,
     "end_time": "2024-09-10T10:03:51.343170",
     "exception": false,
     "start_time": "2024-09-10T10:03:51.288375",
     "status": "completed"
    },
    "tags": []
   },
   "outputs": [],
   "source": [
    "final_df = pd.concat([df_all.drop(features, axis=1), pd.get_dummies(df_all[features], drop_first=True)], axis=1)"
   ]
  },
  {
   "cell_type": "code",
   "execution_count": 51,
   "id": "36375be3",
   "metadata": {
    "execution": {
     "iopub.execute_input": "2024-09-10T10:03:51.415439Z",
     "iopub.status.busy": "2024-09-10T10:03:51.414960Z",
     "iopub.status.idle": "2024-09-10T10:03:51.444726Z",
     "shell.execute_reply": "2024-09-10T10:03:51.443376Z"
    },
    "papermill": {
     "duration": 0.068744,
     "end_time": "2024-09-10T10:03:51.447314",
     "exception": false,
     "start_time": "2024-09-10T10:03:51.378570",
     "status": "completed"
    },
    "tags": []
   },
   "outputs": [
    {
     "data": {
      "text/html": [
       "<div>\n",
       "<style scoped>\n",
       "    .dataframe tbody tr th:only-of-type {\n",
       "        vertical-align: middle;\n",
       "    }\n",
       "\n",
       "    .dataframe tbody tr th {\n",
       "        vertical-align: top;\n",
       "    }\n",
       "\n",
       "    .dataframe thead th {\n",
       "        text-align: right;\n",
       "    }\n",
       "</style>\n",
       "<table border=\"1\" class=\"dataframe\">\n",
       "  <thead>\n",
       "    <tr style=\"text-align: right;\">\n",
       "      <th></th>\n",
       "      <th>Age</th>\n",
       "      <th>Fare</th>\n",
       "      <th>Parch</th>\n",
       "      <th>PassengerId</th>\n",
       "      <th>Sex</th>\n",
       "      <th>Survived</th>\n",
       "      <th>Is_Married</th>\n",
       "      <th>Cabin_DE</th>\n",
       "      <th>Cabin_FG</th>\n",
       "      <th>Cabin_M</th>\n",
       "      <th>...</th>\n",
       "      <th>Embarked_S</th>\n",
       "      <th>Pclass_2</th>\n",
       "      <th>Pclass_3</th>\n",
       "      <th>SibSp_Large</th>\n",
       "      <th>SibSp_Medium</th>\n",
       "      <th>SibSp_Small</th>\n",
       "      <th>Title_Miss</th>\n",
       "      <th>Title_Mr</th>\n",
       "      <th>Title_Other</th>\n",
       "      <th>Title_Work</th>\n",
       "    </tr>\n",
       "  </thead>\n",
       "  <tbody>\n",
       "    <tr>\n",
       "      <th>0</th>\n",
       "      <td>22.0</td>\n",
       "      <td>7.2500</td>\n",
       "      <td>0</td>\n",
       "      <td>1</td>\n",
       "      <td>1</td>\n",
       "      <td>0.0</td>\n",
       "      <td>0</td>\n",
       "      <td>False</td>\n",
       "      <td>False</td>\n",
       "      <td>True</td>\n",
       "      <td>...</td>\n",
       "      <td>True</td>\n",
       "      <td>False</td>\n",
       "      <td>True</td>\n",
       "      <td>False</td>\n",
       "      <td>False</td>\n",
       "      <td>True</td>\n",
       "      <td>False</td>\n",
       "      <td>True</td>\n",
       "      <td>False</td>\n",
       "      <td>False</td>\n",
       "    </tr>\n",
       "    <tr>\n",
       "      <th>1</th>\n",
       "      <td>38.0</td>\n",
       "      <td>71.2833</td>\n",
       "      <td>0</td>\n",
       "      <td>2</td>\n",
       "      <td>0</td>\n",
       "      <td>1.0</td>\n",
       "      <td>1</td>\n",
       "      <td>False</td>\n",
       "      <td>False</td>\n",
       "      <td>False</td>\n",
       "      <td>...</td>\n",
       "      <td>False</td>\n",
       "      <td>False</td>\n",
       "      <td>False</td>\n",
       "      <td>False</td>\n",
       "      <td>False</td>\n",
       "      <td>True</td>\n",
       "      <td>True</td>\n",
       "      <td>False</td>\n",
       "      <td>False</td>\n",
       "      <td>False</td>\n",
       "    </tr>\n",
       "    <tr>\n",
       "      <th>2</th>\n",
       "      <td>26.0</td>\n",
       "      <td>7.9250</td>\n",
       "      <td>0</td>\n",
       "      <td>3</td>\n",
       "      <td>0</td>\n",
       "      <td>1.0</td>\n",
       "      <td>0</td>\n",
       "      <td>False</td>\n",
       "      <td>False</td>\n",
       "      <td>True</td>\n",
       "      <td>...</td>\n",
       "      <td>True</td>\n",
       "      <td>False</td>\n",
       "      <td>True</td>\n",
       "      <td>False</td>\n",
       "      <td>False</td>\n",
       "      <td>False</td>\n",
       "      <td>True</td>\n",
       "      <td>False</td>\n",
       "      <td>False</td>\n",
       "      <td>False</td>\n",
       "    </tr>\n",
       "    <tr>\n",
       "      <th>3</th>\n",
       "      <td>35.0</td>\n",
       "      <td>53.1000</td>\n",
       "      <td>0</td>\n",
       "      <td>4</td>\n",
       "      <td>0</td>\n",
       "      <td>1.0</td>\n",
       "      <td>1</td>\n",
       "      <td>False</td>\n",
       "      <td>False</td>\n",
       "      <td>False</td>\n",
       "      <td>...</td>\n",
       "      <td>True</td>\n",
       "      <td>False</td>\n",
       "      <td>False</td>\n",
       "      <td>False</td>\n",
       "      <td>False</td>\n",
       "      <td>True</td>\n",
       "      <td>True</td>\n",
       "      <td>False</td>\n",
       "      <td>False</td>\n",
       "      <td>False</td>\n",
       "    </tr>\n",
       "    <tr>\n",
       "      <th>4</th>\n",
       "      <td>35.0</td>\n",
       "      <td>8.0500</td>\n",
       "      <td>0</td>\n",
       "      <td>5</td>\n",
       "      <td>1</td>\n",
       "      <td>0.0</td>\n",
       "      <td>0</td>\n",
       "      <td>False</td>\n",
       "      <td>False</td>\n",
       "      <td>True</td>\n",
       "      <td>...</td>\n",
       "      <td>True</td>\n",
       "      <td>False</td>\n",
       "      <td>True</td>\n",
       "      <td>False</td>\n",
       "      <td>False</td>\n",
       "      <td>False</td>\n",
       "      <td>False</td>\n",
       "      <td>True</td>\n",
       "      <td>False</td>\n",
       "      <td>False</td>\n",
       "    </tr>\n",
       "  </tbody>\n",
       "</table>\n",
       "<p>5 rows × 21 columns</p>\n",
       "</div>"
      ],
      "text/plain": [
       "    Age     Fare  Parch  PassengerId  Sex  Survived  Is_Married  Cabin_DE  \\\n",
       "0  22.0   7.2500      0            1    1       0.0           0     False   \n",
       "1  38.0  71.2833      0            2    0       1.0           1     False   \n",
       "2  26.0   7.9250      0            3    0       1.0           0     False   \n",
       "3  35.0  53.1000      0            4    0       1.0           1     False   \n",
       "4  35.0   8.0500      0            5    1       0.0           0     False   \n",
       "\n",
       "   Cabin_FG  Cabin_M  ...  Embarked_S  Pclass_2  Pclass_3  SibSp_Large  \\\n",
       "0     False     True  ...        True     False      True        False   \n",
       "1     False    False  ...       False     False     False        False   \n",
       "2     False     True  ...        True     False      True        False   \n",
       "3     False    False  ...        True     False     False        False   \n",
       "4     False     True  ...        True     False      True        False   \n",
       "\n",
       "   SibSp_Medium  SibSp_Small  Title_Miss  Title_Mr  Title_Other  Title_Work  \n",
       "0         False         True       False      True        False       False  \n",
       "1         False         True        True     False        False       False  \n",
       "2         False        False        True     False        False       False  \n",
       "3         False         True        True     False        False       False  \n",
       "4         False        False       False      True        False       False  \n",
       "\n",
       "[5 rows x 21 columns]"
      ]
     },
     "execution_count": 51,
     "metadata": {},
     "output_type": "execute_result"
    }
   ],
   "source": [
    "final_df.head()"
   ]
  },
  {
   "cell_type": "markdown",
   "id": "0a299251",
   "metadata": {
    "papermill": {
     "duration": 0.035355,
     "end_time": "2024-09-10T10:03:51.517710",
     "exception": false,
     "start_time": "2024-09-10T10:03:51.482355",
     "status": "completed"
    },
    "tags": []
   },
   "source": [
    "## Data split"
   ]
  },
  {
   "cell_type": "code",
   "execution_count": 52,
   "id": "dc56a263",
   "metadata": {
    "execution": {
     "iopub.execute_input": "2024-09-10T10:03:51.587996Z",
     "iopub.status.busy": "2024-09-10T10:03:51.587506Z",
     "iopub.status.idle": "2024-09-10T10:03:51.596846Z",
     "shell.execute_reply": "2024-09-10T10:03:51.595565Z"
    },
    "papermill": {
     "duration": 0.047479,
     "end_time": "2024-09-10T10:03:51.599190",
     "exception": false,
     "start_time": "2024-09-10T10:03:51.551711",
     "status": "completed"
    },
    "tags": []
   },
   "outputs": [
    {
     "data": {
      "text/plain": [
       "array([ 0.,  1., nan])"
      ]
     },
     "execution_count": 52,
     "metadata": {},
     "output_type": "execute_result"
    }
   ],
   "source": [
    "final_df.Survived.unique()"
   ]
  },
  {
   "cell_type": "code",
   "execution_count": 53,
   "id": "9a97ca3d",
   "metadata": {
    "execution": {
     "iopub.execute_input": "2024-09-10T10:03:51.671040Z",
     "iopub.status.busy": "2024-09-10T10:03:51.670552Z",
     "iopub.status.idle": "2024-09-10T10:03:51.685192Z",
     "shell.execute_reply": "2024-09-10T10:03:51.683206Z"
    },
    "papermill": {
     "duration": 0.053772,
     "end_time": "2024-09-10T10:03:51.687951",
     "exception": false,
     "start_time": "2024-09-10T10:03:51.634179",
     "status": "completed"
    },
    "tags": []
   },
   "outputs": [
    {
     "name": "stdout",
     "output_type": "stream",
     "text": [
      "Test (418, 19), Train (891, 20)\n"
     ]
    },
    {
     "name": "stderr",
     "output_type": "stream",
     "text": [
      "/tmp/ipykernel_17/29507858.py:7: SettingWithCopyWarning: \n",
      "A value is trying to be set on a copy of a slice from a DataFrame\n",
      "\n",
      "See the caveats in the documentation: https://pandas.pydata.org/pandas-docs/stable/user_guide/indexing.html#returning-a-view-versus-a-copy\n",
      "  df_train.drop('PassengerId', axis=1, inplace=True)\n"
     ]
    }
   ],
   "source": [
    "df_result = final_df[pd.isna(final_df.Survived)].copy()\n",
    "passengerIDs_result = df_result.PassengerId\n",
    "\n",
    "df_result.drop(['Survived', 'PassengerId'], inplace=True, axis=1)\n",
    "\n",
    "df_train = final_df[pd.notna(final_df.Survived)]\n",
    "df_train.drop('PassengerId', axis=1, inplace=True)\n",
    "print(f'Test {df_result.shape}, Train {df_train.shape}')"
   ]
  },
  {
   "cell_type": "code",
   "execution_count": 54,
   "id": "cce8f0a1",
   "metadata": {
    "execution": {
     "iopub.execute_input": "2024-09-10T10:03:51.759938Z",
     "iopub.status.busy": "2024-09-10T10:03:51.759407Z",
     "iopub.status.idle": "2024-09-10T10:03:51.783813Z",
     "shell.execute_reply": "2024-09-10T10:03:51.782341Z"
    },
    "papermill": {
     "duration": 0.064343,
     "end_time": "2024-09-10T10:03:51.786877",
     "exception": false,
     "start_time": "2024-09-10T10:03:51.722534",
     "status": "completed"
    },
    "tags": []
   },
   "outputs": [
    {
     "data": {
      "text/html": [
       "<div>\n",
       "<style scoped>\n",
       "    .dataframe tbody tr th:only-of-type {\n",
       "        vertical-align: middle;\n",
       "    }\n",
       "\n",
       "    .dataframe tbody tr th {\n",
       "        vertical-align: top;\n",
       "    }\n",
       "\n",
       "    .dataframe thead th {\n",
       "        text-align: right;\n",
       "    }\n",
       "</style>\n",
       "<table border=\"1\" class=\"dataframe\">\n",
       "  <thead>\n",
       "    <tr style=\"text-align: right;\">\n",
       "      <th></th>\n",
       "      <th>Age</th>\n",
       "      <th>Fare</th>\n",
       "      <th>Parch</th>\n",
       "      <th>Sex</th>\n",
       "      <th>Is_Married</th>\n",
       "      <th>Cabin_DE</th>\n",
       "      <th>Cabin_FG</th>\n",
       "      <th>Cabin_M</th>\n",
       "      <th>Embarked_Q</th>\n",
       "      <th>Embarked_S</th>\n",
       "      <th>Pclass_2</th>\n",
       "      <th>Pclass_3</th>\n",
       "      <th>SibSp_Large</th>\n",
       "      <th>SibSp_Medium</th>\n",
       "      <th>SibSp_Small</th>\n",
       "      <th>Title_Miss</th>\n",
       "      <th>Title_Mr</th>\n",
       "      <th>Title_Other</th>\n",
       "      <th>Title_Work</th>\n",
       "    </tr>\n",
       "  </thead>\n",
       "  <tbody>\n",
       "    <tr>\n",
       "      <th>891</th>\n",
       "      <td>34.5</td>\n",
       "      <td>7.8292</td>\n",
       "      <td>0</td>\n",
       "      <td>1</td>\n",
       "      <td>0</td>\n",
       "      <td>False</td>\n",
       "      <td>False</td>\n",
       "      <td>True</td>\n",
       "      <td>True</td>\n",
       "      <td>False</td>\n",
       "      <td>False</td>\n",
       "      <td>True</td>\n",
       "      <td>False</td>\n",
       "      <td>False</td>\n",
       "      <td>False</td>\n",
       "      <td>False</td>\n",
       "      <td>True</td>\n",
       "      <td>False</td>\n",
       "      <td>False</td>\n",
       "    </tr>\n",
       "    <tr>\n",
       "      <th>892</th>\n",
       "      <td>47.0</td>\n",
       "      <td>7.0000</td>\n",
       "      <td>0</td>\n",
       "      <td>0</td>\n",
       "      <td>1</td>\n",
       "      <td>False</td>\n",
       "      <td>False</td>\n",
       "      <td>True</td>\n",
       "      <td>False</td>\n",
       "      <td>True</td>\n",
       "      <td>False</td>\n",
       "      <td>True</td>\n",
       "      <td>False</td>\n",
       "      <td>False</td>\n",
       "      <td>True</td>\n",
       "      <td>True</td>\n",
       "      <td>False</td>\n",
       "      <td>False</td>\n",
       "      <td>False</td>\n",
       "    </tr>\n",
       "    <tr>\n",
       "      <th>893</th>\n",
       "      <td>62.0</td>\n",
       "      <td>9.6875</td>\n",
       "      <td>0</td>\n",
       "      <td>1</td>\n",
       "      <td>0</td>\n",
       "      <td>False</td>\n",
       "      <td>False</td>\n",
       "      <td>True</td>\n",
       "      <td>True</td>\n",
       "      <td>False</td>\n",
       "      <td>True</td>\n",
       "      <td>False</td>\n",
       "      <td>False</td>\n",
       "      <td>False</td>\n",
       "      <td>False</td>\n",
       "      <td>False</td>\n",
       "      <td>True</td>\n",
       "      <td>False</td>\n",
       "      <td>False</td>\n",
       "    </tr>\n",
       "    <tr>\n",
       "      <th>894</th>\n",
       "      <td>27.0</td>\n",
       "      <td>8.6625</td>\n",
       "      <td>0</td>\n",
       "      <td>1</td>\n",
       "      <td>0</td>\n",
       "      <td>False</td>\n",
       "      <td>False</td>\n",
       "      <td>True</td>\n",
       "      <td>False</td>\n",
       "      <td>True</td>\n",
       "      <td>False</td>\n",
       "      <td>True</td>\n",
       "      <td>False</td>\n",
       "      <td>False</td>\n",
       "      <td>False</td>\n",
       "      <td>False</td>\n",
       "      <td>True</td>\n",
       "      <td>False</td>\n",
       "      <td>False</td>\n",
       "    </tr>\n",
       "    <tr>\n",
       "      <th>895</th>\n",
       "      <td>22.0</td>\n",
       "      <td>12.2875</td>\n",
       "      <td>1</td>\n",
       "      <td>0</td>\n",
       "      <td>1</td>\n",
       "      <td>False</td>\n",
       "      <td>False</td>\n",
       "      <td>True</td>\n",
       "      <td>False</td>\n",
       "      <td>True</td>\n",
       "      <td>False</td>\n",
       "      <td>True</td>\n",
       "      <td>False</td>\n",
       "      <td>False</td>\n",
       "      <td>True</td>\n",
       "      <td>True</td>\n",
       "      <td>False</td>\n",
       "      <td>False</td>\n",
       "      <td>False</td>\n",
       "    </tr>\n",
       "  </tbody>\n",
       "</table>\n",
       "</div>"
      ],
      "text/plain": [
       "      Age     Fare  Parch  Sex  Is_Married  Cabin_DE  Cabin_FG  Cabin_M  \\\n",
       "891  34.5   7.8292      0    1           0     False     False     True   \n",
       "892  47.0   7.0000      0    0           1     False     False     True   \n",
       "893  62.0   9.6875      0    1           0     False     False     True   \n",
       "894  27.0   8.6625      0    1           0     False     False     True   \n",
       "895  22.0  12.2875      1    0           1     False     False     True   \n",
       "\n",
       "     Embarked_Q  Embarked_S  Pclass_2  Pclass_3  SibSp_Large  SibSp_Medium  \\\n",
       "891        True       False     False      True        False         False   \n",
       "892       False        True     False      True        False         False   \n",
       "893        True       False      True     False        False         False   \n",
       "894       False        True     False      True        False         False   \n",
       "895       False        True     False      True        False         False   \n",
       "\n",
       "     SibSp_Small  Title_Miss  Title_Mr  Title_Other  Title_Work  \n",
       "891        False       False      True        False       False  \n",
       "892         True        True     False        False       False  \n",
       "893        False       False      True        False       False  \n",
       "894        False       False      True        False       False  \n",
       "895         True        True     False        False       False  "
      ]
     },
     "execution_count": 54,
     "metadata": {},
     "output_type": "execute_result"
    }
   ],
   "source": [
    "df_result.head()"
   ]
  },
  {
   "cell_type": "code",
   "execution_count": 55,
   "id": "536ceec2",
   "metadata": {
    "execution": {
     "iopub.execute_input": "2024-09-10T10:03:51.860132Z",
     "iopub.status.busy": "2024-09-10T10:03:51.859691Z",
     "iopub.status.idle": "2024-09-10T10:03:51.866774Z",
     "shell.execute_reply": "2024-09-10T10:03:51.865490Z"
    },
    "papermill": {
     "duration": 0.04626,
     "end_time": "2024-09-10T10:03:51.869239",
     "exception": false,
     "start_time": "2024-09-10T10:03:51.822979",
     "status": "completed"
    },
    "tags": []
   },
   "outputs": [],
   "source": [
    "X = df_train.drop('Survived', axis=1)\n",
    "y = df_train.Survived"
   ]
  },
  {
   "cell_type": "markdown",
   "id": "f2fee784",
   "metadata": {
    "papermill": {
     "duration": 0.036658,
     "end_time": "2024-09-10T10:03:51.942593",
     "exception": false,
     "start_time": "2024-09-10T10:03:51.905935",
     "status": "completed"
    },
    "tags": []
   },
   "source": [
    "## Scale Inputs"
   ]
  },
  {
   "cell_type": "code",
   "execution_count": 56,
   "id": "5d85651e",
   "metadata": {
    "execution": {
     "iopub.execute_input": "2024-09-10T10:03:52.016224Z",
     "iopub.status.busy": "2024-09-10T10:03:52.015802Z",
     "iopub.status.idle": "2024-09-10T10:03:52.193585Z",
     "shell.execute_reply": "2024-09-10T10:03:52.192406Z"
    },
    "papermill": {
     "duration": 0.219129,
     "end_time": "2024-09-10T10:03:52.197052",
     "exception": false,
     "start_time": "2024-09-10T10:03:51.977923",
     "status": "completed"
    },
    "tags": []
   },
   "outputs": [],
   "source": [
    "from sklearn.preprocessing import StandardScaler"
   ]
  },
  {
   "cell_type": "code",
   "execution_count": 57,
   "id": "3f8adf00",
   "metadata": {
    "execution": {
     "iopub.execute_input": "2024-09-10T10:03:52.269501Z",
     "iopub.status.busy": "2024-09-10T10:03:52.269005Z",
     "iopub.status.idle": "2024-09-10T10:03:52.274683Z",
     "shell.execute_reply": "2024-09-10T10:03:52.273363Z"
    },
    "papermill": {
     "duration": 0.045021,
     "end_time": "2024-09-10T10:03:52.277156",
     "exception": false,
     "start_time": "2024-09-10T10:03:52.232135",
     "status": "completed"
    },
    "tags": []
   },
   "outputs": [],
   "source": [
    "scaler = StandardScaler()"
   ]
  },
  {
   "cell_type": "code",
   "execution_count": 58,
   "id": "cdca7a99",
   "metadata": {
    "execution": {
     "iopub.execute_input": "2024-09-10T10:03:52.349679Z",
     "iopub.status.busy": "2024-09-10T10:03:52.349223Z",
     "iopub.status.idle": "2024-09-10T10:03:52.361429Z",
     "shell.execute_reply": "2024-09-10T10:03:52.360226Z"
    },
    "papermill": {
     "duration": 0.051325,
     "end_time": "2024-09-10T10:03:52.364208",
     "exception": false,
     "start_time": "2024-09-10T10:03:52.312883",
     "status": "completed"
    },
    "tags": []
   },
   "outputs": [],
   "source": [
    "X_scaled = scaler.fit_transform(X)"
   ]
  },
  {
   "cell_type": "code",
   "execution_count": 59,
   "id": "4d186cbe",
   "metadata": {
    "execution": {
     "iopub.execute_input": "2024-09-10T10:03:52.439546Z",
     "iopub.status.busy": "2024-09-10T10:03:52.439090Z",
     "iopub.status.idle": "2024-09-10T10:03:52.448006Z",
     "shell.execute_reply": "2024-09-10T10:03:52.446636Z"
    },
    "papermill": {
     "duration": 0.048806,
     "end_time": "2024-09-10T10:03:52.450876",
     "exception": false,
     "start_time": "2024-09-10T10:03:52.402070",
     "status": "completed"
    },
    "tags": []
   },
   "outputs": [],
   "source": [
    "X_result_scaled = scaler.transform(df_result)"
   ]
  },
  {
   "cell_type": "markdown",
   "id": "a3e30ec9",
   "metadata": {
    "papermill": {
     "duration": 0.036147,
     "end_time": "2024-09-10T10:03:52.522972",
     "exception": false,
     "start_time": "2024-09-10T10:03:52.486825",
     "status": "completed"
    },
    "tags": []
   },
   "source": [
    "# Model"
   ]
  },
  {
   "cell_type": "code",
   "execution_count": 60,
   "id": "64fbed3c",
   "metadata": {
    "execution": {
     "iopub.execute_input": "2024-09-10T10:03:52.600018Z",
     "iopub.status.busy": "2024-09-10T10:03:52.599564Z",
     "iopub.status.idle": "2024-09-10T10:03:52.719186Z",
     "shell.execute_reply": "2024-09-10T10:03:52.718109Z"
    },
    "papermill": {
     "duration": 0.159962,
     "end_time": "2024-09-10T10:03:52.722240",
     "exception": false,
     "start_time": "2024-09-10T10:03:52.562278",
     "status": "completed"
    },
    "tags": []
   },
   "outputs": [],
   "source": [
    "from sklearn.model_selection import StratifiedKFold, cross_val_score"
   ]
  },
  {
   "cell_type": "code",
   "execution_count": 61,
   "id": "dddaa859",
   "metadata": {
    "execution": {
     "iopub.execute_input": "2024-09-10T10:03:52.795167Z",
     "iopub.status.busy": "2024-09-10T10:03:52.794221Z",
     "iopub.status.idle": "2024-09-10T10:03:53.076702Z",
     "shell.execute_reply": "2024-09-10T10:03:53.075554Z"
    },
    "papermill": {
     "duration": 0.322031,
     "end_time": "2024-09-10T10:03:53.079651",
     "exception": false,
     "start_time": "2024-09-10T10:03:52.757620",
     "status": "completed"
    },
    "tags": []
   },
   "outputs": [],
   "source": [
    "from sklearn.ensemble import RandomForestClassifier"
   ]
  },
  {
   "cell_type": "code",
   "execution_count": 62,
   "id": "cbe89d42",
   "metadata": {
    "execution": {
     "iopub.execute_input": "2024-09-10T10:03:53.152251Z",
     "iopub.status.busy": "2024-09-10T10:03:53.151731Z",
     "iopub.status.idle": "2024-09-10T10:03:53.158199Z",
     "shell.execute_reply": "2024-09-10T10:03:53.156862Z"
    },
    "papermill": {
     "duration": 0.045996,
     "end_time": "2024-09-10T10:03:53.160919",
     "exception": false,
     "start_time": "2024-09-10T10:03:53.114923",
     "status": "completed"
    },
    "tags": []
   },
   "outputs": [],
   "source": [
    "skfold = StratifiedKFold(8)\n",
    "model = RandomForestClassifier(oob_score=True)"
   ]
  },
  {
   "cell_type": "code",
   "execution_count": 63,
   "id": "df921aff",
   "metadata": {
    "execution": {
     "iopub.execute_input": "2024-09-10T10:03:53.233003Z",
     "iopub.status.busy": "2024-09-10T10:03:53.232058Z",
     "iopub.status.idle": "2024-09-10T10:03:56.369331Z",
     "shell.execute_reply": "2024-09-10T10:03:56.367824Z"
    },
    "papermill": {
     "duration": 3.176274,
     "end_time": "2024-09-10T10:03:56.372430",
     "exception": false,
     "start_time": "2024-09-10T10:03:53.196156",
     "status": "completed"
    },
    "tags": []
   },
   "outputs": [],
   "source": [
    "scores = cross_val_score(model, X_scaled, y, cv=skfold)"
   ]
  },
  {
   "cell_type": "code",
   "execution_count": 64,
   "id": "9c6674d8",
   "metadata": {
    "execution": {
     "iopub.execute_input": "2024-09-10T10:03:56.446624Z",
     "iopub.status.busy": "2024-09-10T10:03:56.445530Z",
     "iopub.status.idle": "2024-09-10T10:03:56.455062Z",
     "shell.execute_reply": "2024-09-10T10:03:56.453502Z"
    },
    "papermill": {
     "duration": 0.048334,
     "end_time": "2024-09-10T10:03:56.457569",
     "exception": false,
     "start_time": "2024-09-10T10:03:56.409235",
     "status": "completed"
    },
    "tags": []
   },
   "outputs": [
    {
     "data": {
      "text/plain": [
       "array([0.79464286, 0.82142857, 0.8125    , 0.81081081, 0.85585586,\n",
       "       0.72972973, 0.81981982, 0.87387387])"
      ]
     },
     "execution_count": 64,
     "metadata": {},
     "output_type": "execute_result"
    }
   ],
   "source": [
    "scores"
   ]
  },
  {
   "cell_type": "code",
   "execution_count": 65,
   "id": "549cace6",
   "metadata": {
    "execution": {
     "iopub.execute_input": "2024-09-10T10:03:56.528576Z",
     "iopub.status.busy": "2024-09-10T10:03:56.527997Z",
     "iopub.status.idle": "2024-09-10T10:03:56.537170Z",
     "shell.execute_reply": "2024-09-10T10:03:56.535713Z"
    },
    "papermill": {
     "duration": 0.048013,
     "end_time": "2024-09-10T10:03:56.539736",
     "exception": false,
     "start_time": "2024-09-10T10:03:56.491723",
     "status": "completed"
    },
    "tags": []
   },
   "outputs": [
    {
     "data": {
      "text/plain": [
       "0.8148326898326899"
      ]
     },
     "execution_count": 65,
     "metadata": {},
     "output_type": "execute_result"
    }
   ],
   "source": [
    "scores.mean()"
   ]
  },
  {
   "cell_type": "code",
   "execution_count": 66,
   "id": "a0b18edc",
   "metadata": {
    "execution": {
     "iopub.execute_input": "2024-09-10T10:03:56.611486Z",
     "iopub.status.busy": "2024-09-10T10:03:56.610933Z",
     "iopub.status.idle": "2024-09-10T10:03:56.616940Z",
     "shell.execute_reply": "2024-09-10T10:03:56.615727Z"
    },
    "papermill": {
     "duration": 0.045351,
     "end_time": "2024-09-10T10:03:56.619506",
     "exception": false,
     "start_time": "2024-09-10T10:03:56.574155",
     "status": "completed"
    },
    "tags": []
   },
   "outputs": [],
   "source": [
    "from sklearn.model_selection import GridSearchCV\n"
   ]
  },
  {
   "cell_type": "code",
   "execution_count": 67,
   "id": "241e78b2",
   "metadata": {
    "execution": {
     "iopub.execute_input": "2024-09-10T10:03:56.691423Z",
     "iopub.status.busy": "2024-09-10T10:03:56.690697Z",
     "iopub.status.idle": "2024-09-10T10:03:56.697246Z",
     "shell.execute_reply": "2024-09-10T10:03:56.695974Z"
    },
    "papermill": {
     "duration": 0.045679,
     "end_time": "2024-09-10T10:03:56.699988",
     "exception": false,
     "start_time": "2024-09-10T10:03:56.654309",
     "status": "completed"
    },
    "tags": []
   },
   "outputs": [],
   "source": [
    "from sklearn.metrics import classification_report, accuracy_score"
   ]
  },
  {
   "cell_type": "code",
   "execution_count": 68,
   "id": "487c43a3",
   "metadata": {
    "execution": {
     "iopub.execute_input": "2024-09-10T10:03:56.776139Z",
     "iopub.status.busy": "2024-09-10T10:03:56.774671Z",
     "iopub.status.idle": "2024-09-10T10:20:05.195706Z",
     "shell.execute_reply": "2024-09-10T10:20:05.194188Z"
    },
    "papermill": {
     "duration": 968.496685,
     "end_time": "2024-09-10T10:20:05.233392",
     "exception": false,
     "start_time": "2024-09-10T10:03:56.736707",
     "status": "completed"
    },
    "tags": []
   },
   "outputs": [
    {
     "name": "stdout",
     "output_type": "stream",
     "text": [
      "0.8439959826752872\n",
      "{'criterion': 'entropy', 'max_depth': 9, 'max_features': None, 'min_samples_split': 4, 'n_estimators': 89}\n",
      "              precision    recall  f1-score   support\n",
      "\n",
      "         0.0       0.92      0.97      0.95       549\n",
      "         1.0       0.95      0.87      0.91       342\n",
      "\n",
      "    accuracy                           0.93       891\n",
      "   macro avg       0.94      0.92      0.93       891\n",
      "weighted avg       0.93      0.93      0.93       891\n",
      "\n",
      "0.9337822671156004\n"
     ]
    }
   ],
   "source": [
    "skfold = StratifiedKFold(5)\n",
    "model = RandomForestClassifier(random_state=42)\n",
    "hyperParams = {'n_estimators':[89, 89, 90, 91, 92, 100, 103], 'min_samples_split':[2, 3, 4, 5], 'criterion':['entropy', 'log_loss'], 'max_features':['sqrt', 'log2', None], 'max_depth':[7, 8, 9, 11]}\n",
    "gridSearch = GridSearchCV(model, hyperParams, scoring='accuracy', cv=skfold)\n",
    "gridSearch.fit(X_scaled, y)\n",
    "print(gridSearch.best_score_)\n",
    "print(gridSearch.best_params_)\n",
    "y_pred = gridSearch.predict(X_scaled)\n",
    "print(classification_report(y, y_pred))\n",
    "print(accuracy_score(y, y_pred))"
   ]
  },
  {
   "cell_type": "code",
   "execution_count": 69,
   "id": "5c1ae984",
   "metadata": {
    "execution": {
     "iopub.execute_input": "2024-09-10T10:20:05.305974Z",
     "iopub.status.busy": "2024-09-10T10:20:05.305509Z",
     "iopub.status.idle": "2024-09-10T10:20:05.323456Z",
     "shell.execute_reply": "2024-09-10T10:20:05.322215Z"
    },
    "papermill": {
     "duration": 0.058577,
     "end_time": "2024-09-10T10:20:05.326431",
     "exception": false,
     "start_time": "2024-09-10T10:20:05.267854",
     "status": "completed"
    },
    "tags": []
   },
   "outputs": [],
   "source": [
    "y_pred = gridSearch.predict(X_result_scaled)"
   ]
  },
  {
   "cell_type": "code",
   "execution_count": 70,
   "id": "7803b996",
   "metadata": {
    "execution": {
     "iopub.execute_input": "2024-09-10T10:20:05.398610Z",
     "iopub.status.busy": "2024-09-10T10:20:05.397557Z",
     "iopub.status.idle": "2024-09-10T10:20:05.404631Z",
     "shell.execute_reply": "2024-09-10T10:20:05.403100Z"
    },
    "papermill": {
     "duration": 0.046591,
     "end_time": "2024-09-10T10:20:05.407455",
     "exception": false,
     "start_time": "2024-09-10T10:20:05.360864",
     "status": "completed"
    },
    "tags": []
   },
   "outputs": [],
   "source": [
    "result = pd.DataFrame({\n",
    "    'PassengerId': passengerIDs_result,\n",
    "    'Survived': y_pred\n",
    "})"
   ]
  },
  {
   "cell_type": "code",
   "execution_count": 71,
   "id": "ed9a5bff",
   "metadata": {
    "execution": {
     "iopub.execute_input": "2024-09-10T10:20:05.481932Z",
     "iopub.status.busy": "2024-09-10T10:20:05.480577Z",
     "iopub.status.idle": "2024-09-10T10:20:05.496055Z",
     "shell.execute_reply": "2024-09-10T10:20:05.494779Z"
    },
    "papermill": {
     "duration": 0.055822,
     "end_time": "2024-09-10T10:20:05.498701",
     "exception": false,
     "start_time": "2024-09-10T10:20:05.442879",
     "status": "completed"
    },
    "tags": []
   },
   "outputs": [
    {
     "data": {
      "text/html": [
       "<div>\n",
       "<style scoped>\n",
       "    .dataframe tbody tr th:only-of-type {\n",
       "        vertical-align: middle;\n",
       "    }\n",
       "\n",
       "    .dataframe tbody tr th {\n",
       "        vertical-align: top;\n",
       "    }\n",
       "\n",
       "    .dataframe thead th {\n",
       "        text-align: right;\n",
       "    }\n",
       "</style>\n",
       "<table border=\"1\" class=\"dataframe\">\n",
       "  <thead>\n",
       "    <tr style=\"text-align: right;\">\n",
       "      <th></th>\n",
       "      <th>PassengerId</th>\n",
       "      <th>Survived</th>\n",
       "    </tr>\n",
       "  </thead>\n",
       "  <tbody>\n",
       "    <tr>\n",
       "      <th>891</th>\n",
       "      <td>892</td>\n",
       "      <td>0.0</td>\n",
       "    </tr>\n",
       "    <tr>\n",
       "      <th>892</th>\n",
       "      <td>893</td>\n",
       "      <td>0.0</td>\n",
       "    </tr>\n",
       "    <tr>\n",
       "      <th>893</th>\n",
       "      <td>894</td>\n",
       "      <td>0.0</td>\n",
       "    </tr>\n",
       "    <tr>\n",
       "      <th>894</th>\n",
       "      <td>895</td>\n",
       "      <td>0.0</td>\n",
       "    </tr>\n",
       "    <tr>\n",
       "      <th>895</th>\n",
       "      <td>896</td>\n",
       "      <td>1.0</td>\n",
       "    </tr>\n",
       "    <tr>\n",
       "      <th>896</th>\n",
       "      <td>897</td>\n",
       "      <td>0.0</td>\n",
       "    </tr>\n",
       "    <tr>\n",
       "      <th>897</th>\n",
       "      <td>898</td>\n",
       "      <td>0.0</td>\n",
       "    </tr>\n",
       "    <tr>\n",
       "      <th>898</th>\n",
       "      <td>899</td>\n",
       "      <td>0.0</td>\n",
       "    </tr>\n",
       "    <tr>\n",
       "      <th>899</th>\n",
       "      <td>900</td>\n",
       "      <td>1.0</td>\n",
       "    </tr>\n",
       "    <tr>\n",
       "      <th>900</th>\n",
       "      <td>901</td>\n",
       "      <td>0.0</td>\n",
       "    </tr>\n",
       "  </tbody>\n",
       "</table>\n",
       "</div>"
      ],
      "text/plain": [
       "     PassengerId  Survived\n",
       "891          892       0.0\n",
       "892          893       0.0\n",
       "893          894       0.0\n",
       "894          895       0.0\n",
       "895          896       1.0\n",
       "896          897       0.0\n",
       "897          898       0.0\n",
       "898          899       0.0\n",
       "899          900       1.0\n",
       "900          901       0.0"
      ]
     },
     "execution_count": 71,
     "metadata": {},
     "output_type": "execute_result"
    }
   ],
   "source": [
    "result.head(10)"
   ]
  },
  {
   "cell_type": "code",
   "execution_count": 72,
   "id": "1077cadc",
   "metadata": {
    "execution": {
     "iopub.execute_input": "2024-09-10T10:20:05.572376Z",
     "iopub.status.busy": "2024-09-10T10:20:05.571928Z",
     "iopub.status.idle": "2024-09-10T10:20:05.584537Z",
     "shell.execute_reply": "2024-09-10T10:20:05.583059Z"
    },
    "papermill": {
     "duration": 0.053242,
     "end_time": "2024-09-10T10:20:05.587920",
     "exception": false,
     "start_time": "2024-09-10T10:20:05.534678",
     "status": "completed"
    },
    "tags": []
   },
   "outputs": [
    {
     "name": "stdout",
     "output_type": "stream",
     "text": [
      "<class 'pandas.core.frame.DataFrame'>\n",
      "Index: 418 entries, 891 to 1308\n",
      "Data columns (total 2 columns):\n",
      " #   Column       Non-Null Count  Dtype  \n",
      "---  ------       --------------  -----  \n",
      " 0   PassengerId  418 non-null    int64  \n",
      " 1   Survived     418 non-null    float64\n",
      "dtypes: float64(1), int64(1)\n",
      "memory usage: 9.8 KB\n"
     ]
    }
   ],
   "source": [
    "result.info()"
   ]
  },
  {
   "cell_type": "code",
   "execution_count": 73,
   "id": "f346d9d1",
   "metadata": {
    "execution": {
     "iopub.execute_input": "2024-09-10T10:20:05.662711Z",
     "iopub.status.busy": "2024-09-10T10:20:05.662265Z",
     "iopub.status.idle": "2024-09-10T10:20:05.668647Z",
     "shell.execute_reply": "2024-09-10T10:20:05.667368Z"
    },
    "papermill": {
     "duration": 0.046848,
     "end_time": "2024-09-10T10:20:05.671217",
     "exception": false,
     "start_time": "2024-09-10T10:20:05.624369",
     "status": "completed"
    },
    "tags": []
   },
   "outputs": [],
   "source": [
    "result.Survived = result.Survived.astype('int64')"
   ]
  },
  {
   "cell_type": "code",
   "execution_count": 74,
   "id": "164931ca",
   "metadata": {
    "execution": {
     "iopub.execute_input": "2024-09-10T10:20:05.745203Z",
     "iopub.status.busy": "2024-09-10T10:20:05.744693Z",
     "iopub.status.idle": "2024-09-10T10:20:05.758572Z",
     "shell.execute_reply": "2024-09-10T10:20:05.757259Z"
    },
    "papermill": {
     "duration": 0.054351,
     "end_time": "2024-09-10T10:20:05.761706",
     "exception": false,
     "start_time": "2024-09-10T10:20:05.707355",
     "status": "completed"
    },
    "tags": []
   },
   "outputs": [
    {
     "data": {
      "text/html": [
       "<div>\n",
       "<style scoped>\n",
       "    .dataframe tbody tr th:only-of-type {\n",
       "        vertical-align: middle;\n",
       "    }\n",
       "\n",
       "    .dataframe tbody tr th {\n",
       "        vertical-align: top;\n",
       "    }\n",
       "\n",
       "    .dataframe thead th {\n",
       "        text-align: right;\n",
       "    }\n",
       "</style>\n",
       "<table border=\"1\" class=\"dataframe\">\n",
       "  <thead>\n",
       "    <tr style=\"text-align: right;\">\n",
       "      <th></th>\n",
       "      <th>PassengerId</th>\n",
       "      <th>Survived</th>\n",
       "    </tr>\n",
       "  </thead>\n",
       "  <tbody>\n",
       "    <tr>\n",
       "      <th>891</th>\n",
       "      <td>892</td>\n",
       "      <td>0</td>\n",
       "    </tr>\n",
       "    <tr>\n",
       "      <th>892</th>\n",
       "      <td>893</td>\n",
       "      <td>0</td>\n",
       "    </tr>\n",
       "    <tr>\n",
       "      <th>893</th>\n",
       "      <td>894</td>\n",
       "      <td>0</td>\n",
       "    </tr>\n",
       "    <tr>\n",
       "      <th>894</th>\n",
       "      <td>895</td>\n",
       "      <td>0</td>\n",
       "    </tr>\n",
       "    <tr>\n",
       "      <th>895</th>\n",
       "      <td>896</td>\n",
       "      <td>1</td>\n",
       "    </tr>\n",
       "    <tr>\n",
       "      <th>896</th>\n",
       "      <td>897</td>\n",
       "      <td>0</td>\n",
       "    </tr>\n",
       "    <tr>\n",
       "      <th>897</th>\n",
       "      <td>898</td>\n",
       "      <td>0</td>\n",
       "    </tr>\n",
       "    <tr>\n",
       "      <th>898</th>\n",
       "      <td>899</td>\n",
       "      <td>0</td>\n",
       "    </tr>\n",
       "    <tr>\n",
       "      <th>899</th>\n",
       "      <td>900</td>\n",
       "      <td>1</td>\n",
       "    </tr>\n",
       "    <tr>\n",
       "      <th>900</th>\n",
       "      <td>901</td>\n",
       "      <td>0</td>\n",
       "    </tr>\n",
       "  </tbody>\n",
       "</table>\n",
       "</div>"
      ],
      "text/plain": [
       "     PassengerId  Survived\n",
       "891          892         0\n",
       "892          893         0\n",
       "893          894         0\n",
       "894          895         0\n",
       "895          896         1\n",
       "896          897         0\n",
       "897          898         0\n",
       "898          899         0\n",
       "899          900         1\n",
       "900          901         0"
      ]
     },
     "execution_count": 74,
     "metadata": {},
     "output_type": "execute_result"
    }
   ],
   "source": [
    "result.head(10)"
   ]
  },
  {
   "cell_type": "code",
   "execution_count": 75,
   "id": "3aca274f",
   "metadata": {
    "execution": {
     "iopub.execute_input": "2024-09-10T10:20:05.836625Z",
     "iopub.status.busy": "2024-09-10T10:20:05.836128Z",
     "iopub.status.idle": "2024-09-10T10:20:05.846618Z",
     "shell.execute_reply": "2024-09-10T10:20:05.845441Z"
    },
    "papermill": {
     "duration": 0.051565,
     "end_time": "2024-09-10T10:20:05.849524",
     "exception": false,
     "start_time": "2024-09-10T10:20:05.797959",
     "status": "completed"
    },
    "tags": []
   },
   "outputs": [],
   "source": [
    "result.to_csv('submission.csv', header=True, index=False)"
   ]
  },
  {
   "cell_type": "code",
   "execution_count": 76,
   "id": "255d784f",
   "metadata": {
    "execution": {
     "iopub.execute_input": "2024-09-10T10:20:05.923565Z",
     "iopub.status.busy": "2024-09-10T10:20:05.923055Z",
     "iopub.status.idle": "2024-09-10T10:20:05.937623Z",
     "shell.execute_reply": "2024-09-10T10:20:05.936318Z"
    },
    "papermill": {
     "duration": 0.055207,
     "end_time": "2024-09-10T10:20:05.940713",
     "exception": false,
     "start_time": "2024-09-10T10:20:05.885506",
     "status": "completed"
    },
    "tags": []
   },
   "outputs": [
    {
     "data": {
      "text/html": [
       "<div>\n",
       "<style scoped>\n",
       "    .dataframe tbody tr th:only-of-type {\n",
       "        vertical-align: middle;\n",
       "    }\n",
       "\n",
       "    .dataframe tbody tr th {\n",
       "        vertical-align: top;\n",
       "    }\n",
       "\n",
       "    .dataframe thead th {\n",
       "        text-align: right;\n",
       "    }\n",
       "</style>\n",
       "<table border=\"1\" class=\"dataframe\">\n",
       "  <thead>\n",
       "    <tr style=\"text-align: right;\">\n",
       "      <th></th>\n",
       "      <th>PassengerId</th>\n",
       "      <th>Survived</th>\n",
       "    </tr>\n",
       "  </thead>\n",
       "  <tbody>\n",
       "    <tr>\n",
       "      <th>0</th>\n",
       "      <td>892</td>\n",
       "      <td>0</td>\n",
       "    </tr>\n",
       "    <tr>\n",
       "      <th>1</th>\n",
       "      <td>893</td>\n",
       "      <td>0</td>\n",
       "    </tr>\n",
       "    <tr>\n",
       "      <th>2</th>\n",
       "      <td>894</td>\n",
       "      <td>0</td>\n",
       "    </tr>\n",
       "    <tr>\n",
       "      <th>3</th>\n",
       "      <td>895</td>\n",
       "      <td>0</td>\n",
       "    </tr>\n",
       "    <tr>\n",
       "      <th>4</th>\n",
       "      <td>896</td>\n",
       "      <td>1</td>\n",
       "    </tr>\n",
       "  </tbody>\n",
       "</table>\n",
       "</div>"
      ],
      "text/plain": [
       "   PassengerId  Survived\n",
       "0          892         0\n",
       "1          893         0\n",
       "2          894         0\n",
       "3          895         0\n",
       "4          896         1"
      ]
     },
     "execution_count": 76,
     "metadata": {},
     "output_type": "execute_result"
    }
   ],
   "source": [
    "sub = pd.read_csv('./submission.csv')\n",
    "sub.head()"
   ]
  },
  {
   "cell_type": "code",
   "execution_count": 77,
   "id": "61abc827",
   "metadata": {
    "execution": {
     "iopub.execute_input": "2024-09-10T10:20:06.020410Z",
     "iopub.status.busy": "2024-09-10T10:20:06.019884Z",
     "iopub.status.idle": "2024-09-10T10:20:06.026581Z",
     "shell.execute_reply": "2024-09-10T10:20:06.025320Z"
    },
    "papermill": {
     "duration": 0.050848,
     "end_time": "2024-09-10T10:20:06.029968",
     "exception": false,
     "start_time": "2024-09-10T10:20:05.979120",
     "status": "completed"
    },
    "tags": []
   },
   "outputs": [],
   "source": [
    "# from xgboost import XGBClassifier\n",
    "# skfold = StratifiedKFold(5)\n",
    "# model = XGBClassifier()\n",
    "# hyperParams = {'n_estimators':list(range(1, 4)), 'learning_rate':list(np.linspace(0.5, .7, 30)), 'max_depth':list(range(2,6))}\n",
    "# gridSearch = GridSearchCV(model, hyperParams, scoring='accuracy', cv=skfold)\n",
    "# gridSearch.fit(X_scaled, y)\n",
    "# print(gridSearch.best_score_)\n",
    "# print(gridSearch.best_params_)\n",
    "# y_pred = gridSearch.predict(X_scaled)\n",
    "# print(classification_report(y, y_pred))\n",
    "# print(accuracy_score(y, y_pred))"
   ]
  },
  {
   "cell_type": "code",
   "execution_count": null,
   "id": "9d77fd76",
   "metadata": {
    "papermill": {
     "duration": 0.035655,
     "end_time": "2024-09-10T10:20:06.102094",
     "exception": false,
     "start_time": "2024-09-10T10:20:06.066439",
     "status": "completed"
    },
    "tags": []
   },
   "outputs": [],
   "source": []
  }
 ],
 "metadata": {
  "kaggle": {
   "accelerator": "none",
   "dataSources": [
    {
     "databundleVersionId": 26502,
     "sourceId": 3136,
     "sourceType": "competition"
    }
   ],
   "dockerImageVersionId": 30761,
   "isGpuEnabled": false,
   "isInternetEnabled": true,
   "language": "python",
   "sourceType": "notebook"
  },
  "kernelspec": {
   "display_name": "Python 3",
   "language": "python",
   "name": "python3"
  },
  "language_info": {
   "codemirror_mode": {
    "name": "ipython",
    "version": 3
   },
   "file_extension": ".py",
   "mimetype": "text/x-python",
   "name": "python",
   "nbconvert_exporter": "python",
   "pygments_lexer": "ipython3",
   "version": "3.10.14"
  },
  "papermill": {
   "default_parameters": {},
   "duration": 988.179653,
   "end_time": "2024-09-10T10:20:07.064057",
   "environment_variables": {},
   "exception": null,
   "input_path": "__notebook__.ipynb",
   "output_path": "__notebook__.ipynb",
   "parameters": {},
   "start_time": "2024-09-10T10:03:38.884404",
   "version": "2.6.0"
  }
 },
 "nbformat": 4,
 "nbformat_minor": 5
}
