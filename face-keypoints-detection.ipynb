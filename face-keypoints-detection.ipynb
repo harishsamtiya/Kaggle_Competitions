{
 "cells": [
  {
   "cell_type": "code",
   "execution_count": 1,
   "id": "346a5020",
   "metadata": {
    "_cell_guid": "b1076dfc-b9ad-4769-8c92-a6c4dae69d19",
    "_uuid": "8f2839f25d086af736a60e9eeb907d3b93b6e0e5",
    "execution": {
     "iopub.execute_input": "2024-09-21T13:21:56.750410Z",
     "iopub.status.busy": "2024-09-21T13:21:56.749993Z",
     "iopub.status.idle": "2024-09-21T13:22:09.911375Z",
     "shell.execute_reply": "2024-09-21T13:22:09.910557Z"
    },
    "papermill": {
     "duration": 13.174703,
     "end_time": "2024-09-21T13:22:09.913860",
     "exception": false,
     "start_time": "2024-09-21T13:21:56.739157",
     "status": "completed"
    },
    "tags": []
   },
   "outputs": [],
   "source": [
    "# This Python 3 environment comes with many helpful analytics libraries installed\n",
    "# It is defined by the kaggle/python Docker image: https://github.com/kaggle/docker-python\n",
    "# For example, here's several helpful packages to load\n",
    "\n",
    "import numpy as np # linear algebra\n",
    "import pandas as pd # data processing, CSV file I/O (e.g. pd.read_csv)\n",
    "import matplotlib.pyplot as plt\n",
    "import tensorflow as tf\n",
    "from tensorflow import keras\n",
    "from keras import layers\n",
    "\n",
    "# Input data files are available in the read-only \"../input/\" directory\n",
    "# For example, running this (by clicking run or pressing Shift+Enter) will list all files under the input directory\n",
    "\n",
    "import os\n",
    "# You can write up to 20GB to the current directory (/kaggle/working/) that gets preserved as output when you create a version using \"Save & Run All\" \n",
    "# You can also write temporary files to /kaggle/temp/, but they won't be saved outside of the current session"
   ]
  },
  {
   "cell_type": "code",
   "execution_count": 2,
   "id": "65940c7e",
   "metadata": {
    "execution": {
     "iopub.execute_input": "2024-09-21T13:22:09.932560Z",
     "iopub.status.busy": "2024-09-21T13:22:09.931788Z",
     "iopub.status.idle": "2024-09-21T13:22:15.523731Z",
     "shell.execute_reply": "2024-09-21T13:22:15.522751Z"
    },
    "papermill": {
     "duration": 5.603359,
     "end_time": "2024-09-21T13:22:15.525942",
     "exception": false,
     "start_time": "2024-09-21T13:22:09.922583",
     "status": "completed"
    },
    "tags": []
   },
   "outputs": [
    {
     "name": "stdout",
     "output_type": "stream",
     "text": [
      "train shape (7049, 31), test shape (1783, 2)\n"
     ]
    }
   ],
   "source": [
    "import zipfile\n",
    "\n",
    "with zipfile.ZipFile('../input/facial-keypoints-detection/training.zip', 'r') as zip_ref:\n",
    "    with zip_ref.open('training.csv') as file:\n",
    "        train_df = pd.read_csv(file)\n",
    "\n",
    "\n",
    "with zipfile.ZipFile('../input/facial-keypoints-detection/test.zip', 'r') as zip_ref:\n",
    "    with zip_ref.open('test.csv') as file:\n",
    "        test_df = pd.read_csv(file)\n",
    "\n",
    "\n",
    "print(f'train shape {train_df.shape}, test shape {test_df.shape}')"
   ]
  },
  {
   "cell_type": "code",
   "execution_count": 3,
   "id": "4602120a",
   "metadata": {
    "execution": {
     "iopub.execute_input": "2024-09-21T13:22:15.546319Z",
     "iopub.status.busy": "2024-09-21T13:22:15.545923Z",
     "iopub.status.idle": "2024-09-21T13:22:15.557291Z",
     "shell.execute_reply": "2024-09-21T13:22:15.556017Z"
    },
    "papermill": {
     "duration": 0.025185,
     "end_time": "2024-09-21T13:22:15.560469",
     "exception": false,
     "start_time": "2024-09-21T13:22:15.535284",
     "status": "completed"
    },
    "tags": []
   },
   "outputs": [
    {
     "data": {
      "text/plain": [
       "Index(['left_eye_center_x', 'left_eye_center_y', 'right_eye_center_x',\n",
       "       'right_eye_center_y', 'left_eye_inner_corner_x',\n",
       "       'left_eye_inner_corner_y', 'left_eye_outer_corner_x',\n",
       "       'left_eye_outer_corner_y', 'right_eye_inner_corner_x',\n",
       "       'right_eye_inner_corner_y', 'right_eye_outer_corner_x',\n",
       "       'right_eye_outer_corner_y', 'left_eyebrow_inner_end_x',\n",
       "       'left_eyebrow_inner_end_y', 'left_eyebrow_outer_end_x',\n",
       "       'left_eyebrow_outer_end_y', 'right_eyebrow_inner_end_x',\n",
       "       'right_eyebrow_inner_end_y', 'right_eyebrow_outer_end_x',\n",
       "       'right_eyebrow_outer_end_y', 'nose_tip_x', 'nose_tip_y',\n",
       "       'mouth_left_corner_x', 'mouth_left_corner_y', 'mouth_right_corner_x',\n",
       "       'mouth_right_corner_y', 'mouth_center_top_lip_x',\n",
       "       'mouth_center_top_lip_y', 'mouth_center_bottom_lip_x',\n",
       "       'mouth_center_bottom_lip_y', 'Image'],\n",
       "      dtype='object')"
      ]
     },
     "execution_count": 3,
     "metadata": {},
     "output_type": "execute_result"
    }
   ],
   "source": [
    "train_df.columns"
   ]
  },
  {
   "cell_type": "code",
   "execution_count": 4,
   "id": "dff856cb",
   "metadata": {
    "execution": {
     "iopub.execute_input": "2024-09-21T13:22:15.588163Z",
     "iopub.status.busy": "2024-09-21T13:22:15.587040Z",
     "iopub.status.idle": "2024-09-21T13:22:15.604554Z",
     "shell.execute_reply": "2024-09-21T13:22:15.603223Z"
    },
    "papermill": {
     "duration": 0.034216,
     "end_time": "2024-09-21T13:22:15.606786",
     "exception": false,
     "start_time": "2024-09-21T13:22:15.572570",
     "status": "completed"
    },
    "tags": []
   },
   "outputs": [
    {
     "name": "stdout",
     "output_type": "stream",
     "text": [
      "df_all shape (8832, 32)\n"
     ]
    }
   ],
   "source": [
    "all_df = pd.concat([train_df, test_df], axis=0)\n",
    "print(f'df_all shape {all_df.shape}')"
   ]
  },
  {
   "cell_type": "code",
   "execution_count": 5,
   "id": "ca7bb24a",
   "metadata": {
    "execution": {
     "iopub.execute_input": "2024-09-21T13:22:15.636716Z",
     "iopub.status.busy": "2024-09-21T13:22:15.635968Z",
     "iopub.status.idle": "2024-09-21T13:22:26.378541Z",
     "shell.execute_reply": "2024-09-21T13:22:26.377765Z"
    },
    "papermill": {
     "duration": 10.760481,
     "end_time": "2024-09-21T13:22:26.380768",
     "exception": false,
     "start_time": "2024-09-21T13:22:15.620287",
     "status": "completed"
    },
    "tags": []
   },
   "outputs": [],
   "source": [
    "train_df.Image = train_df.Image.apply(lambda imgSt: np.array(imgSt.split(), dtype=np.uint8).reshape((96, 96, 1)))"
   ]
  },
  {
   "cell_type": "code",
   "execution_count": 6,
   "id": "07d00002",
   "metadata": {
    "execution": {
     "iopub.execute_input": "2024-09-21T13:22:26.399722Z",
     "iopub.status.busy": "2024-09-21T13:22:26.399388Z",
     "iopub.status.idle": "2024-09-21T13:22:26.913167Z",
     "shell.execute_reply": "2024-09-21T13:22:26.912271Z"
    },
    "papermill": {
     "duration": 0.525655,
     "end_time": "2024-09-21T13:22:26.915437",
     "exception": false,
     "start_time": "2024-09-21T13:22:26.389782",
     "status": "completed"
    },
    "tags": []
   },
   "outputs": [
    {
     "data": {
      "image/png": "[encoded data removed]",
      "text/plain": [
       "<Figure size 480x480 with 1 Axes>"
      ]
     },
     "metadata": {},
     "output_type": "display_data"
    }
   ],
   "source": [
    "ind = 0\n",
    "img = train_df.Image[ind]\n",
    "\n",
    "plt.matshow(img)\n",
    "\n",
    "for x, y in train_df.iloc[ind].drop('Image').values.reshape((-1, 2)):\n",
    "    if x  and y:\n",
    "        plt.scatter(x,y, color='red')\n",
    "\n",
    "plt.show()"
   ]
  },
  {
   "cell_type": "markdown",
   "id": "2c3b0d56",
   "metadata": {
    "papermill": {
     "duration": 0.009024,
     "end_time": "2024-09-21T13:22:26.933787",
     "exception": false,
     "start_time": "2024-09-21T13:22:26.924763",
     "status": "completed"
    },
    "tags": []
   },
   "source": [
    "## Train and test set split"
   ]
  },
  {
   "cell_type": "code",
   "execution_count": 7,
   "id": "4f88a6af",
   "metadata": {
    "execution": {
     "iopub.execute_input": "2024-09-21T13:22:26.953193Z",
     "iopub.status.busy": "2024-09-21T13:22:26.952861Z",
     "iopub.status.idle": "2024-09-21T13:22:26.988774Z",
     "shell.execute_reply": "2024-09-21T13:22:26.987867Z"
    },
    "papermill": {
     "duration": 0.048346,
     "end_time": "2024-09-21T13:22:26.991182",
     "exception": false,
     "start_time": "2024-09-21T13:22:26.942836",
     "status": "completed"
    },
    "tags": []
   },
   "outputs": [],
   "source": [
    "X = np.stack(train_df['Image'].values)\n",
    "y = train_df.drop('Image', axis=1).values"
   ]
  },
  {
   "cell_type": "code",
   "execution_count": 8,
   "id": "92dab164",
   "metadata": {
    "execution": {
     "iopub.execute_input": "2024-09-21T13:22:27.011529Z",
     "iopub.status.busy": "2024-09-21T13:22:27.010799Z",
     "iopub.status.idle": "2024-09-21T13:22:27.015185Z",
     "shell.execute_reply": "2024-09-21T13:22:27.014422Z"
    },
    "papermill": {
     "duration": 0.016482,
     "end_time": "2024-09-21T13:22:27.017147",
     "exception": false,
     "start_time": "2024-09-21T13:22:27.000665",
     "status": "completed"
    },
    "tags": []
   },
   "outputs": [],
   "source": [
    "y = y/96.0"
   ]
  },
  {
   "cell_type": "code",
   "execution_count": 9,
   "id": "2e991c2d",
   "metadata": {
    "execution": {
     "iopub.execute_input": "2024-09-21T13:22:27.036340Z",
     "iopub.status.busy": "2024-09-21T13:22:27.036048Z",
     "iopub.status.idle": "2024-09-21T13:22:28.150096Z",
     "shell.execute_reply": "2024-09-21T13:22:28.149242Z"
    },
    "papermill": {
     "duration": 1.12672,
     "end_time": "2024-09-21T13:22:28.152861",
     "exception": false,
     "start_time": "2024-09-21T13:22:27.026141",
     "status": "completed"
    },
    "tags": []
   },
   "outputs": [],
   "source": [
    "from sklearn.model_selection import train_test_split\n",
    "X_train, X_test, y_train, y_test = train_test_split(X, y, train_size=0.85, random_state=42)"
   ]
  },
  {
   "cell_type": "code",
   "execution_count": 10,
   "id": "fc6df8a4",
   "metadata": {
    "execution": {
     "iopub.execute_input": "2024-09-21T13:22:28.173226Z",
     "iopub.status.busy": "2024-09-21T13:22:28.172600Z",
     "iopub.status.idle": "2024-09-21T13:22:28.177590Z",
     "shell.execute_reply": "2024-09-21T13:22:28.176739Z"
    },
    "papermill": {
     "duration": 0.017325,
     "end_time": "2024-09-21T13:22:28.179775",
     "exception": false,
     "start_time": "2024-09-21T13:22:28.162450",
     "status": "completed"
    },
    "tags": []
   },
   "outputs": [
    {
     "name": "stdout",
     "output_type": "stream",
     "text": [
      "5991 1058\n"
     ]
    }
   ],
   "source": [
    "print(len(X_train), len(X_test))"
   ]
  },
  {
   "cell_type": "markdown",
   "id": "c42b2d07",
   "metadata": {
    "papermill": {
     "duration": 0.009227,
     "end_time": "2024-09-21T13:22:28.198214",
     "exception": false,
     "start_time": "2024-09-21T13:22:28.188987",
     "status": "completed"
    },
    "tags": []
   },
   "source": [
    "## Model"
   ]
  },
  {
   "cell_type": "code",
   "execution_count": 11,
   "id": "4be83387",
   "metadata": {
    "execution": {
     "iopub.execute_input": "2024-09-21T13:22:28.218004Z",
     "iopub.status.busy": "2024-09-21T13:22:28.217673Z",
     "iopub.status.idle": "2024-09-21T13:23:06.559119Z",
     "shell.execute_reply": "2024-09-21T13:23:06.558297Z"
    },
    "papermill": {
     "duration": 38.35394,
     "end_time": "2024-09-21T13:23:06.561187",
     "exception": false,
     "start_time": "2024-09-21T13:22:28.207247",
     "status": "completed"
    },
    "tags": []
   },
   "outputs": [
    {
     "data": {
      "text/html": [
       "<pre style=\"white-space:pre;overflow-x:auto;line-height:normal;font-family:Menlo,'DejaVu Sans Mono',consolas,'Courier New',monospace\"><span style=\"font-weight: bold\">Model: \"sequential\"</span>\n",
       "</pre>\n"
      ],
      "text/plain": [
       "\u001b[1mModel: \"sequential\"\u001b[0m\n"
      ]
     },
     "metadata": {},
     "output_type": "display_data"
    },
    {
     "data": {
      "text/html": [
       "<pre style=\"white-space:pre;overflow-x:auto;line-height:normal;font-family:Menlo,'DejaVu Sans Mono',consolas,'Courier New',monospace\">┏━━━━━━━━━━━━━━━━━━━━━━━━━━━━━━━━━┳━━━━━━━━━━━━━━━━━━━━━━━━┳━━━━━━━━━━━━━━━┓\n",
       "┃<span style=\"font-weight: bold\"> Layer (type)                    </span>┃<span style=\"font-weight: bold\"> Output Shape           </span>┃<span style=\"font-weight: bold\">       Param # </span>┃\n",
       "┡━━━━━━━━━━━━━━━━━━━━━━━━━━━━━━━━━╇━━━━━━━━━━━━━━━━━━━━━━━━╇━━━━━━━━━━━━━━━┩\n",
       "│ rescaling (<span style=\"color: #0087ff; text-decoration-color: #0087ff\">Rescaling</span>)           │ (<span style=\"color: #00d7ff; text-decoration-color: #00d7ff\">None</span>, <span style=\"color: #00af00; text-decoration-color: #00af00\">96</span>, <span style=\"color: #00af00; text-decoration-color: #00af00\">96</span>, <span style=\"color: #00af00; text-decoration-color: #00af00\">1</span>)      │             <span style=\"color: #00af00; text-decoration-color: #00af00\">0</span> │\n",
       "├─────────────────────────────────┼────────────────────────┼───────────────┤\n",
       "│ conv2d (<span style=\"color: #0087ff; text-decoration-color: #0087ff\">Conv2D</span>)                 │ (<span style=\"color: #00d7ff; text-decoration-color: #00d7ff\">None</span>, <span style=\"color: #00af00; text-decoration-color: #00af00\">92</span>, <span style=\"color: #00af00; text-decoration-color: #00af00\">92</span>, <span style=\"color: #00af00; text-decoration-color: #00af00\">8</span>)      │           <span style=\"color: #00af00; text-decoration-color: #00af00\">208</span> │\n",
       "├─────────────────────────────────┼────────────────────────┼───────────────┤\n",
       "│ max_pooling2d (<span style=\"color: #0087ff; text-decoration-color: #0087ff\">MaxPooling2D</span>)    │ (<span style=\"color: #00d7ff; text-decoration-color: #00d7ff\">None</span>, <span style=\"color: #00af00; text-decoration-color: #00af00\">46</span>, <span style=\"color: #00af00; text-decoration-color: #00af00\">46</span>, <span style=\"color: #00af00; text-decoration-color: #00af00\">8</span>)      │             <span style=\"color: #00af00; text-decoration-color: #00af00\">0</span> │\n",
       "├─────────────────────────────────┼────────────────────────┼───────────────┤\n",
       "│ conv2d_1 (<span style=\"color: #0087ff; text-decoration-color: #0087ff\">Conv2D</span>)               │ (<span style=\"color: #00d7ff; text-decoration-color: #00d7ff\">None</span>, <span style=\"color: #00af00; text-decoration-color: #00af00\">42</span>, <span style=\"color: #00af00; text-decoration-color: #00af00\">42</span>, <span style=\"color: #00af00; text-decoration-color: #00af00\">8</span>)      │         <span style=\"color: #00af00; text-decoration-color: #00af00\">1,608</span> │\n",
       "├─────────────────────────────────┼────────────────────────┼───────────────┤\n",
       "│ max_pooling2d_1 (<span style=\"color: #0087ff; text-decoration-color: #0087ff\">MaxPooling2D</span>)  │ (<span style=\"color: #00d7ff; text-decoration-color: #00d7ff\">None</span>, <span style=\"color: #00af00; text-decoration-color: #00af00\">21</span>, <span style=\"color: #00af00; text-decoration-color: #00af00\">21</span>, <span style=\"color: #00af00; text-decoration-color: #00af00\">8</span>)      │             <span style=\"color: #00af00; text-decoration-color: #00af00\">0</span> │\n",
       "├─────────────────────────────────┼────────────────────────┼───────────────┤\n",
       "│ conv2d_2 (<span style=\"color: #0087ff; text-decoration-color: #0087ff\">Conv2D</span>)               │ (<span style=\"color: #00d7ff; text-decoration-color: #00d7ff\">None</span>, <span style=\"color: #00af00; text-decoration-color: #00af00\">17</span>, <span style=\"color: #00af00; text-decoration-color: #00af00\">17</span>, <span style=\"color: #00af00; text-decoration-color: #00af00\">16</span>)     │         <span style=\"color: #00af00; text-decoration-color: #00af00\">3,216</span> │\n",
       "├─────────────────────────────────┼────────────────────────┼───────────────┤\n",
       "│ max_pooling2d_2 (<span style=\"color: #0087ff; text-decoration-color: #0087ff\">MaxPooling2D</span>)  │ (<span style=\"color: #00d7ff; text-decoration-color: #00d7ff\">None</span>, <span style=\"color: #00af00; text-decoration-color: #00af00\">8</span>, <span style=\"color: #00af00; text-decoration-color: #00af00\">8</span>, <span style=\"color: #00af00; text-decoration-color: #00af00\">16</span>)       │             <span style=\"color: #00af00; text-decoration-color: #00af00\">0</span> │\n",
       "├─────────────────────────────────┼────────────────────────┼───────────────┤\n",
       "│ conv2d_3 (<span style=\"color: #0087ff; text-decoration-color: #0087ff\">Conv2D</span>)               │ (<span style=\"color: #00d7ff; text-decoration-color: #00d7ff\">None</span>, <span style=\"color: #00af00; text-decoration-color: #00af00\">4</span>, <span style=\"color: #00af00; text-decoration-color: #00af00\">4</span>, <span style=\"color: #00af00; text-decoration-color: #00af00\">128</span>)      │        <span style=\"color: #00af00; text-decoration-color: #00af00\">51,328</span> │\n",
       "├─────────────────────────────────┼────────────────────────┼───────────────┤\n",
       "│ max_pooling2d_3 (<span style=\"color: #0087ff; text-decoration-color: #0087ff\">MaxPooling2D</span>)  │ (<span style=\"color: #00d7ff; text-decoration-color: #00d7ff\">None</span>, <span style=\"color: #00af00; text-decoration-color: #00af00\">2</span>, <span style=\"color: #00af00; text-decoration-color: #00af00\">2</span>, <span style=\"color: #00af00; text-decoration-color: #00af00\">128</span>)      │             <span style=\"color: #00af00; text-decoration-color: #00af00\">0</span> │\n",
       "├─────────────────────────────────┼────────────────────────┼───────────────┤\n",
       "│ flatten (<span style=\"color: #0087ff; text-decoration-color: #0087ff\">Flatten</span>)               │ (<span style=\"color: #00d7ff; text-decoration-color: #00d7ff\">None</span>, <span style=\"color: #00af00; text-decoration-color: #00af00\">512</span>)            │             <span style=\"color: #00af00; text-decoration-color: #00af00\">0</span> │\n",
       "├─────────────────────────────────┼────────────────────────┼───────────────┤\n",
       "│ dense (<span style=\"color: #0087ff; text-decoration-color: #0087ff\">Dense</span>)                   │ (<span style=\"color: #00d7ff; text-decoration-color: #00d7ff\">None</span>, <span style=\"color: #00af00; text-decoration-color: #00af00\">64</span>)             │        <span style=\"color: #00af00; text-decoration-color: #00af00\">32,832</span> │\n",
       "├─────────────────────────────────┼────────────────────────┼───────────────┤\n",
       "│ dense_1 (<span style=\"color: #0087ff; text-decoration-color: #0087ff\">Dense</span>)                 │ (<span style=\"color: #00d7ff; text-decoration-color: #00d7ff\">None</span>, <span style=\"color: #00af00; text-decoration-color: #00af00\">30</span>)             │         <span style=\"color: #00af00; text-decoration-color: #00af00\">1,950</span> │\n",
       "└─────────────────────────────────┴────────────────────────┴───────────────┘\n",
       "</pre>\n"
      ],
      "text/plain": [
       "┏━━━━━━━━━━━━━━━━━━━━━━━━━━━━━━━━━┳━━━━━━━━━━━━━━━━━━━━━━━━┳━━━━━━━━━━━━━━━┓\n",
       "┃\u001b[1m \u001b[0m\u001b[1mLayer (type)                   \u001b[0m\u001b[1m \u001b[0m┃\u001b[1m \u001b[0m\u001b[1mOutput Shape          \u001b[0m\u001b[1m \u001b[0m┃\u001b[1m \u001b[0m\u001b[1m      Param #\u001b[0m\u001b[1m \u001b[0m┃\n",
       "┡━━━━━━━━━━━━━━━━━━━━━━━━━━━━━━━━━╇━━━━━━━━━━━━━━━━━━━━━━━━╇━━━━━━━━━━━━━━━┩\n",
       "│ rescaling (\u001b[38;5;33mRescaling\u001b[0m)           │ (\u001b[38;5;45mNone\u001b[0m, \u001b[38;5;34m96\u001b[0m, \u001b[38;5;34m96\u001b[0m, \u001b[38;5;34m1\u001b[0m)      │             \u001b[38;5;34m0\u001b[0m │\n",
       "├─────────────────────────────────┼────────────────────────┼───────────────┤\n",
       "│ conv2d (\u001b[38;5;33mConv2D\u001b[0m)                 │ (\u001b[38;5;45mNone\u001b[0m, \u001b[38;5;34m92\u001b[0m, \u001b[38;5;34m92\u001b[0m, \u001b[38;5;34m8\u001b[0m)      │           \u001b[38;5;34m208\u001b[0m │\n",
       "├─────────────────────────────────┼────────────────────────┼───────────────┤\n",
       "│ max_pooling2d (\u001b[38;5;33mMaxPooling2D\u001b[0m)    │ (\u001b[38;5;45mNone\u001b[0m, \u001b[38;5;34m46\u001b[0m, \u001b[38;5;34m46\u001b[0m, \u001b[38;5;34m8\u001b[0m)      │             \u001b[38;5;34m0\u001b[0m │\n",
       "├─────────────────────────────────┼────────────────────────┼───────────────┤\n",
       "│ conv2d_1 (\u001b[38;5;33mConv2D\u001b[0m)               │ (\u001b[38;5;45mNone\u001b[0m, \u001b[38;5;34m42\u001b[0m, \u001b[38;5;34m42\u001b[0m, \u001b[38;5;34m8\u001b[0m)      │         \u001b[38;5;34m1,608\u001b[0m │\n",
       "├─────────────────────────────────┼────────────────────────┼───────────────┤\n",
       "│ max_pooling2d_1 (\u001b[38;5;33mMaxPooling2D\u001b[0m)  │ (\u001b[38;5;45mNone\u001b[0m, \u001b[38;5;34m21\u001b[0m, \u001b[38;5;34m21\u001b[0m, \u001b[38;5;34m8\u001b[0m)      │             \u001b[38;5;34m0\u001b[0m │\n",
       "├─────────────────────────────────┼────────────────────────┼───────────────┤\n",
       "│ conv2d_2 (\u001b[38;5;33mConv2D\u001b[0m)               │ (\u001b[38;5;45mNone\u001b[0m, \u001b[38;5;34m17\u001b[0m, \u001b[38;5;34m17\u001b[0m, \u001b[38;5;34m16\u001b[0m)     │         \u001b[38;5;34m3,216\u001b[0m │\n",
       "├─────────────────────────────────┼────────────────────────┼───────────────┤\n",
       "│ max_pooling2d_2 (\u001b[38;5;33mMaxPooling2D\u001b[0m)  │ (\u001b[38;5;45mNone\u001b[0m, \u001b[38;5;34m8\u001b[0m, \u001b[38;5;34m8\u001b[0m, \u001b[38;5;34m16\u001b[0m)       │             \u001b[38;5;34m0\u001b[0m │\n",
       "├─────────────────────────────────┼────────────────────────┼───────────────┤\n",
       "│ conv2d_3 (\u001b[38;5;33mConv2D\u001b[0m)               │ (\u001b[38;5;45mNone\u001b[0m, \u001b[38;5;34m4\u001b[0m, \u001b[38;5;34m4\u001b[0m, \u001b[38;5;34m128\u001b[0m)      │        \u001b[38;5;34m51,328\u001b[0m │\n",
       "├─────────────────────────────────┼────────────────────────┼───────────────┤\n",
       "│ max_pooling2d_3 (\u001b[38;5;33mMaxPooling2D\u001b[0m)  │ (\u001b[38;5;45mNone\u001b[0m, \u001b[38;5;34m2\u001b[0m, \u001b[38;5;34m2\u001b[0m, \u001b[38;5;34m128\u001b[0m)      │             \u001b[38;5;34m0\u001b[0m │\n",
       "├─────────────────────────────────┼────────────────────────┼───────────────┤\n",
       "│ flatten (\u001b[38;5;33mFlatten\u001b[0m)               │ (\u001b[38;5;45mNone\u001b[0m, \u001b[38;5;34m512\u001b[0m)            │             \u001b[38;5;34m0\u001b[0m │\n",
       "├─────────────────────────────────┼────────────────────────┼───────────────┤\n",
       "│ dense (\u001b[38;5;33mDense\u001b[0m)                   │ (\u001b[38;5;45mNone\u001b[0m, \u001b[38;5;34m64\u001b[0m)             │        \u001b[38;5;34m32,832\u001b[0m │\n",
       "├─────────────────────────────────┼────────────────────────┼───────────────┤\n",
       "│ dense_1 (\u001b[38;5;33mDense\u001b[0m)                 │ (\u001b[38;5;45mNone\u001b[0m, \u001b[38;5;34m30\u001b[0m)             │         \u001b[38;5;34m1,950\u001b[0m │\n",
       "└─────────────────────────────────┴────────────────────────┴───────────────┘\n"
      ]
     },
     "metadata": {},
     "output_type": "display_data"
    },
    {
     "data": {
      "text/html": [
       "<pre style=\"white-space:pre;overflow-x:auto;line-height:normal;font-family:Menlo,'DejaVu Sans Mono',consolas,'Courier New',monospace\"><span style=\"font-weight: bold\"> Total params: </span><span style=\"color: #00af00; text-decoration-color: #00af00\">91,142</span> (356.02 KB)\n",
       "</pre>\n"
      ],
      "text/plain": [
       "\u001b[1m Total params: \u001b[0m\u001b[38;5;34m91,142\u001b[0m (356.02 KB)\n"
      ]
     },
     "metadata": {},
     "output_type": "display_data"
    },
    {
     "data": {
      "text/html": [
       "<pre style=\"white-space:pre;overflow-x:auto;line-height:normal;font-family:Menlo,'DejaVu Sans Mono',consolas,'Courier New',monospace\"><span style=\"font-weight: bold\"> Trainable params: </span><span style=\"color: #00af00; text-decoration-color: #00af00\">91,142</span> (356.02 KB)\n",
       "</pre>\n"
      ],
      "text/plain": [
       "\u001b[1m Trainable params: \u001b[0m\u001b[38;5;34m91,142\u001b[0m (356.02 KB)\n"
      ]
     },
     "metadata": {},
     "output_type": "display_data"
    },
    {
     "data": {
      "text/html": [
       "<pre style=\"white-space:pre;overflow-x:auto;line-height:normal;font-family:Menlo,'DejaVu Sans Mono',consolas,'Courier New',monospace\"><span style=\"font-weight: bold\"> Non-trainable params: </span><span style=\"color: #00af00; text-decoration-color: #00af00\">0</span> (0.00 B)\n",
       "</pre>\n"
      ],
      "text/plain": [
       "\u001b[1m Non-trainable params: \u001b[0m\u001b[38;5;34m0\u001b[0m (0.00 B)\n"
      ]
     },
     "metadata": {},
     "output_type": "display_data"
    },
    {
     "name": "stdout",
     "output_type": "stream",
     "text": [
      "Epoch 1/100\n"
     ]
    },
    {
     "name": "stderr",
     "output_type": "stream",
     "text": [
      "WARNING: All log messages before absl::InitializeLog() is called are written to STDERR\n",
      "I0000 00:00:1726924951.073169      65 service.cc:145] XLA service 0x78f2f4001840 initialized for platform CUDA (this does not guarantee that XLA will be used). Devices:\n",
      "I0000 00:00:1726924951.073228      65 service.cc:153]   StreamExecutor device (0): Tesla P100-PCIE-16GB, Compute Capability 6.0\n"
     ]
    },
    {
     "name": "stdout",
     "output_type": "stream",
     "text": [
      "\u001b[1m 39/188\u001b[0m \u001b[32m━━━━\u001b[0m\u001b[37m━━━━━━━━━━━━━━━━\u001b[0m \u001b[1m0s\u001b[0m 4ms/step - loss: 0.1269 - masked_mse_metrics: 1.2429"
     ]
    },
    {
     "name": "stderr",
     "output_type": "stream",
     "text": [
      "I0000 00:00:1726924954.515838      65 device_compiler.h:188] Compiled cluster using XLA!  This line is logged at most once for the lifetime of the process.\n"
     ]
    },
    {
     "name": "stdout",
     "output_type": "stream",
     "text": [
      "\u001b[1m188/188\u001b[0m \u001b[32m━━━━━━━━━━━━━━━━━━━━\u001b[0m\u001b[37m\u001b[0m \u001b[1m9s\u001b[0m 22ms/step - loss: 0.0785 - masked_mse_metrics: 0.7688 - val_loss: 0.0399 - val_masked_mse_metrics: 0.3926\n",
      "Epoch 2/100\n",
      "\u001b[1m188/188\u001b[0m \u001b[32m━━━━━━━━━━━━━━━━━━━━\u001b[0m\u001b[37m\u001b[0m \u001b[1m1s\u001b[0m 5ms/step - loss: 0.0404 - masked_mse_metrics: 0.3957 - val_loss: 0.0404 - val_masked_mse_metrics: 0.3979\n",
      "Epoch 3/100\n",
      "\u001b[1m188/188\u001b[0m \u001b[32m━━━━━━━━━━━━━━━━━━━━\u001b[0m\u001b[37m\u001b[0m \u001b[1m1s\u001b[0m 5ms/step - loss: 0.0398 - masked_mse_metrics: 0.3903 - val_loss: 0.0389 - val_masked_mse_metrics: 0.3834\n",
      "Epoch 4/100\n",
      "\u001b[1m188/188\u001b[0m \u001b[32m━━━━━━━━━━━━━━━━━━━━\u001b[0m\u001b[37m\u001b[0m \u001b[1m1s\u001b[0m 5ms/step - loss: 0.0396 - masked_mse_metrics: 0.3878 - val_loss: 0.0357 - val_masked_mse_metrics: 0.3509\n",
      "Epoch 5/100\n",
      "\u001b[1m188/188\u001b[0m \u001b[32m━━━━━━━━━━━━━━━━━━━━\u001b[0m\u001b[37m\u001b[0m \u001b[1m1s\u001b[0m 5ms/step - loss: 0.0363 - masked_mse_metrics: 0.3553 - val_loss: 0.0342 - val_masked_mse_metrics: 0.3366\n",
      "Epoch 6/100\n",
      "\u001b[1m188/188\u001b[0m \u001b[32m━━━━━━━━━━━━━━━━━━━━\u001b[0m\u001b[37m\u001b[0m \u001b[1m1s\u001b[0m 5ms/step - loss: 0.0329 - masked_mse_metrics: 0.3219 - val_loss: 0.0312 - val_masked_mse_metrics: 0.3059\n",
      "Epoch 7/100\n",
      "\u001b[1m188/188\u001b[0m \u001b[32m━━━━━━━━━━━━━━━━━━━━\u001b[0m\u001b[37m\u001b[0m \u001b[1m1s\u001b[0m 5ms/step - loss: 0.0301 - masked_mse_metrics: 0.2951 - val_loss: 0.0289 - val_masked_mse_metrics: 0.2836\n",
      "Epoch 8/100\n",
      "\u001b[1m188/188\u001b[0m \u001b[32m━━━━━━━━━━━━━━━━━━━━\u001b[0m\u001b[37m\u001b[0m \u001b[1m1s\u001b[0m 5ms/step - loss: 0.0289 - masked_mse_metrics: 0.2835 - val_loss: 0.0278 - val_masked_mse_metrics: 0.2721\n",
      "Epoch 9/100\n",
      "\u001b[1m188/188\u001b[0m \u001b[32m━━━━━━━━━━━━━━━━━━━━\u001b[0m\u001b[37m\u001b[0m \u001b[1m1s\u001b[0m 5ms/step - loss: 0.0267 - masked_mse_metrics: 0.2619 - val_loss: 0.0280 - val_masked_mse_metrics: 0.2744\n",
      "Epoch 10/100\n",
      "\u001b[1m188/188\u001b[0m \u001b[32m━━━━━━━━━━━━━━━━━━━━\u001b[0m\u001b[37m\u001b[0m \u001b[1m1s\u001b[0m 5ms/step - loss: 0.0269 - masked_mse_metrics: 0.2639 - val_loss: 0.0272 - val_masked_mse_metrics: 0.2671\n",
      "Epoch 11/100\n",
      "\u001b[1m188/188\u001b[0m \u001b[32m━━━━━━━━━━━━━━━━━━━━\u001b[0m\u001b[37m\u001b[0m \u001b[1m1s\u001b[0m 5ms/step - loss: 0.0254 - masked_mse_metrics: 0.2489 - val_loss: 0.0264 - val_masked_mse_metrics: 0.2586\n",
      "Epoch 12/100\n",
      "\u001b[1m188/188\u001b[0m \u001b[32m━━━━━━━━━━━━━━━━━━━━\u001b[0m\u001b[37m\u001b[0m \u001b[1m1s\u001b[0m 5ms/step - loss: 0.0254 - masked_mse_metrics: 0.2489 - val_loss: 0.0257 - val_masked_mse_metrics: 0.2506\n",
      "Epoch 13/100\n",
      "\u001b[1m188/188\u001b[0m \u001b[32m━━━━━━━━━━━━━━━━━━━━\u001b[0m\u001b[37m\u001b[0m \u001b[1m1s\u001b[0m 4ms/step - loss: 0.0242 - masked_mse_metrics: 0.2366 - val_loss: 0.0249 - val_masked_mse_metrics: 0.2439\n",
      "Epoch 14/100\n",
      "\u001b[1m188/188\u001b[0m \u001b[32m━━━━━━━━━━━━━━━━━━━━\u001b[0m\u001b[37m\u001b[0m \u001b[1m1s\u001b[0m 5ms/step - loss: 0.0237 - masked_mse_metrics: 0.2318 - val_loss: 0.0248 - val_masked_mse_metrics: 0.2422\n",
      "Epoch 15/100\n",
      "\u001b[1m188/188\u001b[0m \u001b[32m━━━━━━━━━━━━━━━━━━━━\u001b[0m\u001b[37m\u001b[0m \u001b[1m1s\u001b[0m 5ms/step - loss: 0.0243 - masked_mse_metrics: 0.2384 - val_loss: 0.0256 - val_masked_mse_metrics: 0.2508\n",
      "Epoch 16/100\n",
      "\u001b[1m188/188\u001b[0m \u001b[32m━━━━━━━━━━━━━━━━━━━━\u001b[0m\u001b[37m\u001b[0m \u001b[1m1s\u001b[0m 5ms/step - loss: 0.0236 - masked_mse_metrics: 0.2309 - val_loss: 0.0245 - val_masked_mse_metrics: 0.2397\n",
      "Epoch 17/100\n",
      "\u001b[1m188/188\u001b[0m \u001b[32m━━━━━━━━━━━━━━━━━━━━\u001b[0m\u001b[37m\u001b[0m \u001b[1m1s\u001b[0m 5ms/step - loss: 0.0233 - masked_mse_metrics: 0.2282 - val_loss: 0.0243 - val_masked_mse_metrics: 0.2376\n",
      "Epoch 18/100\n",
      "\u001b[1m188/188\u001b[0m \u001b[32m━━━━━━━━━━━━━━━━━━━━\u001b[0m\u001b[37m\u001b[0m \u001b[1m1s\u001b[0m 5ms/step - loss: 0.0227 - masked_mse_metrics: 0.2228 - val_loss: 0.0240 - val_masked_mse_metrics: 0.2352\n",
      "Epoch 19/100\n",
      "\u001b[1m188/188\u001b[0m \u001b[32m━━━━━━━━━━━━━━━━━━━━\u001b[0m\u001b[37m\u001b[0m \u001b[1m1s\u001b[0m 5ms/step - loss: 0.0216 - masked_mse_metrics: 0.2112 - val_loss: 0.0239 - val_masked_mse_metrics: 0.2332\n",
      "Epoch 20/100\n",
      "\u001b[1m188/188\u001b[0m \u001b[32m━━━━━━━━━━━━━━━━━━━━\u001b[0m\u001b[37m\u001b[0m \u001b[1m1s\u001b[0m 5ms/step - loss: 0.0215 - masked_mse_metrics: 0.2103 - val_loss: 0.0242 - val_masked_mse_metrics: 0.2375\n",
      "Epoch 21/100\n",
      "\u001b[1m188/188\u001b[0m \u001b[32m━━━━━━━━━━━━━━━━━━━━\u001b[0m\u001b[37m\u001b[0m \u001b[1m1s\u001b[0m 5ms/step - loss: 0.0214 - masked_mse_metrics: 0.2099 - val_loss: 0.0242 - val_masked_mse_metrics: 0.2368\n",
      "Epoch 22/100\n",
      "\u001b[1m188/188\u001b[0m \u001b[32m━━━━━━━━━━━━━━━━━━━━\u001b[0m\u001b[37m\u001b[0m \u001b[1m1s\u001b[0m 5ms/step - loss: 0.0217 - masked_mse_metrics: 0.2129 - val_loss: 0.0233 - val_masked_mse_metrics: 0.2287\n",
      "Epoch 23/100\n",
      "\u001b[1m188/188\u001b[0m \u001b[32m━━━━━━━━━━━━━━━━━━━━\u001b[0m\u001b[37m\u001b[0m \u001b[1m1s\u001b[0m 5ms/step - loss: 0.0223 - masked_mse_metrics: 0.2189 - val_loss: 0.0234 - val_masked_mse_metrics: 0.2290\n",
      "Epoch 24/100\n",
      "\u001b[1m188/188\u001b[0m \u001b[32m━━━━━━━━━━━━━━━━━━━━\u001b[0m\u001b[37m\u001b[0m \u001b[1m1s\u001b[0m 5ms/step - loss: 0.0222 - masked_mse_metrics: 0.2176 - val_loss: 0.0235 - val_masked_mse_metrics: 0.2301\n",
      "Epoch 25/100\n",
      "\u001b[1m188/188\u001b[0m \u001b[32m━━━━━━━━━━━━━━━━━━━━\u001b[0m\u001b[37m\u001b[0m \u001b[1m1s\u001b[0m 5ms/step - loss: 0.0205 - masked_mse_metrics: 0.2009 - val_loss: 0.0239 - val_masked_mse_metrics: 0.2350\n",
      "Epoch 26/100\n",
      "\u001b[1m188/188\u001b[0m \u001b[32m━━━━━━━━━━━━━━━━━━━━\u001b[0m\u001b[37m\u001b[0m \u001b[1m1s\u001b[0m 5ms/step - loss: 0.0196 - masked_mse_metrics: 0.1918 - val_loss: 0.0234 - val_masked_mse_metrics: 0.2288\n",
      "Epoch 27/100\n",
      "\u001b[1m188/188\u001b[0m \u001b[32m━━━━━━━━━━━━━━━━━━━━\u001b[0m\u001b[37m\u001b[0m \u001b[1m1s\u001b[0m 5ms/step - loss: 0.0188 - masked_mse_metrics: 0.1844 - val_loss: 0.0233 - val_masked_mse_metrics: 0.2289\n",
      "Epoch 28/100\n",
      "\u001b[1m188/188\u001b[0m \u001b[32m━━━━━━━━━━━━━━━━━━━━\u001b[0m\u001b[37m\u001b[0m \u001b[1m1s\u001b[0m 5ms/step - loss: 0.0194 - masked_mse_metrics: 0.1897 - val_loss: 0.0237 - val_masked_mse_metrics: 0.2329\n",
      "Epoch 29/100\n",
      "\u001b[1m188/188\u001b[0m \u001b[32m━━━━━━━━━━━━━━━━━━━━\u001b[0m\u001b[37m\u001b[0m \u001b[1m1s\u001b[0m 5ms/step - loss: 0.0188 - masked_mse_metrics: 0.1842 - val_loss: 0.0237 - val_masked_mse_metrics: 0.2334\n",
      "Epoch 30/100\n",
      "\u001b[1m188/188\u001b[0m \u001b[32m━━━━━━━━━━━━━━━━━━━━\u001b[0m\u001b[37m\u001b[0m \u001b[1m1s\u001b[0m 5ms/step - loss: 0.0186 - masked_mse_metrics: 0.1819 - val_loss: 0.0230 - val_masked_mse_metrics: 0.2252\n",
      "Epoch 31/100\n",
      "\u001b[1m188/188\u001b[0m \u001b[32m━━━━━━━━━━━━━━━━━━━━\u001b[0m\u001b[37m\u001b[0m \u001b[1m1s\u001b[0m 5ms/step - loss: 0.0182 - masked_mse_metrics: 0.1785 - val_loss: 0.0229 - val_masked_mse_metrics: 0.2256\n",
      "Epoch 32/100\n",
      "\u001b[1m188/188\u001b[0m \u001b[32m━━━━━━━━━━━━━━━━━━━━\u001b[0m\u001b[37m\u001b[0m \u001b[1m1s\u001b[0m 5ms/step - loss: 0.0180 - masked_mse_metrics: 0.1764 - val_loss: 0.0232 - val_masked_mse_metrics: 0.2287\n"
     ]
    }
   ],
   "source": [
    "def masked_mse_loss(y_true, y_pred):\n",
    "    mask = tf.math.is_nan(y_true)\n",
    "    y_true_masked = tf.boolean_mask(y_true, ~mask)\n",
    "    y_pred_masked = tf.boolean_mask(y_pred, ~mask)\n",
    "    return tf.sqrt(tf.reduce_mean(tf.square(y_true_masked - y_pred_masked)))\n",
    "    \n",
    "def masked_mse_metrics(y_true, y_pred):\n",
    "    mask = tf.math.is_nan(y_true)\n",
    "    y_true_masked = tf.boolean_mask(y_true, ~mask)\n",
    "    y_pred_masked = tf.boolean_mask(y_pred, ~mask)\n",
    "    return tf.sqrt(tf.reduce_mean(tf.square(y_true_masked - y_pred_masked)*96.0))\n",
    "\n",
    "model = keras.Sequential([\n",
    "    keras.Input((96, 96, 1)),\n",
    "    \n",
    "    layers.Rescaling(1./255),\n",
    "    \n",
    "    layers.Conv2D(8, kernel_size=(5, 5), activation='relu'),\n",
    "    layers.MaxPool2D(strides=(2, 2)),\n",
    "    \n",
    "    layers.Conv2D(8, kernel_size=(5, 5), activation='relu'),\n",
    "    layers.MaxPool2D(strides=(2, 2)),\n",
    "    \n",
    "    layers.Conv2D(16, kernel_size=(5, 5), activation='relu'),\n",
    "    layers.MaxPool2D(strides=(2, 2)),\n",
    "    \n",
    "    layers.Conv2D(128, kernel_size=(5, 5), activation='relu'),\n",
    "    layers.MaxPool2D(strides=(2, 2)),\n",
    "    \n",
    "    layers.Flatten(),\n",
    "    \n",
    "    layers.Dense(64, activation='relu'),\n",
    "    layers.Dense(30, activation='sigmoid')\n",
    "])\n",
    "\n",
    "model.compile(\n",
    "    optimizer='adam',\n",
    "    loss= masked_mse_loss,\n",
    "    metrics=[masked_mse_metrics]\n",
    ")\n",
    "early_stopping = tf.keras.callbacks.EarlyStopping(\n",
    "    monitor='val_loss',  \n",
    "    patience=10,\n",
    "    min_delta = 0.0005,\n",
    "    restore_best_weights=True\n",
    ")\n",
    "model.summary()\n",
    "history = model.fit(X_train, y_train, validation_data=(X_test, y_test), epochs=100, callbacks=[early_stopping])"
   ]
  },
  {
   "cell_type": "markdown",
   "id": "bea33333",
   "metadata": {
    "papermill": {
     "duration": 0.053137,
     "end_time": "2024-09-21T13:23:06.669121",
     "exception": false,
     "start_time": "2024-09-21T13:23:06.615984",
     "status": "completed"
    },
    "tags": []
   },
   "source": [
    "## Predictions"
   ]
  },
  {
   "cell_type": "code",
   "execution_count": 12,
   "id": "df567200",
   "metadata": {
    "execution": {
     "iopub.execute_input": "2024-09-21T13:23:06.778661Z",
     "iopub.status.busy": "2024-09-21T13:23:06.777810Z",
     "iopub.status.idle": "2024-09-21T13:23:07.449948Z",
     "shell.execute_reply": "2024-09-21T13:23:07.449113Z"
    },
    "papermill": {
     "duration": 0.729496,
     "end_time": "2024-09-21T13:23:07.452112",
     "exception": false,
     "start_time": "2024-09-21T13:23:06.722616",
     "status": "completed"
    },
    "tags": []
   },
   "outputs": [
    {
     "name": "stdout",
     "output_type": "stream",
     "text": [
      "\u001b[1m34/34\u001b[0m \u001b[32m━━━━━━━━━━━━━━━━━━━━\u001b[0m\u001b[37m\u001b[0m \u001b[1m1s\u001b[0m 9ms/step\n"
     ]
    }
   ],
   "source": [
    "pred = model.predict(X_test).reshape(len(X_test),-1, 2)*96.0\n",
    "y_true = y_test.reshape(len(y_test), -1, 2)*96.0"
   ]
  },
  {
   "cell_type": "code",
   "execution_count": 13,
   "id": "61d0b0df",
   "metadata": {
    "execution": {
     "iopub.execute_input": "2024-09-21T13:23:07.561432Z",
     "iopub.status.busy": "2024-09-21T13:23:07.561116Z",
     "iopub.status.idle": "2024-09-21T13:23:08.367367Z",
     "shell.execute_reply": "2024-09-21T13:23:08.366332Z"
    },
    "papermill": {
     "duration": 0.863176,
     "end_time": "2024-09-21T13:23:08.369574",
     "exception": false,
     "start_time": "2024-09-21T13:23:07.506398",
     "status": "completed"
    },
    "tags": []
   },
   "outputs": [
    {
     "data": {
      "image/png": "[encoded data removed]",
      "text/plain": [
       "<Figure size 500x500 with 2 Axes>"
      ]
     },
     "metadata": {},
     "output_type": "display_data"
    }
   ],
   "source": [
    "ind = 336\n",
    "\n",
    "fig, axs = plt.subplots(1, 2, figsize=(5, 5))\n",
    "\n",
    "axs[0].matshow(X_test[ind])\n",
    "axs[0].axis('off')\n",
    "for x, y in y_true[ind]:\n",
    "    if x  and y:\n",
    "        axs[0].scatter(x,y, color='red')\n",
    "axs[0].set_title('Given Image')\n",
    "        \n",
    "axs[1].matshow(X_test[ind])\n",
    "axs[1].axis('off')\n",
    "for x, y in pred[ind]:\n",
    "    if x  and y:\n",
    "        axs[1].scatter(x,y, color='red')\n",
    "axs[1].set_title('Predicted Image')\n",
    "\n",
    "plt.show()"
   ]
  },
  {
   "cell_type": "markdown",
   "id": "9388f895",
   "metadata": {
    "papermill": {
     "duration": 0.055616,
     "end_time": "2024-09-21T13:23:08.481433",
     "exception": false,
     "start_time": "2024-09-21T13:23:08.425817",
     "status": "completed"
    },
    "tags": []
   },
   "source": [
    "## Submission"
   ]
  },
  {
   "cell_type": "code",
   "execution_count": 14,
   "id": "99dbc50d",
   "metadata": {
    "execution": {
     "iopub.execute_input": "2024-09-21T13:23:08.592517Z",
     "iopub.status.busy": "2024-09-21T13:23:08.592148Z",
     "iopub.status.idle": "2024-09-21T13:23:08.597806Z",
     "shell.execute_reply": "2024-09-21T13:23:08.596992Z"
    },
    "papermill": {
     "duration": 0.062972,
     "end_time": "2024-09-21T13:23:08.599756",
     "exception": false,
     "start_time": "2024-09-21T13:23:08.536784",
     "status": "completed"
    },
    "tags": []
   },
   "outputs": [],
   "source": [
    "mydict = {}\n",
    "for ind, feature in enumerate(train_df.drop('Image', axis=1).columns):\n",
    "    mydict[feature] = ind"
   ]
  },
  {
   "cell_type": "code",
   "execution_count": 15,
   "id": "0d30b207",
   "metadata": {
    "execution": {
     "iopub.execute_input": "2024-09-21T13:23:08.708750Z",
     "iopub.status.busy": "2024-09-21T13:23:08.708237Z",
     "iopub.status.idle": "2024-09-21T13:23:08.722004Z",
     "shell.execute_reply": "2024-09-21T13:23:08.721153Z"
    },
    "papermill": {
     "duration": 0.070333,
     "end_time": "2024-09-21T13:23:08.723982",
     "exception": false,
     "start_time": "2024-09-21T13:23:08.653649",
     "status": "completed"
    },
    "tags": []
   },
   "outputs": [
    {
     "data": {
      "text/html": [
       "<div>\n",
       "<style scoped>\n",
       "    .dataframe tbody tr th:only-of-type {\n",
       "        vertical-align: middle;\n",
       "    }\n",
       "\n",
       "    .dataframe tbody tr th {\n",
       "        vertical-align: top;\n",
       "    }\n",
       "\n",
       "    .dataframe thead th {\n",
       "        text-align: right;\n",
       "    }\n",
       "</style>\n",
       "<table border=\"1\" class=\"dataframe\">\n",
       "  <thead>\n",
       "    <tr style=\"text-align: right;\">\n",
       "      <th></th>\n",
       "      <th>ImageId</th>\n",
       "      <th>Image</th>\n",
       "    </tr>\n",
       "  </thead>\n",
       "  <tbody>\n",
       "    <tr>\n",
       "      <th>0</th>\n",
       "      <td>1</td>\n",
       "      <td>182 183 182 182 180 180 176 169 156 137 124 10...</td>\n",
       "    </tr>\n",
       "    <tr>\n",
       "      <th>1</th>\n",
       "      <td>2</td>\n",
       "      <td>76 87 81 72 65 59 64 76 69 42 31 38 49 58 58 4...</td>\n",
       "    </tr>\n",
       "    <tr>\n",
       "      <th>2</th>\n",
       "      <td>3</td>\n",
       "      <td>177 176 174 170 169 169 168 166 166 166 161 14...</td>\n",
       "    </tr>\n",
       "    <tr>\n",
       "      <th>3</th>\n",
       "      <td>4</td>\n",
       "      <td>176 174 174 175 174 174 176 176 175 171 165 15...</td>\n",
       "    </tr>\n",
       "    <tr>\n",
       "      <th>4</th>\n",
       "      <td>5</td>\n",
       "      <td>50 47 44 101 144 149 120 58 48 42 35 35 37 39 ...</td>\n",
       "    </tr>\n",
       "  </tbody>\n",
       "</table>\n",
       "</div>"
      ],
      "text/plain": [
       "   ImageId                                              Image\n",
       "0        1  182 183 182 182 180 180 176 169 156 137 124 10...\n",
       "1        2  76 87 81 72 65 59 64 76 69 42 31 38 49 58 58 4...\n",
       "2        3  177 176 174 170 169 169 168 166 166 166 161 14...\n",
       "3        4  176 174 174 175 174 174 176 176 175 171 165 15...\n",
       "4        5  50 47 44 101 144 149 120 58 48 42 35 35 37 39 ..."
      ]
     },
     "execution_count": 15,
     "metadata": {},
     "output_type": "execute_result"
    }
   ],
   "source": [
    "test_df.head()"
   ]
  },
  {
   "cell_type": "code",
   "execution_count": 16,
   "id": "bbcc1baa",
   "metadata": {
    "execution": {
     "iopub.execute_input": "2024-09-21T13:23:08.834515Z",
     "iopub.status.busy": "2024-09-21T13:23:08.833947Z",
     "iopub.status.idle": "2024-09-21T13:23:08.885743Z",
     "shell.execute_reply": "2024-09-21T13:23:08.884866Z"
    },
    "papermill": {
     "duration": 0.109062,
     "end_time": "2024-09-21T13:23:08.887836",
     "exception": false,
     "start_time": "2024-09-21T13:23:08.778774",
     "status": "completed"
    },
    "tags": []
   },
   "outputs": [],
   "source": [
    "idloop = pd.read_csv('../input/facial-keypoints-detection/IdLookupTable.csv')\n",
    "idloop.FeatureName = idloop.FeatureName.apply(lambda feature: mydict[feature])"
   ]
  },
  {
   "cell_type": "code",
   "execution_count": 17,
   "id": "c893cffc",
   "metadata": {
    "execution": {
     "iopub.execute_input": "2024-09-21T13:23:08.999847Z",
     "iopub.status.busy": "2024-09-21T13:23:08.999228Z",
     "iopub.status.idle": "2024-09-21T13:23:09.016906Z",
     "shell.execute_reply": "2024-09-21T13:23:09.015876Z"
    },
    "papermill": {
     "duration": 0.07445,
     "end_time": "2024-09-21T13:23:09.018713",
     "exception": false,
     "start_time": "2024-09-21T13:23:08.944263",
     "status": "completed"
    },
    "tags": []
   },
   "outputs": [
    {
     "name": "stdout",
     "output_type": "stream",
     "text": [
      "<class 'pandas.core.frame.DataFrame'>\n",
      "RangeIndex: 27124 entries, 0 to 27123\n",
      "Data columns (total 4 columns):\n",
      " #   Column       Non-Null Count  Dtype  \n",
      "---  ------       --------------  -----  \n",
      " 0   RowId        27124 non-null  int64  \n",
      " 1   ImageId      27124 non-null  int64  \n",
      " 2   FeatureName  27124 non-null  int64  \n",
      " 3   Location     0 non-null      float64\n",
      "dtypes: float64(1), int64(3)\n",
      "memory usage: 847.8 KB\n"
     ]
    }
   ],
   "source": [
    "idloop.info()"
   ]
  },
  {
   "cell_type": "code",
   "execution_count": 18,
   "id": "b62cd364",
   "metadata": {
    "execution": {
     "iopub.execute_input": "2024-09-21T13:23:09.127862Z",
     "iopub.status.busy": "2024-09-21T13:23:09.127551Z",
     "iopub.status.idle": "2024-09-21T13:23:09.133287Z",
     "shell.execute_reply": "2024-09-21T13:23:09.132431Z"
    },
    "papermill": {
     "duration": 0.06251,
     "end_time": "2024-09-21T13:23:09.135148",
     "exception": false,
     "start_time": "2024-09-21T13:23:09.072638",
     "status": "completed"
    },
    "tags": []
   },
   "outputs": [
    {
     "data": {
      "text/plain": [
       "Index(['RowId', 'ImageId', 'FeatureName', 'Location'], dtype='object')"
      ]
     },
     "execution_count": 18,
     "metadata": {},
     "output_type": "execute_result"
    }
   ],
   "source": [
    "idloop.columns"
   ]
  },
  {
   "cell_type": "code",
   "execution_count": 19,
   "id": "ddb7cd54",
   "metadata": {
    "execution": {
     "iopub.execute_input": "2024-09-21T13:23:09.285944Z",
     "iopub.status.busy": "2024-09-21T13:23:09.285273Z",
     "iopub.status.idle": "2024-09-21T13:23:12.038480Z",
     "shell.execute_reply": "2024-09-21T13:23:12.037661Z"
    },
    "papermill": {
     "duration": 2.81117,
     "end_time": "2024-09-21T13:23:12.040718",
     "exception": false,
     "start_time": "2024-09-21T13:23:09.229548",
     "status": "completed"
    },
    "tags": []
   },
   "outputs": [],
   "source": [
    "test = np.stack(test_df.Image.apply(lambda imgSt: np.array(imgSt.split(), dtype=np.uint8).reshape((96, 96, 1))).values)"
   ]
  },
  {
   "cell_type": "code",
   "execution_count": 20,
   "id": "90f5fe90",
   "metadata": {
    "execution": {
     "iopub.execute_input": "2024-09-21T13:23:12.154195Z",
     "iopub.status.busy": "2024-09-21T13:23:12.153875Z",
     "iopub.status.idle": "2024-09-21T13:23:12.711660Z",
     "shell.execute_reply": "2024-09-21T13:23:12.710852Z"
    },
    "papermill": {
     "duration": 0.616636,
     "end_time": "2024-09-21T13:23:12.713940",
     "exception": false,
     "start_time": "2024-09-21T13:23:12.097304",
     "status": "completed"
    },
    "tags": []
   },
   "outputs": [
    {
     "name": "stdout",
     "output_type": "stream",
     "text": [
      "\u001b[1m56/56\u001b[0m \u001b[32m━━━━━━━━━━━━━━━━━━━━\u001b[0m\u001b[37m\u001b[0m \u001b[1m0s\u001b[0m 8ms/step\n"
     ]
    }
   ],
   "source": [
    "test_predict = model.predict(test)*96.0"
   ]
  },
  {
   "cell_type": "code",
   "execution_count": 21,
   "id": "9019decb",
   "metadata": {
    "execution": {
     "iopub.execute_input": "2024-09-21T13:23:12.829021Z",
     "iopub.status.busy": "2024-09-21T13:23:12.828151Z",
     "iopub.status.idle": "2024-09-21T13:23:12.834331Z",
     "shell.execute_reply": "2024-09-21T13:23:12.833442Z"
    },
    "papermill": {
     "duration": 0.065291,
     "end_time": "2024-09-21T13:23:12.836344",
     "exception": false,
     "start_time": "2024-09-21T13:23:12.771053",
     "status": "completed"
    },
    "tags": []
   },
   "outputs": [
    {
     "data": {
      "text/plain": [
       "(1783, 30)"
      ]
     },
     "execution_count": 21,
     "metadata": {},
     "output_type": "execute_result"
    }
   ],
   "source": [
    "test_predict.shape"
   ]
  },
  {
   "cell_type": "code",
   "execution_count": 22,
   "id": "d126c9a4",
   "metadata": {
    "execution": {
     "iopub.execute_input": "2024-09-21T13:23:12.951562Z",
     "iopub.status.busy": "2024-09-21T13:23:12.950819Z",
     "iopub.status.idle": "2024-09-21T13:23:12.956748Z",
     "shell.execute_reply": "2024-09-21T13:23:12.955896Z"
    },
    "papermill": {
     "duration": 0.066416,
     "end_time": "2024-09-21T13:23:12.958767",
     "exception": false,
     "start_time": "2024-09-21T13:23:12.892351",
     "status": "completed"
    },
    "tags": []
   },
   "outputs": [
    {
     "data": {
      "text/plain": [
       "35.01247"
      ]
     },
     "execution_count": 22,
     "metadata": {},
     "output_type": "execute_result"
    }
   ],
   "source": [
    "test_predict[0][1]"
   ]
  },
  {
   "cell_type": "code",
   "execution_count": 23,
   "id": "467cc507",
   "metadata": {
    "execution": {
     "iopub.execute_input": "2024-09-21T13:23:13.071862Z",
     "iopub.status.busy": "2024-09-21T13:23:13.070938Z",
     "iopub.status.idle": "2024-09-21T13:23:13.082004Z",
     "shell.execute_reply": "2024-09-21T13:23:13.081042Z"
    },
    "papermill": {
     "duration": 0.069633,
     "end_time": "2024-09-21T13:23:13.084039",
     "exception": false,
     "start_time": "2024-09-21T13:23:13.014406",
     "status": "completed"
    },
    "tags": []
   },
   "outputs": [
    {
     "data": {
      "text/html": [
       "<div>\n",
       "<style scoped>\n",
       "    .dataframe tbody tr th:only-of-type {\n",
       "        vertical-align: middle;\n",
       "    }\n",
       "\n",
       "    .dataframe tbody tr th {\n",
       "        vertical-align: top;\n",
       "    }\n",
       "\n",
       "    .dataframe thead th {\n",
       "        text-align: right;\n",
       "    }\n",
       "</style>\n",
       "<table border=\"1\" class=\"dataframe\">\n",
       "  <thead>\n",
       "    <tr style=\"text-align: right;\">\n",
       "      <th></th>\n",
       "      <th>RowId</th>\n",
       "      <th>ImageId</th>\n",
       "      <th>FeatureName</th>\n",
       "      <th>Location</th>\n",
       "    </tr>\n",
       "  </thead>\n",
       "  <tbody>\n",
       "    <tr>\n",
       "      <th>0</th>\n",
       "      <td>1</td>\n",
       "      <td>1</td>\n",
       "      <td>0</td>\n",
       "      <td>NaN</td>\n",
       "    </tr>\n",
       "    <tr>\n",
       "      <th>1</th>\n",
       "      <td>2</td>\n",
       "      <td>1</td>\n",
       "      <td>1</td>\n",
       "      <td>NaN</td>\n",
       "    </tr>\n",
       "    <tr>\n",
       "      <th>2</th>\n",
       "      <td>3</td>\n",
       "      <td>1</td>\n",
       "      <td>2</td>\n",
       "      <td>NaN</td>\n",
       "    </tr>\n",
       "    <tr>\n",
       "      <th>3</th>\n",
       "      <td>4</td>\n",
       "      <td>1</td>\n",
       "      <td>3</td>\n",
       "      <td>NaN</td>\n",
       "    </tr>\n",
       "    <tr>\n",
       "      <th>4</th>\n",
       "      <td>5</td>\n",
       "      <td>1</td>\n",
       "      <td>4</td>\n",
       "      <td>NaN</td>\n",
       "    </tr>\n",
       "  </tbody>\n",
       "</table>\n",
       "</div>"
      ],
      "text/plain": [
       "   RowId  ImageId  FeatureName  Location\n",
       "0      1        1            0       NaN\n",
       "1      2        1            1       NaN\n",
       "2      3        1            2       NaN\n",
       "3      4        1            3       NaN\n",
       "4      5        1            4       NaN"
      ]
     },
     "execution_count": 23,
     "metadata": {},
     "output_type": "execute_result"
    }
   ],
   "source": [
    "idloop.head()"
   ]
  },
  {
   "cell_type": "code",
   "execution_count": 24,
   "id": "dff2f72c",
   "metadata": {
    "execution": {
     "iopub.execute_input": "2024-09-21T13:23:13.202386Z",
     "iopub.status.busy": "2024-09-21T13:23:13.201635Z",
     "iopub.status.idle": "2024-09-21T13:23:14.407890Z",
     "shell.execute_reply": "2024-09-21T13:23:14.406937Z"
    },
    "papermill": {
     "duration": 1.265296,
     "end_time": "2024-09-21T13:23:14.410235",
     "exception": false,
     "start_time": "2024-09-21T13:23:13.144939",
     "status": "completed"
    },
    "tags": []
   },
   "outputs": [
    {
     "data": {
      "text/html": [
       "<div>\n",
       "<style scoped>\n",
       "    .dataframe tbody tr th:only-of-type {\n",
       "        vertical-align: middle;\n",
       "    }\n",
       "\n",
       "    .dataframe tbody tr th {\n",
       "        vertical-align: top;\n",
       "    }\n",
       "\n",
       "    .dataframe thead th {\n",
       "        text-align: right;\n",
       "    }\n",
       "</style>\n",
       "<table border=\"1\" class=\"dataframe\">\n",
       "  <thead>\n",
       "    <tr style=\"text-align: right;\">\n",
       "      <th></th>\n",
       "      <th>RowId</th>\n",
       "      <th>ImageId</th>\n",
       "      <th>FeatureName</th>\n",
       "      <th>Location</th>\n",
       "    </tr>\n",
       "  </thead>\n",
       "  <tbody>\n",
       "    <tr>\n",
       "      <th>0</th>\n",
       "      <td>1</td>\n",
       "      <td>1</td>\n",
       "      <td>0</td>\n",
       "      <td>68</td>\n",
       "    </tr>\n",
       "    <tr>\n",
       "      <th>1</th>\n",
       "      <td>2</td>\n",
       "      <td>1</td>\n",
       "      <td>1</td>\n",
       "      <td>35</td>\n",
       "    </tr>\n",
       "    <tr>\n",
       "      <th>2</th>\n",
       "      <td>3</td>\n",
       "      <td>1</td>\n",
       "      <td>2</td>\n",
       "      <td>30</td>\n",
       "    </tr>\n",
       "    <tr>\n",
       "      <th>3</th>\n",
       "      <td>4</td>\n",
       "      <td>1</td>\n",
       "      <td>3</td>\n",
       "      <td>36</td>\n",
       "    </tr>\n",
       "    <tr>\n",
       "      <th>4</th>\n",
       "      <td>5</td>\n",
       "      <td>1</td>\n",
       "      <td>4</td>\n",
       "      <td>62</td>\n",
       "    </tr>\n",
       "  </tbody>\n",
       "</table>\n",
       "</div>"
      ],
      "text/plain": [
       "   RowId  ImageId  FeatureName  Location\n",
       "0      1        1            0        68\n",
       "1      2        1            1        35\n",
       "2      3        1            2        30\n",
       "3      4        1            3        36\n",
       "4      5        1            4        62"
      ]
     },
     "execution_count": 24,
     "metadata": {},
     "output_type": "execute_result"
    }
   ],
   "source": [
    "idloop.Location = [round(test_predict[idloop.ImageId.iloc[i]-1][idloop.FeatureName.iloc[i]])  for i in range(len(idloop))]\n",
    "idloop.head()"
   ]
  },
  {
   "cell_type": "code",
   "execution_count": 25,
   "id": "b43e05d9",
   "metadata": {
    "execution": {
     "iopub.execute_input": "2024-09-21T13:23:14.528068Z",
     "iopub.status.busy": "2024-09-21T13:23:14.527742Z",
     "iopub.status.idle": "2024-09-21T13:23:14.535122Z",
     "shell.execute_reply": "2024-09-21T13:23:14.534048Z"
    },
    "papermill": {
     "duration": 0.066465,
     "end_time": "2024-09-21T13:23:14.537113",
     "exception": false,
     "start_time": "2024-09-21T13:23:14.470648",
     "status": "completed"
    },
    "tags": []
   },
   "outputs": [],
   "source": [
    "submission = idloop[['RowId', 'Location']].copy()\n",
    "submission.Location = submission.Location.astype('int64')"
   ]
  },
  {
   "cell_type": "code",
   "execution_count": 26,
   "id": "8f034589",
   "metadata": {
    "execution": {
     "iopub.execute_input": "2024-09-21T13:23:14.649383Z",
     "iopub.status.busy": "2024-09-21T13:23:14.649053Z",
     "iopub.status.idle": "2024-09-21T13:23:14.658510Z",
     "shell.execute_reply": "2024-09-21T13:23:14.657641Z"
    },
    "papermill": {
     "duration": 0.067724,
     "end_time": "2024-09-21T13:23:14.660488",
     "exception": false,
     "start_time": "2024-09-21T13:23:14.592764",
     "status": "completed"
    },
    "tags": []
   },
   "outputs": [
    {
     "name": "stdout",
     "output_type": "stream",
     "text": [
      "<class 'pandas.core.frame.DataFrame'>\n",
      "RangeIndex: 27124 entries, 0 to 27123\n",
      "Data columns (total 2 columns):\n",
      " #   Column    Non-Null Count  Dtype\n",
      "---  ------    --------------  -----\n",
      " 0   RowId     27124 non-null  int64\n",
      " 1   Location  27124 non-null  int64\n",
      "dtypes: int64(2)\n",
      "memory usage: 423.9 KB\n"
     ]
    }
   ],
   "source": [
    "submission.info()"
   ]
  },
  {
   "cell_type": "code",
   "execution_count": 27,
   "id": "8b240eda",
   "metadata": {
    "execution": {
     "iopub.execute_input": "2024-09-21T13:23:14.774120Z",
     "iopub.status.busy": "2024-09-21T13:23:14.773825Z",
     "iopub.status.idle": "2024-09-21T13:23:14.810089Z",
     "shell.execute_reply": "2024-09-21T13:23:14.809392Z"
    },
    "papermill": {
     "duration": 0.095902,
     "end_time": "2024-09-21T13:23:14.812035",
     "exception": false,
     "start_time": "2024-09-21T13:23:14.716133",
     "status": "completed"
    },
    "tags": []
   },
   "outputs": [],
   "source": [
    "submission.to_csv('submission.csv', index=False)"
   ]
  },
  {
   "cell_type": "code",
   "execution_count": 28,
   "id": "386298d2",
   "metadata": {
    "execution": {
     "iopub.execute_input": "2024-09-21T13:23:14.926570Z",
     "iopub.status.busy": "2024-09-21T13:23:14.926186Z",
     "iopub.status.idle": "2024-09-21T13:23:14.935510Z",
     "shell.execute_reply": "2024-09-21T13:23:14.934602Z"
    },
    "papermill": {
     "duration": 0.069263,
     "end_time": "2024-09-21T13:23:14.937454",
     "exception": false,
     "start_time": "2024-09-21T13:23:14.868191",
     "status": "completed"
    },
    "tags": []
   },
   "outputs": [
    {
     "data": {
      "text/html": [
       "<div>\n",
       "<style scoped>\n",
       "    .dataframe tbody tr th:only-of-type {\n",
       "        vertical-align: middle;\n",
       "    }\n",
       "\n",
       "    .dataframe tbody tr th {\n",
       "        vertical-align: top;\n",
       "    }\n",
       "\n",
       "    .dataframe thead th {\n",
       "        text-align: right;\n",
       "    }\n",
       "</style>\n",
       "<table border=\"1\" class=\"dataframe\">\n",
       "  <thead>\n",
       "    <tr style=\"text-align: right;\">\n",
       "      <th></th>\n",
       "      <th>RowId</th>\n",
       "      <th>Location</th>\n",
       "    </tr>\n",
       "  </thead>\n",
       "  <tbody>\n",
       "    <tr>\n",
       "      <th>0</th>\n",
       "      <td>1</td>\n",
       "      <td>68</td>\n",
       "    </tr>\n",
       "    <tr>\n",
       "      <th>1</th>\n",
       "      <td>2</td>\n",
       "      <td>35</td>\n",
       "    </tr>\n",
       "    <tr>\n",
       "      <th>2</th>\n",
       "      <td>3</td>\n",
       "      <td>30</td>\n",
       "    </tr>\n",
       "    <tr>\n",
       "      <th>3</th>\n",
       "      <td>4</td>\n",
       "      <td>36</td>\n",
       "    </tr>\n",
       "    <tr>\n",
       "      <th>4</th>\n",
       "      <td>5</td>\n",
       "      <td>62</td>\n",
       "    </tr>\n",
       "  </tbody>\n",
       "</table>\n",
       "</div>"
      ],
      "text/plain": [
       "   RowId  Location\n",
       "0      1        68\n",
       "1      2        35\n",
       "2      3        30\n",
       "3      4        36\n",
       "4      5        62"
      ]
     },
     "execution_count": 28,
     "metadata": {},
     "output_type": "execute_result"
    }
   ],
   "source": [
    "submission.head()"
   ]
  },
  {
   "cell_type": "code",
   "execution_count": null,
   "id": "e3836a0e",
   "metadata": {
    "papermill": {
     "duration": 0.057293,
     "end_time": "2024-09-21T13:23:15.052813",
     "exception": false,
     "start_time": "2024-09-21T13:23:14.995520",
     "status": "completed"
    },
    "tags": []
   },
   "outputs": [],
   "source": []
  }
 ],
 "metadata": {
  "kaggle": {
   "accelerator": "gpu",
   "dataSources": [
    {
     "databundleVersionId": 31310,
     "sourceId": 3486,
     "sourceType": "competition"
    }
   ],
   "dockerImageVersionId": 30761,
   "isGpuEnabled": true,
   "isInternetEnabled": true,
   "language": "python",
   "sourceType": "notebook"
  },
  "kernelspec": {
   "display_name": "Python 3",
   "language": "python",
   "name": "python3"
  },
  "language_info": {
   "codemirror_mode": {
    "name": "ipython",
    "version": 3
   },
   "file_extension": ".py",
   "mimetype": "text/x-python",
   "name": "python",
   "nbconvert_exporter": "python",
   "pygments_lexer": "ipython3",
   "version": "3.10.14"
  },
  "papermill": {
   "default_parameters": {},
   "duration": 83.860136,
   "end_time": "2024-09-21T13:23:17.757281",
   "environment_variables": {},
   "exception": null,
   "input_path": "__notebook__.ipynb",
   "output_path": "__notebook__.ipynb",
   "parameters": {},
   "start_time": "2024-09-21T13:21:53.897145",
   "version": "2.6.0"
  }
 },
 "nbformat": 4,
 "nbformat_minor": 5
}
